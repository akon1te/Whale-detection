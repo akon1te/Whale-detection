{
 "cells": [
  {
   "cell_type": "markdown",
   "metadata": {
    "id": "V2yB63SWBOma"
   },
   "source": [
    "# Загрузка данных #"
   ]
  },
  {
   "cell_type": "code",
   "execution_count": 8,
   "metadata": {
    "colab": {
     "base_uri": "https://localhost:8080/"
    },
    "id": "uGxbfRlNw8Ft",
    "outputId": "22758e0a-c8bb-4a57-c0d7-22ae69a1ef72"
   },
   "outputs": [
    {
     "name": "stdout",
     "output_type": "stream",
     "text": [
      "Total files: 1767\n",
      "Labeled '1': 744\n"
     ]
    }
   ],
   "source": [
    "from sklearn.metrics import mean_squared_error, precision_score, balanced_accuracy_score, f1_score, recall_score, accuracy_score, plot_roc_curve, roc_auc_score, roc_curve\n",
    "from sklearn.preprocessing import binarize\n",
    "import csv\n",
    "import numpy as np\n",
    "from typing import List, Dict\n",
    "def printMetrics(Y_files_test, files_preds, threshold=0.5):\n",
    "    print(\"rms: %f\" % np.sqrt(mean_squared_error(Y_files_test, files_preds)))\n",
    "    print(\"Precision score: \",  precision_score(Y_files_test,  binarize(files_preds.reshape(-1, 1), threshold=threshold)))\n",
    "    print(\"Recall score: \",  recall_score(Y_files_test,  binarize(files_preds.reshape(-1, 1), threshold=threshold)))\n",
    "    print(\"Accuracy score: \",  accuracy_score(Y_files_test,  binarize(files_preds.reshape(-1, 1), threshold=threshold)))\n",
    "    print(\"Balanced accuracy score: \",  balanced_accuracy_score(Y_files_test,  binarize(files_preds.reshape(-1, 1), threshold=threshold)))\n",
    "    print(\"F1 score: \",  f1_score(Y_files_test,  binarize(files_preds.reshape(-1, 1), threshold=threshold)))\n",
    "    print(\"F1 weighted score: \",  f1_score(Y_files_test,  binarize(files_preds.reshape(-1, 1), threshold=threshold), average = 'weighted'))\n",
    "\n",
    "def readDataset(csvFilePath:str)->(List, List ):\n",
    "    csv_file = csvFilePath\n",
    "    files = []\n",
    "    labels = []\n",
    "    snr = []\n",
    "    data_folder_name = csv_file[:csv_file.rfind('/')] + '/audio/'\n",
    "    with open(csv_file) as csv_file_obj:\n",
    "        rdr = csv.reader(csv_file_obj, delimiter=';')\n",
    "        skip_first = True\n",
    "        for row in rdr:\n",
    "            if not skip_first:\n",
    "                files.append(data_folder_name + row[0])\n",
    "                labels.append(int(row[1]))\n",
    "                snr.append(float(row[2]))\n",
    "            skip_first = False\n",
    "    return (files, labels)\n",
    "files = []\n",
    "labels = []\n",
    "filesA, labelsA = readDataset('file_path')\n",
    "files.extend(filesA)\n",
    "labels.extend(labelsA)\n",
    "print('Total files: ' + repr(len(files)))\n",
    "print('Labeled \\'1\\': '+repr(np.sum(labels)) )"
   ]
  },
  {
   "cell_type": "code",
   "execution_count": 9,
   "metadata": {
    "colab": {
     "base_uri": "https://localhost:8080/"
    },
    "id": "aw6cQSArfTq-",
    "outputId": "0974e35e-1f6f-4877-b2d0-06597d181c54"
   },
   "outputs": [
    {
     "name": "stdout",
     "output_type": "stream",
     "text": [
      "We study: /home/latna/aponom/whales/Canada/data/clips/dataset_A/train/audio/A_1629.wav with label 1 1\n"
     ]
    }
   ],
   "source": [
    "# data_folder_name = csv_file[:csv_file.rfind('/')] + '/audio/'\n",
    "# my_file_num = 64\n",
    "my_file_num = np.flatnonzero(labels)[703] # так можно перебирать файлы с label=1 для просмотра\n",
    "print(f'We study: {files[my_file_num]} with label 1 {labels[my_file_num]}')"
   ]
  },
  {
   "cell_type": "code",
   "execution_count": 10,
   "metadata": {
    "colab": {
     "base_uri": "https://localhost:8080/"
    },
    "id": "hfITTyLnbOei",
    "outputId": "63aec0d4-118a-4024-be01-4d6694b18eb0"
   },
   "outputs": [
    {
     "data": {
      "text/plain": [
       "1623"
      ]
     },
     "execution_count": 10,
     "metadata": {},
     "output_type": "execute_result"
    }
   ],
   "source": [
    "my_file_num"
   ]
  },
  {
   "cell_type": "code",
   "execution_count": 11,
   "metadata": {
    "colab": {
     "base_uri": "https://localhost:8080/",
     "height": 34
    },
    "id": "F6hY00tNygLr",
    "outputId": "12356680-897b-4d18-83e9-c85b2e536f02"
   },
   "outputs": [
    {
     "data": {
      "text/plain": [
       "'/home/latna/aponom/whales/Canada/data/clips/dataset_A/train/audio/A_0.wav'"
      ]
     },
     "execution_count": 11,
     "metadata": {},
     "output_type": "execute_result"
    }
   ],
   "source": [
    "files[0]"
   ]
  },
  {
   "cell_type": "code",
   "execution_count": 12,
   "metadata": {
    "colab": {
     "base_uri": "https://localhost:8080/"
    },
    "id": "gHzT-ilGS-oY",
    "outputId": "e7778eb4-2693-4ad7-ea72-de5bf0d87a77"
   },
   "outputs": [
    {
     "name": "stdout",
     "output_type": "stream",
     "text": [
      "Sample rate: 22050.000 s\n",
      "Duration: 2.910 s\n"
     ]
    }
   ],
   "source": [
    "import librosa\n",
    "import csv\n",
    "import numpy as np\n",
    "\n",
    "x , sr = librosa.load('file_path')\n",
    "\n",
    "\n",
    "def trim_and_fade(x):\n",
    "    trim_in_out = 1000\n",
    "    fade_in_out = 1000\n",
    "    x = x[trim_in_out:-trim_in_out]\n",
    "    x[:fade_in_out] = x[:fade_in_out] * np.array(range(0, fade_in_out))/fade_in_out\n",
    "    x[-fade_in_out:] = x[-fade_in_out:] * (fade_in_out - 1 - np.array(range(0, fade_in_out)))/fade_in_out\n",
    "    return x\n",
    "x = trim_and_fade(x)\n",
    "print('Sample rate: %0.3f s'  % sr)\n",
    "print('Duration: %0.3f s'  % (x.shape[0] / sr))"
   ]
  },
  {
   "cell_type": "markdown",
   "metadata": {
    "id": "shLCOZl0FjE1"
   },
   "source": [
    "# Визуализируем признаки #"
   ]
  },
  {
   "cell_type": "code",
   "execution_count": 13,
   "metadata": {
    "colab": {
     "base_uri": "https://localhost:8080/",
     "height": 50
    },
    "id": "Omi_sAE-T3t-",
    "outputId": "090ab5fa-e75e-488b-c61f-e682973225e6"
   },
   "outputs": [
    {
     "data": {
      "text/html": [
       "\n",
       "                <audio  controls=\"controls\" >\n",
       "                    <source src=\"data:audio/x-wav;base64,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\" type=\"audio/x-wav\" />\n",
       "                    Your browser does not support the audio element.\n",
       "                </audio>\n",
       "              "
      ],
      "text/plain": [
       "<IPython.lib.display.Audio object>"
      ]
     },
     "execution_count": 13,
     "metadata": {},
     "output_type": "execute_result"
    }
   ],
   "source": [
    "#так можешь послушать, что там (но без фильтров не услышать). может быть без нормализации не услышишь? может быть стоит тогда данные все предварительно нормализовать? или мы испортим инфомацию об энергии? значит их все надо отмасштабировать на одну величину. \n",
    "import IPython.display as ipd\n",
    "ipd.Audio('file_path')"
   ]
  },
  {
   "cell_type": "code",
   "execution_count": 14,
   "metadata": {
    "colab": {
     "base_uri": "https://localhost:8080/",
     "height": 349
    },
    "id": "G1nyc3DjUAh1",
    "outputId": "e1ecbd6e-4c6e-4b2d-ec5e-11cab592dfc8"
   },
   "outputs": [
    {
     "data": {
      "text/plain": [
       "<matplotlib.collections.PolyCollection at 0x7fd87e85d580>"
      ]
     },
     "execution_count": 14,
     "metadata": {},
     "output_type": "execute_result"
    },
    {
     "data": {
      "image/png": "[encoded data removed]",
      "text/plain": [
       "<Figure size 1008x360 with 1 Axes>"
      ]
     },
     "metadata": {
      "needs_background": "light"
     },
     "output_type": "display_data"
    }
   ],
   "source": [
    "%matplotlib inline\n",
    "import matplotlib.pyplot as plt\n",
    "import librosa.display\n",
    "plt.figure(figsize=(14, 5))\n",
    "librosa.display.waveplot(x, sr=sr)"
   ]
  },
  {
   "cell_type": "code",
   "execution_count": 15,
   "metadata": {
    "colab": {
     "base_uri": "https://localhost:8080/",
     "height": 352
    },
    "id": "AG8Tbky0UIxE",
    "outputId": "4721f349-6ae0-49e3-a35c-756099fa769d"
   },
   "outputs": [
    {
     "data": {
      "text/plain": [
       "(0.0, 500.0)"
      ]
     },
     "execution_count": 15,
     "metadata": {},
     "output_type": "execute_result"
    },
    {
     "data": {
      "image/png": "[encoded data removed]",
      "text/plain": [
       "<Figure size 1008x360 with 2 Axes>"
      ]
     },
     "metadata": {
      "needs_background": "light"
     },
     "output_type": "display_data"
    }
   ],
   "source": [
    "# всегда полезно смотреть спектрограмму! она содержит почи всю информацию! #\n",
    "X = librosa.stft(x)\n",
    "Xdb = librosa.amplitude_to_db(abs(X))\n",
    "plt.figure(figsize=(14, 5))\n",
    "librosa.display.specshow(Xdb, sr=sr, x_axis='time', y_axis='hz')\n",
    "plt.colorbar()\n",
    "plt.ylim((0, 500))"
   ]
  },
  {
   "cell_type": "code",
   "execution_count": 16,
   "metadata": {
    "colab": {
     "base_uri": "https://localhost:8080/",
     "height": 298
    },
    "id": "hSJ7FhUxVWoF",
    "outputId": "feb7e796-df44-4923-824a-d32fbb28ad10"
   },
   "outputs": [
    {
     "data": {
      "text/plain": [
       "(0.0, 512.0)"
      ]
     },
     "execution_count": 16,
     "metadata": {},
     "output_type": "execute_result"
    },
    {
     "data": {
      "image/png": "[encoded data removed]",
      "text/plain": [
       "<Figure size 432x288 with 2 Axes>"
      ]
     },
     "metadata": {
      "needs_background": "light"
     },
     "output_type": "display_data"
    }
   ],
   "source": [
    "librosa.display.specshow(Xdb, sr=sr, x_axis='time', y_axis='log')\n",
    "plt.colorbar()\n",
    "plt.ylim((0, 512))"
   ]
  },
  {
   "cell_type": "markdown",
   "metadata": {
    "id": "2RLMtpv9WnWB"
   },
   "source": [
    "# Feature extraction from Audio signal #\n",
    "Всё наше предсказание своидтся к тому, чтобы в звуковом окне посчитать признаки и дальше уже используя эти признаки, произвести классификацию. дальше идут разные признаки и как их извлекать. в одном файле у нас лежит инфа о том, где есть аномалия, а где нет. эту инфу мы будем использовать, чтобы построить обущающую выборку"
   ]
  },
  {
   "cell_type": "markdown",
   "metadata": {
    "id": "0Wx1ROrKW4AZ"
   },
   "source": [
    "## 1. Spectral Centroid ##\n",
    "Спектральный центроид указывает, на какой частоте сосредоточена энергия спектра, или, другими словами, он указывает, где расположен ”центр масс” звука. Это похоже на средневзвешенное значение:\n",
    "\n",
    "![1*DkT47WzLrjigT_KVhDoMuQ.png](data:image/png;base64,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)\n",
    "\n",
    "где S(k) - спектральная величина в ячейке частоты k, f(k) - частота в ячейке k."
   ]
  },
  {
   "cell_type": "code",
   "execution_count": 17,
   "metadata": {
    "colab": {
     "base_uri": "https://localhost:8080/",
     "height": 294
    },
    "id": "SRp1w9gIW8Gt",
    "outputId": "850d9cfd-a087-4bf3-a1f1-acf0fe36316a"
   },
   "outputs": [
    {
     "data": {
      "text/plain": [
       "[<matplotlib.lines.Line2D at 0x7fd847ad2a00>]"
      ]
     },
     "execution_count": 17,
     "metadata": {},
     "output_type": "execute_result"
    },
    {
     "data": {
      "image/png": "[encoded data removed]",
      "text/plain": [
       "<Figure size 864x288 with 1 Axes>"
      ]
     },
     "metadata": {
      "needs_background": "light"
     },
     "output_type": "display_data"
    }
   ],
   "source": [
    "import sklearn\n",
    "spectral_centroids = librosa.feature.spectral_centroid(x, sr=sr)[0]\n",
    "spectral_centroids.shape\n",
    "(775,)\n",
    "# Computing the time variable for visualization\n",
    "plt.figure(figsize=(12, 4))\n",
    "frames = range(len(spectral_centroids))\n",
    "t = librosa.frames_to_time(frames)\n",
    "# Normalising the spectral centroid for visualisation\n",
    "def normalize(x, axis=0):\n",
    "    return sklearn.preprocessing.minmax_scale(x, axis=axis)\n",
    "#Plotting the Spectral Centroid along the waveform\n",
    "librosa.display.waveplot(x, sr=sr, alpha=0.4)\n",
    "plt.plot(t, normalize(spectral_centroids), color='b')"
   ]
  },
  {
   "cell_type": "code",
   "execution_count": 18,
   "metadata": {
    "colab": {
     "base_uri": "https://localhost:8080/"
    },
    "id": "WLiWE_EqGrpv",
    "outputId": "3c635005-ad67-4960-c1a5-1cf5c3cbeb43"
   },
   "outputs": [
    {
     "data": {
      "text/plain": [
       "(126, 64173, 126)"
      ]
     },
     "execution_count": 18,
     "metadata": {},
     "output_type": "execute_result"
    }
   ],
   "source": [
    "len(t), len(x),len(spectral_centroids)"
   ]
  },
  {
   "cell_type": "markdown",
   "metadata": {
    "id": "SBd9n4o5Yevo"
   },
   "source": [
    "## 2. Spectral Rolloff ##\n",
    "Это мера формы сигнала. Он представляет частоту, при которой высокие частоты снижаются до 0. Чтобы получить его, мы должны рассчитать долю ячеек в спектре мощности, где 85% его мощности приходится на более низкие частоты."
   ]
  },
  {
   "cell_type": "code",
   "execution_count": 19,
   "metadata": {
    "colab": {
     "base_uri": "https://localhost:8080/",
     "height": 294
    },
    "id": "yphA_NYBYqe8",
    "outputId": "0f73ae2b-a22c-4073-8eaa-e8e4f3bd117c"
   },
   "outputs": [
    {
     "data": {
      "text/plain": [
       "[<matplotlib.lines.Line2D at 0x7fd847abe970>]"
      ]
     },
     "execution_count": 19,
     "metadata": {},
     "output_type": "execute_result"
    },
    {
     "data": {
      "image/png": "[encoded data removed]",
      "text/plain": [
       "<Figure size 864x288 with 1 Axes>"
      ]
     },
     "metadata": {
      "needs_background": "light"
     },
     "output_type": "display_data"
    }
   ],
   "source": [
    "spectral_rolloff = librosa.feature.spectral_rolloff(x+0.01, sr=sr)[0]\n",
    "plt.figure(figsize=(12, 4))\n",
    "librosa.display.waveplot(x, sr=sr, alpha=0.4)\n",
    "plt.plot(t, normalize(spectral_rolloff), color='r')"
   ]
  },
  {
   "cell_type": "markdown",
   "metadata": {
    "id": "g1APvw9RY6Ke"
   },
   "source": [
    "\n",
    "## 3. Spectral Bandwidth ##\n",
    "\n",
    "Спектральная полоса пропускания определяется как ширина полосы света при половине максимального пика (или полная ширина при половинном максимуме [FWHM]) и представлена двумя вертикальными красными линиями и λSB на оси \n",
    "![1*oUtYY0-j6iEc78Dew3d0uA.png](data:image/png;base64,iVBORw0KGgoAAAANSUhEUgAAAgMAAAI2CAIAAABCDhweAACAAElEQVR42uzdB1gT5x8H8N9ls0GmyAYXCAhOwFlHHa2rtVbbWmuHtUNt7bbL1X/t1Kq11tZZ665778GSvURQERVECKAMJSHj/k9yERDQqoWQwPfz8ChkXC7vJfnm7nfv+wpYliUAAGjBeGgCAAAkAQAAIAkAAABJAAAASAIAAEASAAAAkgAAAJAEAACAJAAAACQBAAAgCQAAAEkAAABIAgAAQBIAAACSAAAAWgDBQ97ui08/27d3r7mFBZoMAMAA3bl929vHZ+PWLY2YBFKpdPiIp58bNw7NDQBggBITEpf88kvj7hPweIxfp06d/P3R3AAABkipVJqamDzefVEnAABo6ZAEAABIAgAAQBIAAACSAAAAkAQAcNeli5f69eqVkpyMpgAkAUALVVkpz83JlcvlaApAEgAAAJIAAACQBAAAgCQAAAAkAQAAIAkAAABJANCCWFlZDXv6qVatWqEpoIUQoAkAanFu02bR4sVoB8A+AQAAIAkAAABJAAAASAIAAEASAAAAkgAAAJAEAACAJABoSS5nZQ0b/GRaahqaApAEAC2UTCa7kJlZUXEHTQFIAgAAQBIAAACSAAAAkAQAAIAkAAAAJAEAACAJAFoQcwuLfv37W1lboymghcBMNQC1ubq6rli1Eu0A2CcAAAAkAQAAIAkAAABJAAAASAIAAEASAAAAkgAAAJAEAC3J7qMpvYbN3LQ7Bk0BSAKAFmrKV0lZpUHvLchAUwCSAKAlUijVVb/frlCgQQBJANDixJ8vqvo9KrUQDQJIAoAWJyKxoOr38MR8NAggCQBanPDEG5r/VLc0qRB/Aw0CSAKAlkWhVMclSolIUHaCiFLTiu7IUCoAJAFAS5KYUSyXKUVinqg8wdycr1azUalFaBZAEgC0IFxhwL+jVffuXQN8LTWXJOAAESAJAFpUEmg/9weEePy9edOQ3m2JKAJJAEgCgJZDqVLHJUmJKKyzY9W/qedQKgAkAUCLkZhRLKtQiiWCoA6tiKiDh6WVtVilZM+iVABIAoAWIjwhn4i6dLYX8DXvC4ZhegRrdgvOJOIAESAJAFqGiKR87UEhp6pLuN8jEtC/DJAEBmDVnytnvPPusaNHscGgkShV6tikAu2nv0ONJND8npJWeEemRBMBkqCJxcXE7N2z59LFi9hg0EiSM29W3FaKJfygDrZVF3b0tLKyEquUbEyaFE0ESAKAZi5ce2goONBBKKh+UzAM0z2IKxUUoIkASQDQ3JMgPr/qzNFr16698tLEzMxMzSXaojEGIAIkAUAzp1KpY7T7BKHawkB5WdmZ06dLS0o0SRCoSYKUc0UoFQCSAKA5S7pws+K2UiTmB9coEnB8vaysrMRKhTr2HOYqACQBQPMVoT1rKCjAXiTk17qqqlQQjnNJAUkA0Ixxww2Faj/x6wpFEgCSAKB5U6nUsdpTg3p1rj8JwgIdiCg5rbBCjlIBIAkAmqPki7dulyvqLRJw/LytLaxEKBUAkgCg2eIGmegcYCcW8eu9QdUAROEJ6FUASAKA5ogrAITWGG7IxMTEz8/P1NSs6pJQ7bmk4RiKDpopAZoAWjK1mo1JyK813JCHp+eOvXtq3ozrcZaUWlghV5qI8a4B7BMANCMpF2/eLleIRPyuHe0ecDM/L2tzS5GyEqUCQBIANDvh2p4EgfcvEujeJzymh/Zc0ggMQARIAoBmhpumOPQ+54/WdLdXAUoFgCQAaEbUavbsA3sS1MQNQJSYWiirRK8CQBIANBepl26Vl1YKRLwuvrb/euNO3ndLBWmY1hiQBADNha4nQSc7iejfTwfi8Zju2vOLuJkMAJAEAM0B15MgLMjpIW8fGoRpjQFJANCMqNVsdEL1nAQ15ebkvPPm1EsXL9W6nBuAKCFFilIBIAkAmoNzWboiQVff2j0JSktLDx44cPNmca3L/X1szC1Eykp13DmUCgBJAGD8dD0JOtk9fJ9hHo/pxpUK0KsAkAQAzSEJtIMIcQMKPTxdrwIMQARIAgBjx7JsTHyBtlz8aEmgG4AouVBeqUIzApIAwIidyyopKZELhLxufnaPdMcAHxszc2FlpSo2HQMQAZIAwJhxExf7+9o+6sCiPB7TTXeACKUCQBIAGDNdkSDY6THuG6Ybig6lAkASABgtlmWj4/O1ww051HsDkUjs7uEhkUjqvZYrMieiVABIAgDjdT67tOSWnC9guvnZ13sDbx/vIyeOd/L3r/faAB9rM3NhpVwVdx69CgBJAGCcwhM1OwT+fnamkseZfYzP53XV7kycwbATgCQAMNokuEFEIZ0dH3sJ3FBFkYlIAkASABinaF1PAqfHXkIoNwBRsrRSgVIBIAkAjM35yyW3bsp4PKZnJ9vHXkhgWxtTrlSQjlIBNAcCNAG0KNzsAp38bE0lwnpvkHMtZ8/u3Vezs4uLi21tbf0DA3r36dPGxaXmbfh8XrdAh5PhuWcS80MCHNCqgCQAMCYR2oP79fYkuHDhwryvZ0eEh9e8cPOmTQKB4Jnnnntn2rtOTtX3Cgt2OhmeG5mYTxP90aqAJAAwJpFx+VXDB1VhWXbp4sW/Ll6iUCiIqHNQ5+49e1rb2NzIvR4Tczb9XPqmv//eu2vXoqVL+vTty90lNKC6VCAS8tGwYNRQJ4AW5Hx2VZGgerghtVr96ccfL/rpZ4VC0TOk577DhxYtXSqVSgcNGvTF7K937dv3x+rV7dq3Ly8vf/2VyWvXrOHuFdjOxsRMIJep4tGrAJAEAEaEG27Iz9fWzERXJFAoFO+9O23b5i1E9MmsWes2bGjbtm3JrVvbt24rLNSNMde3X99tO3cMGTpUrVbP/errjRs23C0VaHYszmAAIkASABiRcF2RoPrQ0HvvTtu3dy+Px1vww/evvv7a/e4okUh++XXpxJdfJqLZX3wZGRGhLRU4olcBIAkAjExUvHbgubtFgnVr1x48cIDP5y9aumTMs88++L4Mw8z66ssnBgxQKpXvvDn1ypUrXK+C+KQChVKNtgUkAYARyLxSerNIxuMxIZ00n+CZGRnfzp9PRO9MnzZk6NCHerfweD/9sqhDx46lpaWzPv44oC1KBYAkADAq3MTFvr6tzE0Fcpl8xrvTKuWV3bp3f+uddx5+IWZmZj//8otIJIqOit66aWNX7W5BOAYgAiQBgFGIqDHc0Lfz51/IzLS0tPxh4c883qO9C3za+kx9520i+u5/3wZ4m2kL0UgCQBIAGIMo7Tf3sCCnqMiov9atI6L5C751dnZ+jEVNmTq1fYcO5eXl6dE7iCguUYpSASAJAAzdhatlRdIKhsf09LNb8M03RDRi5Mj7lQcEQqGdvZ1QKLzf0oRC4ez58zTpcmyTSMyTy5QJKBUAkgDAwEUk3yAi3w42p44fTE1JEYlFMz/+6H43btu2bWRMTGDnzg9YYJcuXfr1788Qay4sxLTGgCQAMALhCZpP6h6BDj9//wMRvfTypMc7LlTTex98QEQl12Or5jwAQBIAGC6uJ4Gi+NzVq1etrKzeevvt/75MXz/focOGCWTZXKlAqUKpAJAEAIbqUk5pobZIcHT7MiJ68+23La0sG2TJ7743g1+ZQ2yltlRQjKYGJAGAgeIO4tu1UpYU33Bu0+allyc21JLbtm0bFhbKVF6pGsoCAEkAYJhJoPmMlktTiei1KW+IxeIGXPgLEyfy5NlEdCo2F00NSAIAAxUVr0mCiuIUcwuLMc8807ALHzBwgINFmbZUUIBSASAJAAxRVk6ZtOAOESuQZT8z9lkzM7OGXT6fz580bgCxlQoFJWagVABIAgDDE5Gs2SFgFHl8qpw4adLD3CU/P3/Ol19dvXr1IR9iwoRxPMU1ItqwMxYNDkgCAIPD9SRg5Nn9n3jCzc3tYe5SXFS0bu3agvyHrQDb2tl19DIhosOnL6LBAUkAYHj7BLHXiUggvzzxlUmN9ygTx4YRUWGJae71PLQ5IAkADEj29TKpVEYs69OGF9arV+M90PMjQxhGSYzoz/UH0eyAJAAwIKfiNd/QGeWNV1+Z0KgPJBTw2jixRHTgFA4QAZIAwJBs259ERCK6PmrMmMZ+rIGhnkR05Qb/1q1baHlAEgAYiuRzJUTUt5uLiYlJYz/WyEF+RKQWuR05dBgtD0gCAIOQcblQrpAQy058NlQPDxfUvhWfzzKMeMvuKDQ+IAkADMKareFExKeifn16PNId+Xy+iYkJj8d/pHuJhPwObc2I6GxqcUVFBdofkAQATe9YRDYR+bjyHnWm4nbt2yennwvuEvyojzi4T1siUvBdT588hfYHJAFAE1MoFNfyBUQ0tF87vT1o7yBHIlKJ3Q8ePIRNAEgCgCa2c98plmdFLDtpbG+9PWhwB1uBkGEY8aGTaUqlElsBkAQATWnz7jgiMjeTOdia6e1BRUJ+UKA9Ed1S2MecPYutAEgCgCajVqvj0m4RUVf/Vnp+6F7BrTUrIPY4ggNEgCQAaEJxsbEVrBMRPTO0s76ToLMjEbFCj0PoVQBIAoAmtHXHERK0ImL7dXPR80N36WgrFPOJL84pZFJTUrAtAEkA0DQOnLpERA72fFsrsZ4fWiTkBwXYEZFS4nEIB4gASQDQJFJTUooqLImof4jH4y1BWiD94bvvcnNyHu/uoZ2dtKUCz6OHcYAIkAQATeHggQNqoScR9evxmIeGCguly39dlpf3mDMN9NL2KmBFbhkZmUVFRdgigCQA0Lfd+09riwQUFujQJCvQpYOtSMQnnolK6Hw2OhpbBJAEAHp18cLFy/l8InJzN7OzljTJOohF/EBtqUAl8TgbidHoAEkAoF8HDxxQiTyIqE9XlyZcjTBtqUAl9oiOQhIAkgBAvw4fOKAWe2jLtg5NmQRBDtpSgXvmhQsoFQCSAEB/ioqKks9fI4FtVdm2qXTtaKcrFYicsVsASAIA/YmLiVVpdwg8Pa2aqkjAEYv4gf52OEAESAIAfYuJOasSexJRSJPuEHBCdSNUe0ZHRmLTAJIAQE/iY+O4IkFY5/+UBB19fTMvZ3Xt1u2/LEQ3AJHI/eLFS0WFhdg6gCQAaHQymSwl/SoJ7BqkSMAwzH9cQhdfW4GIx5UKzmKEakASAOhBSnKyXOBCRO4elvY2kiZfH4lI0LmTrlQQE4X+ZYAkAGh88XFxKrGX9gC9k4GsUliQrlcB9gkASQCgDwlx8YbQk+CeJNCWCtQi94yMjJKSEmwjQBIANK6Y+AxdkSDQ0UBWqaufrUDEY3imSmHr2JgYbCNAEgA0ouzLlwtl1kTk4mruaGdiIGslEQkCuVKBxD02GgeIAEkA0Jji4+JUEk8iCuvS2qBWTDcAkdATpQJAEgA0chLEJ6iFDdCTgFNUWLhs6a+PPT/BPUmgHYBILXZPTU29c+cOthQgCQAaS3RsGgnttZ+8DZAEBQUFP33//WPPWVZTV187rlRQybePj4vDlgIkAUCjKCsry8xRE1Hr1iatbU0Mat1MxHdLBSLPsygVAJIAoJEkJiRwA8/17u5igKsXGsgNQOQRi1IBIAkAGkl8XLxa1GBFggbHHbBSiz0SExPlcjm2FyAJABpeVEwqCR20374dDHD1uvnZCYQ8hmdaQa2SEhOxvQBJANDAVCpV3PlbRGTvIGrjYGqAa2giFgT4caUCjxgcIAIkAUCDSz937g7rTER9DLJIwAm5O1dBDIrGgCQAaHCxMTFqsTsR9QpubbAr2auzrldBfHy8UqnEVgMkAUBDOhORSHzN52xYwxUJ2nfokJCaEhQc3FAL7OZnry0VmJUrLdJSU7HVAEkA0JAiUwqIYVq1Erg4mjXYu4LHMzc35/P5DbVAU4nA39eWiJQiDDsBSAKABnU5K6uk0l7bk6CNga+qrlQg8cBQdIAkAGhIMTEx3JwEfbsZehL00g5Fxwo9NOusVmPbAZIAoGGcDk/gigShgY4GvqrdO9nxBQzxzW5VmGScP49tB0gCgIYRkXidGMbamu/mZGbgq2oqEfhrexUoxSgVAJIAoIEUFBTkl1kSUVhXJ6NY4ZDOKBUAkgCgQcWcPcvNSfBET3ejWGFugnu10D0aM1kCkgCgQZyJiCehY8P2JODcvHlz7Zo1BQUFDbvYnp1s+QKG4ZsXlvCyLl3CFgQkAcB/dTI2hxjG0orcWps37JJv5OXN/errq1euNOxiTSXCTlyvAglKBYAkAPjPykpLr0lFRNSjs6MRrXaI9gCRSoxSASAJAP6zuNg4tcidiJ7s5WVEq83NoKAWemCfAJAEAP/V6cg4VuBksHMS3HefwN+Ox2MYvnmOVNkg8yQDIAmg5ToedYUYxsKC9XC2MKLVNpUIO/mhVABIAoD/TC6XX7qu+aWLv53RrXxosK5UEBMVjU0JSAKAx5SclKQUuBHR0D4+RrfyYYEoFQCSAOA/Ox0eyxUJegU5Gd3K97xbKsjKvS0tkGJrApIA4HEcicgihjEzZT3bNEqRoG27dmeiowICAxtj4WYmQr/qXgU4QARIAoBHp1arz19RElFnP6tGegiBQODo6CgSiRpp+aHBummN0asAkAQAj+N8+nk540xEw/q1M9KnEKrrVeCOUgEgCQAex+nws6ygNRH17dLGSJ9CSCcHbanAIj2ruKSkBNsUkAQAj+bg6YvEMCamSi8XCyN9CuamAl/fVrpSQTRKBYAkAHhEyZfuEFFAeyujfhah3ABEIo/oqChsU0ASADyC7OzsCpXmM3RoXx/jTgKuVCDyOIskACQBwCM5c7cnwRM93I07CfwdeAwxfIu0C4UoFQCSAOAR7D+ZTgxPIlb4uFo23qOUlJT8s3VrUWFh4z2EtlRgS0QKsQdKBYAkAHgEiRnlRNTRp3Hnr7+em/vxBx9evny5UR8lJEjXqwClAkASADysQqn0VkUrIhpi5EUCTq/OTkTEolQASAKAh3cqPJoVttYkQa+2zeDp9PS35zFEfIu0C1KUCgBJAPBQ9hxNJ4YnEinaulk0g6djYSbs2LGVtlSAXgWAJAB4OHHpt4iovaek2TyjqrkKUCoAJAHAvysvL5eWaXYFBoW5N5snxc1VwIpRKgAkAcBDiIiMIYEzET09oFOzeVI9Axx4DBHPEqUCQBIA/Ludh1OJ4YkEle3dLZvNk7I0E3ZAqQCQBAAPKTq1iIi83YV6eCwvb++DR4908vfXw2PpBiBCqQCQBAAPVllZmVckIaL+PV318HBisdjL21si0UdpuldnlAoASQDwEGJiE1ltkWDMk4HN7Kn1DHAgXamgAKUCQBIA3Nf2g4nE8AR8ua+XTTN7apZmwo4dUCoAJAHAv4lIlBKRh0vzfLmG6gYgQqkAkAQA96FWq69JBUTUt6tzs3yCYdqiMStEqQCQBAD3kZR8TsVoPiufHRrcLJ9giL89MUQCK5QKAEkAUL9tB+KJ4QsYWUB7u2b5BK3MRR3a26BUAEgCgPs6E3uDiFyciWEY/TxiWWnpgf37b968qbfniF4FgCQAeJDLNzQB0CvYUW+PmJOT8+7Uty5dvKi3RwzrjFIBIAkA7uPCxWwF69CMiwSckACUCqAFJMGinxdGRkQqlUq0ODySzXtiiOHzGFk3f+dm/DStLUTt27XCtMbQzJPg4P79EydMCOve4/PPZoWfOYNIgId0MiaHiJwdlHorEjSVUO3hL5UIpQJovkmw58D+Ldv/GTdhQkpS4qQXXwrp2m3Wx5+cOnlSoVBgG8ADXLym1p5nadfsnynmKoAmJNBT4PB4nYOCOgcFvf/BzBs3bpw4fvzE0WOvvjzJ0tJy4JODhw4dFtorTCQSYXtATbl5BTKVHTE0ZmjnZv9kQwIcNP/xrdMu5JeUlFhZWeEFAM1tn6BKWVlZYkJCfFxcYmIiEXn7eJ86ceL1yZN79eiJjQG1bN51lhg+Q7I+3b2b/ZO1sRS1a68tFYjQqwCa6T5B9uXLx44eO3HsWMzZs0qlMrhLl6nvvD102DAHBwe1Wp2WmnryxAlsDKjlSFQ2kbWTrbzZFwk4oUEOmRnFam2vgkGDB+MFAM0tCSZOeCEvLy+wc+cPP/lk6PBhrVu3rt4r4fH8AwL8AwKwMaCWjGwFEXX1baXnx/X08vpn104vb33viIQFOq3eeF4t9jgbtQ9bH5phEjw77rnhTz3t7XPPW6uosPDmzVs+bX2wGaCu4puld+Q2xKNRg/Q9cbFEImmSryahgSgVQNPQU51g66bNKlXtM0cjIyI/+/gjbAOo16bd0cQTEFvxZL9OLeQp21iK2rbTDkAkQq8CaEb7BHKZnCsAVFRUhJ8Jz76cXXWVmlX/tXZtpbwS2wDqdejMZSJTe6sKHo9pOc86NMjpQuZNlAqgWSWBSCxauviXc2nniOibuXPr3mDu/77BNoB6ncuqIDIN7tiyjpCEBTms2ZSuLRXsx2sAmkkSMAzz9+bNMplsxNBhPy/+xdvnnpKASCi0sLTENoC6ym7LSiusGIaeHtCxRT3xu70KbNIyUSoA/Wn0OoGZmZmtre2rb7zh7e1tey/EANzPtn2xDCMgtuLpQcEt6onbWop9fGwwABE0n32CyIjIK1eynx8/nojc3N0iIyLr3sbO3r5nCPqUQW0HTl0gEtqYlwuFgpb23EO7OFy8iFIBNJck2L9v78F9+7kkmPPlV3l5eXVv06t3byQB1JV84TaRdWBb0yZ59Nu3b8fHxQUGdra0aoLd1rBAp7WbMlAqgGaSBNPfe++NKW9yv+87fIhl2bq34fP52AZQi0yuvFlmzjA0tG/7JlmBq1euTJ748oYtm7t269YE+wSdq0oFN1AqAKNPAltbW7LV/W5ubo62hoe063AiwwhIXfHM8B4t8OnbWoq9va0vXbrFlQpwgAj0QE89yy5euDh+7HN79+whImmBdOzo0V0CAqe//U55eTm2AdSy53gGEVmalJiamrTMFgjt4kREakxrDM0sCT58771rV6/a2NioVKpXJ72cdSlr1DPPREZE/LjgO2wDqCXhfAkR+XmbtNgW4OYqUIs9MVcB6Ic+TsyQy+WpqanHT592cXXZv29f+rn0BT/+MOaZZwIDA39ZuBDbAGqqVKiKb5kSQ4N7ebXcJECpAJrfPgGjxeMxcpn8x+++b9+hw+gxY4iIJVaFaSzhXgdPnWcZAankzz7Vck8qs7USe3lbo1cBNKt9ApFI1K9//xefH29lbX31ypUVq1YxDDNvzpxtm7cMHDQI2wBq2nkkjYhMxYW2rWxacjuEBjtlXbqFXgXQfPYJiOiHn3/u0rWrSCj8ceHCvv36EtH+PXv9AwI+/uxTbAOoKS7tJhF19BC28HbgDhCpRZjWGJrLPgERWVpZfv/zTzUvOR0VyePxsAGgpkqFqqBITAwN6OnRhKvh7uGx9u+/27dv35RJwM1VIGiVlpmHUgE0k32Ceh4YMQB1nIq9wjIClpU/81RT9iQwNTUNCQ1p2nGx7KwlXl5cqQDTGkNz2SeIjIj8Zu7cnJwctUpV8/LQsLBlK37HZgDOPweSiUjCu+Hq0gatERrkmJV1Sy1xR6kAmkMSqFSqGe++a2IimTJ1qlB4z/HfNnjDQw1nkwuJJG1dBGgK7VwFjn9ty1ALPaMjD6A1wOiTQCaTFRcV7T98GFMWwwMolOq8Qs0Lsn93F7RGda8CQau0zOu3bt2ytrZGm0Aj0cfBelNT0w4dO8pkFWhueICopOssKyC2ctTQbmiNmqUCpcTzbPRZNAgY9z4BwzDPjX/+o/dnPv/iC26ubkyNWrGNjXVAYCA2AxDR9oMpRCRU53Zo3xatwQkJ1pYKRB7RUVGDn0SpAIw5CYhoxbLf8vLy5n71da3Le/XuvWrdWmwGIKIz8XlEIk9nhmEYtAYnLNBh/VZuroKDaA0w+iRYs/4voVDE49V+h4vFYmwDICKlSp2br9lZ7GcARYKKior0c+nt2rdr8tHUewU5at+mtmmZuSgVQOPR00n9nl5eLq4uzm3a1PqxtbMzosaaO3vOiuXLa14yc/qMLZs2P/hebT0823p4Vv2Zcf78hzM/ePO112tN3bNp48aP3p9Z85Lffl32zbx5D154ZWXljGnTdu/c9eCbbVi//ucffzLkto1OzuOKBGOHd2/ylcm+fHncM8+cT09v8jWxs5Z4eloRkUrihVIBGH0SEFFaatrqlSu/mTdv8aJFRLR+3V+ZGRnG1VjHjxw5G3VPH589u3enpCQ//BLkMvmLz49PT0t7ctjQWlelJCbt3bvnng/HyMgTx44/eIGsmk1LSb1xI+/BN0tMTIw4c7r+JbBsaUlpk7fttv1J2iJBnq9fR7wtawrR7haoRO6YqwCMPglW/vHnqKeemj9n7oa/1m/bskXzhXfp0uFPDjly+HCLam6pVHrr1q0PP/549JgxDXI0XCwRHz5+7PUpUx57CS8+P/6vdeuavGXC4zRh5uXCokhQS1hnzFUAzSIJVCrVr4sXT3zllXMXMjdt26Y7GPLPth49e/z5+4pm1qBlpaV5eXkKhaL+L+DEEhFf8JizN8vl8ry8vAd/ha+oqMjLy1Or1fVee+vWrYKCgpqXXMjMbPJGU6rUOQV8bZHADe/JWmqVCtAgYKxJIJPJSkpKPp31Wc0Oxs7Ozq+/OTU3J6f5ZEBZ2eRJk7oEdh7Yr19ot+6HDtQ+2WPVnyuHDhxERFNefS2go2+9U/w/wMYNG3r16PnkEwO6BwdPf/udqrDp2bXbmlWruN/PpZ0bOmhQn5DQZ0eNnjl9xjMjR1WHEEtffv5596DgsO49Jjw3rqKi4uD+AwEdfW/evLl44cKAjr57du9uqqbTFQnUirFPdcd7shZ7G4kHVyoQe6BUAEacBCYmJubm5ls2bar52SeTyfbu2e3g6Ghc7VVQkL9v796qn5pfvbds2hxx+szGrVuT0tLC+vT+aOZMuVxe877PPT9u3YYNRLTghx8On6inAKBWqWsuXCqVVl11OSvrq1mfP/Pcc8np5xYv+3Xf3r2bNmzU7QTcuaNQKLkj/u9Ne9fR0Sn8bPSHn3xy+NAhmUxWtYSU5GR3d4/EtNQvZn8dc/bssaNH+/bvd/jEcUtLy1dee+3wieMDBg5sqlbdui+BiISU59uxA96TdYVoDxCpxJ4oFUAj0cdZpDwe77UpU76c9fmaVatMJCZSqXT82Odyrl27cePGj8Y2e+W5tHPT336n3qu8fXw+/eLz4C7BRDRs2PC9u3aXlZaK7e2rbmBmZmZnb0dE1jbWjvVFoFKprLVwTy/dDI6nTp5Uq9XvzXyfiAYNHtypU6e4uNgXJ75U6zhP1qWsRUuXOGh1697txo38qmsdHR1feXUyj8d7aeLEH75dkJuTI9Hi8/nm5uaOTRrJEfE3iCTeLqgQ1C8syHHD9kxtr4JDaA0w1iQgorfeebtDxw6HDh7MvXbNz89PIOAPfWr44Cef7NrNyMYV6NO3z6/LqwdP9e9YfaJL3359W2c4LV60KC0ltbCwUPMd/xGP/4hEovjk6jORXp88+caNG9zvubm5IrEoPi6e+1OlVuXn3ah199zcXCJq1043qr5Pu3Y1k8DewYEbCZxhGKFQ+KjHphqPSqXOKeCGG3LFG7JevXQDENmlZeSgVwEYcRJUVFT069+/1vEHuUxeVlZmYWFhRO3F4/HFkurecDVPdDl04ODbb745aPCgkF5hV69cTUpMfOSlM1Rz4Xx+dWFZpVAqKhUL5s/XrQbDc/Nwr/ORqtLEj1o37jePmHvX3EC/cUclX+eKBM8ODzOQVXJxdf3tjxU+bQ1l0AuHVibuHpZXsktV2gGIMOwENPwnm34eZsiAgZcuXqx14eFDh96Y/Gqzaco/fl/eu1/fX3///eVJk4KCgxp24UKxWCQS7di7p+rn2+++q3UbrsP27dt3uD/Ly8sb5KEjIyJ3bN9e9/LKysrVK1deunip7lVxcXH363C3euXKWj22tu7VFgnYvIS4mHrvsn7dXynJ9XTaSD93rqpUXsvmTZvi4uLqXn7xwsXVK1fWe2bX9n/+qToKb2FhMWDgQO6r95UrV1avXHnnzp26d9mza/eZ0/X00rh+/frqlStLSkrqXnXowMHjx47VvbxQKl29cmVhjcpQlePHjh06cDAkyKlWqaCkpGT1ypXXr1+ve5fTp07VW/+/c+fO6pUrr1y5gg8+0GsSVFZWZmZkZGZkVCoU2Zezud+5n/Pp6Qf27btz53azaUqFQmljpdttT4iN40q4DbVw/wB/uVyedekS16p9QsM+nPlBndsEiMSi48eOavcM1GfPRj/08RnlA67dv2/vb0uX1r1cLpPNnzM3OTmp7lVHDx9Z9FM9XZpZlp0/Z25MzD2f+BHx+URkY3rz+2+/rXcFFnzzTfiZ8LqXnz17dt7sOfXeZeEPPx4/erTu5clJifPnzK1VyecsW7L04L79dS/PSD8/f87csrKyulf9uWLFru076l5+OStr/py5hdLCuletW7Nmy8aNdS/Pzc2dP2cud3yvli0bN/61dq1uWmOxR1REBHe5tEA6f87c7MuX695l1/YdK1f8Uffy0tLS+XPmZqSfxwcf6PXoEJ/Pn/r6G1evXiWit998s+4N3pk+vdk0Zbce3desXBXQOVAulx8+dIg7/b+hFt6rd29ra+v3p01/9Y03Dh88mHf9+oCBA2rdxtra+umRI1eu+ON2WXl29uWbxTftHRz+dckSiWTzho1W1tY9Q0LatWun50ZTqdS5Uj4RjSw9zzIqvCHvp2/SXiIrEtilX7heVFRka2uLNgFjSoKV69YWFha+9caUT2Z95uZ+z6FtsUjk6+dnRI3Vb8AAJ6d7zrEZ9vRT/v4B3O/vTp9eWlq6bcsW306dvv/5p7/Xr681VScRmZqYDHv6Kbv6RlvqFBhQKzm69+x582Yx97uVldXav9cv/3XZ8mXLbGxsvv/5pyFDdeNVPDlsqJe37hSj2XPnenl5XcjIfHrUKBc3t9izum/fgYGdnZxaVy35ySFDvH10swYtXLJk6S+LThw9VlVqrmXEyJE9evase7lYIpk9b15QUD3HwQY/Obhd+3pChWGY2fPmde1efZpAVFKOmhWSWvFCYbx87PP1rsDnX3/VqZN/3ctDQkLmzK9/XKYPP/3E6+5pVzUFBQfPnjev3nEPp703o3Xr1nUv9/Xzmz1vnmV9cxq/+dZblvVNNO/t4zN73jz7GqeNVXnltVcFgnredC6urrPnzXNxradm/vwLLyiVSrvI056kvkw2KolHZETEU08/7eDgMHvePC9v77p3GTN2bGl9x6asrKxmz5tnXG860BP24Ux9/fWNGzawj2v2V1/n5uY+9t3fnvKmj7vH77/9xsIDbdm0OSI8gvv9808+Hf7kEANf4elzdrYOW+fRYx7rJGH/XosteF9zv5oZ8mHrsHVtOk///JNP0R5QV0J8fP9evR/vvno6d+jLr78qLSm9nJWlUt0zCoKpqYlzG0xl3GDWrl4llUp/WvSLXCbbs2fPoEGDDHyFI5LyiUx8hAXYdv8qTH7lb5MAldg9MmInWgOM6ehQlXVr1y6Y/03d4+aYqaZhLV62bPZXX330/vt8AX/EqJHTZsww5LVVq9nr+ZpX4BOW5dh2/yr0VhqZPM0I7LOuFV2/ft3Z2RltAsaUBAqFYsH8b7r36PH6m1NqDj1ERPUefoXH5u7uvnL1amNZ24jEa9oigXKcg9KgVkwuk1+5ku3q5mZiYmI4a+V455KHpSq7lK+SeEZFRIx59lm84MGYkkCpVMrl8jnz57u4uqDFoQrXk0DMy/cykxjUimVlXRoxbPiGLZsNrQ98qIOSS4LIcCQBNCQ9jUDXp3+/uj3LoIWLTMwnIm9XHpriIYXZVxKRWugRFRmJ1gAj2ycgIn//gPemTxs4cFAbV9eawx64urmNGj0am6EFUqvZXO1wQ0/0cCN8S3jIJLCVEVmQ0P769fLLWVme9Z0pC2C4SbB3926hQHjq1Klal/fs2RNJ0DJFJFxVsyJSK8eN6E0/HUODPAwHicrFzSLnaplS4hEZEYkkACNLgsPH8VaHe3BFAhG/wNvLHa3x8EKDnDZfLVNJvKIiIia8+AIaBBoEDtFC04hMyiciH1c+muLRkoAbgEjoHhUZaThDiwOSAOCRqdVsbr6QiAb0xMTFjyYsUDveidChqKSy1qiuAI+tEY8OtfXwfJibXci+jM3Q0kTEX1GTiNTK50f0QWs8kjYOpm1cLXKvlSklnpERkR19fdEmgH0CMEpb9scRkZhf6OlhiPsEbdq4/LhwocHWY0PvzlVQNUI1gOHuE+DLPtxPZIKUyLytm4F+EbG0shwxaqTBtl5oZ4ctuy6oRR4xZ1epVKqac9sBYJ8AjAPLste5iYt7oEjwOMICtdNOCB1K77D1zuYGgCQAQxcem60mCbGq8aNC0BqPwcXRzNnFgoiUJh4R4ThABEgCMEJb9uqKBB5uGJD8MYUGOxKRSuSFUgEgCcAoRSZLiaitC45u/4ck0B4gUos84uPiGnCSVEASAOiDtkggJKInQlAkeHxhQbpeBRUKQUJ8AhoEkARgTM7EZnFFggkoEvwHrg5mrduYE5FS7BGJA0SAJADjsmVfPBGJBUVurq0NdiUVCkVuTo6BH3UJDdb2KpB4RoWH43UFSAIwJlGJRlAkuHjhQr9evQ38BE3dAERij+Tk5Nu3b+OlBUgCMA4sy16XaocbCsX4o/+VbgAivkOlWhR7NgYNAkgCMA6nYy6qyYRY1YSRPdEa/5Gbk5lTG3NiGKXYA+eSApIAjMbWfQlEJBEUu7o4oTX+u1DtGUQqiReKxoAkAKMRkaQtEmBOggbCnUuqFnucO3eupKQEDQJIAjACNwq5IoEHmqJhkiBAOwAR30FNJlERmOMekARg8E5FZ6pZU2LVGG6oobi1Nm/tbEYMo5CgVABIAjAGW7RFArGw2NXZHq3RUEKCdL0KIiORBIAkAIMXrS0StHcVGP6qtnZ2njN/nru7ERzF4koFKrHHpYuXpAVSvMwASQAG7bpUZCxFAmtr6/EvvGDvYAT7LtxQdAzfkWVMcQYRIAnAoJ2IylAzpsSqJ4zqgdZoQO5VpQIT94gIDDsBSAIwYFv3xxORifBmm9YoEjSwnrppjTFXASAJwLBFc8MNuQnQFA0ujBuASOiRm5N77do1NAggCcBA5RWK0ZOgkXClAhI5qhkTlAoASQAG6kTEOTVjRqz6BfQkaAQezhZOTmZEjNIEcxUAkgAM1db92uGGRLecnVqhNRpDT25aY7FnNHoaA5IADFN0ciERtTeeIoFKpbp586ZSqTSWFQ7rzA1A5CmVSi9cuICXHCAJwODkFYmJaGCYp7GscGZGRveg4MQEo5kfWFcqEKBUAEgCMEjHzqSqyZxY9fgRmJOgsXi2sXDQlQrckQSAJACD88/BJG1PghJnJxu0RuMJ4YadEHnFREWr1Wo0CCAJwIBwww21cxeiKRpVWJD2AJHEs6Sk5Ny5c2gQQBKAAdEVCUI90RSNKjRAWzTmSgXhGHYCkARgMI6eSVYzFsSyL4zGcEONy8vFwsHRlIhRSdwx7AQgCcCAbDvAFQluOTlYozUaG9erQCn2jI2JVSgUaBBAEoBBOJtUSETtPERoCj3gehWQidedO3eSk5LQIIAkgKbHsuyNYgkRDTK24YYcHB0/+uxTF1dXI0uCQG2pgO+oZsQ4lxSQBGAQjp5O4ooEE0YbWU8CW1vb1994w8nJybhW28vFwt6BKxV4RoYjCQBJAAZgy754IjIVlTrZW6E19KOqVJCYkCCTydAggCSAJhatLRJ09JagKfSGKxUwpt6VlZVxsbFoEEASQFOSy+TSEjMiGtK3HVpDj0ngQEQqngNKBYAkgKa352AEy7Milh03ohtaQ2+8XSzt7E2IGKXEIwojVAOSAJrW9kMpRGRudsfOCkeH9KpnMDetsWdKcnJZWRkaBJAE0GTi0m8RkX87czSFnnEDEPHM2qrV6rPR0WgQQBJA0yiUSksqbIho5EA/Y1x/lmUrKytZljXKJND2KlAx9igVAJIAmtLOvaeIb0MsO/yJjsa4/ufT0/3atTfSc298XC1t7U1YlAoASQBNa8/xDCKysqy0tRSjNfSvZ5BuMsuM8+eLi4vRIIAkgCaQcrGciIL9MDVN0wjTJgHPvB0RRUVitwCQBKB3GefP31G3JqJRg/3RGk2TBIFORKQkOzVPFIFhJwBJAPq350A48W2I2Cd6uKE1mkRbN4tWdtpSgdgDcxUAkgCawIHTF4molbXK1gpFgibDDUCkFntcyc7Oy8tDgwCSAPRHLpdnXFESUQ/tsAfQVMI6OxGRwKojEeFcUkASgF7FxcYqBa5E9NQAX7RGUyZBoCaJK1W2LIkicS4pIAlAn/YdjCBBKyLqHeRkvM/C3t7+7WnTnJ2djfcptHO3tLGVsMQoTDyisU8ASALQp6PRV4jIzpbsrI14uCE7e/sZ77/n3KaNUW8LbgAitdgrLy/vclYWXpyAJAB9KCoqulYgJKKwrm3QGk2Om6tAaNORiM6cOYMGASQB6EP46TNqsQcRDentjdYwkCSQKW1YEkUiCQBJAPpx8FgUCWyr5kuBptVeWyogllGYuEdGRqlUKrQJIAmg0Z2KuU5E9g58oy4SNCfcAEQ8s3blZWVJiUloEEASQOPKzMy8KbMhon7oWmwwQrVncHGlgvAzp9EggCSAxqUtEnhqkqCbC1rDQHC9Cm7LLFkSRpwJR4MAkgAa1+Hj0VyRoJf2iAQYgg4eVtY2EpZlFCYeiQkJt2/fRpsAkgAaS2Vl5dmUYiJyai2yt0GRwIBwAxCJbfyUSmV0VBQaBJAE0FjiYuNkvDbaIoE7WsOgcHMVCCzba0sFOEAESAJoNGdOn+J6EvQK1usgE6xaTQVSkkqNdM5hfSSBdlrj0tvmLAnjjXM+TkASgHE4fjKWBHaaJNBXTwJWpaKfljJe3cnRlRxcmY5htOov42gsRqL50ZcOnlbWNhI1SwqJ+/n0dJlMhpcrIAmg4d28eTPtipyIWjubOLQy0dPH6aw5NHMmOdjQjz/SrFmUUUCTX6MtO/QRQixLcrkRbaAewQ7aEao7KJXKs9HReMUCkgAa3umTp1Ta80f79nDV00MWSGnBEuocQqf30Ptv07wvaPdizeUbtjX6Q1+6zAwaQ0dPGNEG4uYqENv4EdHhQ4fwigUkATS848ePqUQeRBQaqK9BJjIvEt2mwb1JfHdatCcHav6NSG30h76cTUf3G9cG4gYgKq0wZ0l49NBh1FSgLgGaAP4LtVp94lQcY9at6jQVfbA01/x7MpqUShJoX8NCIRVeJ+buNxuplNZtpn5hVFhMm7eThRk9/wz16Fa1AJZlmQOHafdBklWQhzu9OI68PO55iOhY2rCFSsuorRdNnEBttHMVLFlO5zI1v+zYS+cvUo8uFNaT/lhD1tbUJ5T+XEOFt+jHeaQ9r5b+2kTR8aSQk28HGv+sbglNoYOHpZW1uOSWnCy8pdLziQmJQcFBeOkC9gmgwSQmJBbLbYjIxdWita2eigSsfycKe4KiT9LLU6mwSHepbStqZa37vbCYZs6k976gWd+QgEcLN1LPIRSbULUEZuZnNGwEqdTk4kzLN5N3P8rJrX6AJcupZy8KjyOhmD77H/UeRUXFmsuj4ig5XfNL2gWKPEu52rt8s5R+X0NBQ+iz3yni7sk5r0+jV18npYIcHejD7ylsBN282VTbiGGYHtpeBY5evXGACJAE0PBOHD+ukngRUagezx9lGIa2rKSuvejvdeTZl1asrr+Em1dIR7bTb4soeQ/RbVq9Xnd55kX6+WeaMYOW/0xzPqddfxDdoN9X6a4tKaN3/0cDnqSIA5obrPqFLifToaOaq/76nb7+UPPLrBm0ZQ0994zuLof30XuTSHGOIg9o/ryeR2tX00svs38spv99TWu+oyupdCq8SQ8QabaOUuyuWdmDB/G6BSQBNKSTx4+phe5VB6P1p7WT5lP+f/OpvJTeeJP8+lBcQu3bDOtDVhaaX/w7UecQ2n5cd3lSsubfQf11exidA4icKfmc7toLFzXB8MwIEmqPO/XtReMmkED4oJXxDqLpU3XHqYjI1IT27aLPZmoSi4i6BWv+lRY1aRI4aBKqgBi+KPvy5Yua5wiAJICGUFBQkJp+hYQO2iKB3ucksLKgT2bSjViaMoUuJVHX0TWP/2i0b1v9e5dOdD2N5cbov3pd8+8dGaVnUHoGk3mRXGwoK0d3S+6Yj9vdadc83WnjSho76kFr0slTFxsca2v2yYF05w598wNNnEKfzW3yLdXR08rKSqxSsu6dBhLRIewWAJIAGsrBAweUJh5E1MbVwtnOtGlWwtGBXbaQli7WfJGfveCeq4SiWrdlFArNf5Xa3lVjx5FvoO4nJ42Uat2NZI/eV4DHr/kXq1YzL7xOXXrS3qPk7EQuTT8zPsMw3bX1fBvX7kR0BKUCQBJAQ9m9Y4dK5FU1Dr7+LPuDnptEV69VfcyxUyaTsx/t2UFKZc2P5OrflTVm7BJqzz09c5zKiqp/Yu9+OAq1B4IqFY//sbv/EG1cTz/8QOH76dvZNHWyIWysMG3RuEg7h0RKcnJeXh5ewIAkgP/q6tWrCfEJam1PAn0fGrp8hbZspAuXan7pJZWKSMDy+ffcrMqVHCJXlvuUb6MtadwqIXMzzY9YTH+spt13ewm01qZa1t373singaNp2Z+PsHrXb2j+HfKE7s9LWQaRBNoBiDIvlrXr0EmzW3D4MF7DgCSA/7xDsHOnmmfGFQlCA/SbBM9qj9p/v5g7uZNlWeaP1ZR/niaM1xVpOVsP0B2ZLhJOHKLpYxguJ3qHaf49cEx3s4OH6b2ZdCpC92eXzkROtGazrqhw/BQd3U9m9x77uprzoNUz1944NlE3NMXG7dqdEmXTbi9fL12poG3QEE0SHMQBIqiGnmXwmHbt2KHUjj/q7GLh4mimz4dmuwUzQ0bQgV3k0pue6MTcKKT4cJJ40sfT7rmdWk2DRlNYV1q7uzo/iMilDb0xlZb8QtJCcrSnXzYQ2dJrL+uuFYno+/fpw4+Yvk9TtwBauII6h9CzI+/uMThq3jVTv6Yz0TR8II1/rp71GzaEbHxo0oeUmMyczyKxtlxRfqdptxdXKjh84irPqgMRRUdFlZaUWlpZ4pUM2CeAx5Sampp1KUtt4kVEIXqfpEzzxX/nX7TqT+rXkaTFZG9Nc+fShSMU4H/P7T54g955hbKv0fBeFBtJvUKqr1ryHa34nURCys2jz16jtKMUFFCdNDPfpc0bqaMP5eTR3E/ozD4yvbtP4OdLJw/SO+PJvhXZ2WkumfEKjXnqnse1sqQTG2jq85R7g0YMpuU/0ezZ1LFtk2+1UO2WyrimbOPSRqVSHTt2FK9kwD4B/KcdAs23ZxvfCrnuXHV9E4lo0guanwe9ugWa7+z1fm0XCum1iZqf+yXN2FH3PXO0T5jmp8q0qfXcJsCffv2x+s8vP66xR9Nk40Jz0xqnnCuaPGDw+jWrDh08OGr0aLyYAfsE8DjUavXeXbvVPNMKublehxuC/8bP29rCSqRUqJ3b9Sai0ydOlpeXo1kASQCPIyoysqCggGfZjoic2pi7OpihTYxC1QBEhRU2rZ2dZTLZrh070SyAJIDHsVN7aMjRp1fVoWeD49yatm+jfr2xsWoJ1Z5LGpFY8Nzz44ho49/r0SaAJIBHJpfJD+0/QEQVTBvDPTRkZUmjhpOPF7ZXLdzwUMlphSPGjOXz+enn0pMSE9EsgCSAR3Ps2NHy8nLLVs55eUrNJ0uAA9rEiPh5WZtbipQK9RUp03/gACLa8PffaBZAEsCj2bHtH80HSo9R2omLzdxam6NNjOkNz2N6aHfjwhMKxk+YQER7d+0uKy1FyyAJAB5Wdnb28WPHiEji6K/tSeCENjE6XGknPPFG7z59XFxcZDLZDm3hB5AEAA9lzZ8rWZbt2q1b5jW15jOlMw4NGR9uAKKk1EJZpeq58eOJaON6HCBCEgA8nJKSkm1btxLR2AmvZmYU62l2mpRUYrxq/LSjDqG0ZDnJGqd/Vmo6MT7016ZHvuO+Q5rVW/ZH/deuWK1Z7KXL9V976KjmvsdO6Wc7dvLWlgoq1XHnisY+N1YgEGRmZMTHxeMVjiQA+Hcb//67oqLC3d1dZNuRiJyczNz1UCRQs0TXya8Nvf2M5ue1IXSxiN6dTp9+3SgPx6qIckjx6ENSm5tR/05kbVX/tZWVmsWybPUl+QXVvytVmueo0tMQdTwe0127MxeemG9nbz9w0CDUjQFJAA9FoVCsW72GiCZOfiUyRUpEPYP1eP7o4F605HvNz4pf6NpJsmtHC5dQ3g0DaqA+YXRsF40f+1A3Xvo7OXVvwpXl5pMIT9A04PMvTCCi/Xv2FBUV4XWOJAB44MGPvXvz8/MtLS2fHTs2Ij6/CSYurtLaiV56mkhJOdeNtTWT04macmhSbgCixNRCWaUyNCzM28dbLpevWbUar3MkAcCDrP7jTyIaN2FCpUqQkVms7a3adOXiO9rRcmoeirmRT598Rf1HUJ+naObn90xis2c/zfiYLl2mn5Zqrh08pnYZIPMivfgG9RpGH31BhTfv+eY+4+PqgoRCSe9/qrnk+Onq22zaprmkpFSz/BkfU3RM9VUHj9DwcdT3aVr2R/XkBKlpmpudjCYq1fwy4+Pqw0QKJa1cRwNHap7FD4t1syM0Dn8fG3MLXamAYZjXp7xJROvXrr19+zZe6kgCgPpFR0WlpqYKBIKJk16OTJYSSw5OZp5tLJpmbQ4cpuXLacJL1Nabu0DzoTl4LC34kYYPorFP06/bqPezVH73Q+3SZVq0iF6fromHwX3pYg699DKdjdNdWyCl9qG0/ggN6kO379AzNQYWvVmiueO587o/U1Lp5581l2yrMVbP8jW05wRraUGFhZqrsq/qLt97gIY8RdcLaGh/2nWAZv+qu5xhSCwmgXbCHLFY81M1tc6CxXTkJA3sS+V36MMPmTWNeOCex2O6aUsFZxI1u3cjRo1s3bp1aWnpxr834NWOJACo3yrtDsGw4cOdnJzCE280wZwEP68l1y6aH0F7GjqRPv2UlnxXdSUTn0QpZ2n2F/TBu/TuFPrpA8pPp5i7J8NwM1b2CKZlP9HnH9KW5Zo/d+27mytHNF/Pty+mrz6hpT/SC8OqHzS0h+bfxBTdn+HRRG40cRIdCL+7a3KHjp+iEU/cM1EaZ9suzb+HNtMn79OuDdTqbmr6+dKCORTWlchS88uCOeRgr7vK0Zb+/kNz+93riWzo8IlGbVGuV0FEQr62hYSTXn1Vu6H/qKysxAseSQBQW3Z29rGjR4nolddf03523GiCngTeLjSgBz3RjcaEEAlp5Xbatb/62nZtKSWB3npV92eAr+bf0pLqr+FENGaE7s9Af92HOGffYSIzGtBX9+fQgdWL7RpMJKD4ZN2fJ8Np4hPUvzddSqBcbYkiIZlIRn3Daq+tXE6rttPwkWRvr4uiZwf/+3McN0b3i5MjdfSmWyWN2qJcmSchRSqrVBLR8xPGW1lZ5efn79yOXmZIAoA6Viz7jWXZ7j16dOrUqaS88nzGzareSfoz4gla/Sut+Y02r6YbsdTTlyZNpiPHdddaWVAbJ83X84lTKGwoTfmoniVY6r6Vszzta77qhM7CmyRxIIu7p8O2aV3jLuY0YBCFx+o+3Lcdpn69qKf2nJ/Y+Op/w3rWfiyZnOgmtXGuvqTm7/djUWNwb2GjTyEV4GNjZi5UVqrj0ouIyNTU9MWXXyaiP35frlar8bJHEgBUu3DhwtYtW4jozbffIqLIFCmxZO9g6uVi0WTr5OhAH2rnK955d7egrJz6jqTnppNYTC+PpZGD6rlX3QM4Omoy4dd4Q9x7s36hlBhJJaUUn6T5cA/rybbzJnMfitRWhiNjKay/bg7LugS8+y62Xgyj13c+j+l2dwAi7pKXX5kkkUiyLmUd2L8fr3wkAUC17//3rVqtDuvVq3efPlVnoOu1J0G97Gw1/xbfPc/nr02Ucpb2rKAVv9Abk2lg/0dYlFhCNbuRye/tU8aVClLSKDyKnP3Ytt4Mj0fPP0EnoliVijadosH96lmmUDuFPXv/xRqGsLsDEHF/2tjYTHjpRSL6+YcflUolXvxIAgDSzk0WdfzYMYZhPvr0U+6SyMQm7UlQhRuYwb6V7s9b2kjoGqz783zmIyzK05XKL1Z3UktLv+darlSQkEzHw2n03cpwr54UfZI5G0eUQ71D6y6SNRGTYweKTa6+KDXNALcvN2tNUnKhvFJ3xuqbb71lbmGRffnylk2b8PpHEgAQy7ILvvmGiEaNHu3r50tEpbcV6ee1RQL9Dzx3q4QyLmh+UtNp8XJ6S1sJmDhed621tebfQ8eIKwWv1J4KqXi48/H7hBDXLYCIlErafeCea7lSwclw2neE+oboLgzRlgoW/05kRt271l2kJjDGDKCY0xSXQNyJqhtO1rlV6T2dHppCgI+1mbmwslIVd76oarfg9SlTNE9u4aKKigq8C5AE0NLt2bU7NSVFJBbN+GAmd0l0ipRVs3b2Jt4ulvpem1UrqYO/5sc/iKZN11yyaCEFd9Zd+/wzZO5DE6fRqAnkFUpdA7SftA835v6Tg6lrL3pvJg0eQ72fInmdcyj7hdK2zUS3KUyXBGxbb7LxoQ1/0cihZGZS/2KnTCKypa7DaPSL1H0oDeh0z7WB2rOb2g2hsKF0/kJTbWI+n9eV61WgPZeU88qrk+3t7aVS6UrtqcPQQgjQBFCXXC7/8fvvtFXEyc7OuvNeziRyRQL9zknQpjWtXnnPJfZ2FBRArWusho0NJe7WfK8vLaP33qIO7ahnV/L31V3bO0SzBHvbqm/smj99PHV/WlnQ3g20+R+6mkM9u1GfUNo7grp3qV74+GfJtQ2JhOTcuvor/8ZFlJdPHdtX38zdTbPYqnAK9KeUI7R9N92+TV9+RAIejR1JdrrDWezU1xhnZ8q8SBZmmhWTiDX37dCuemlfvU8SiR5aNyzI6eSZ3IjEG/SyP3eJiYnJuzOmfznr8z+WL5/w4gs2NjZ4OyAJoIVat2Ztbk6ujY3N1Leq+9xGxN/Qfnbo99CQnR29POHfb+btSZ99UP1nzbt08tP81Dx0U2uBDvb0zpT678st2duz9sMNHlD7EifH2nfs1FHzU8W/0z3rMGp49VW2rcjj3vtW9X5oZNyQIYnaUoFYpDuHauy4cav+XHk5K+vXJUtmffEF3g44OgQtUUlJybIlS4jorXffsbDUHQgqu604py0ShAZgnrLmI7Ctjam5sFJeXSrQfD0UCN7/UBOrf6/76+rVq2glJAG0RIsXLSotLXVzc3vhpZeqLoxMlbJqtpWdSVs3CzRRs8Hn87oF6uYqqHn5kKFDg4KDKisrv/4c+wRIAmh54uLi1mpHJ/7w00+E3Ig9WobSkwAaWpi28BORkF/r8jnz5/P5/NOnTu3asROthCSAFkQmk3088wOWZQcNeXLI0KE1r7rbkwCHhpqb0AAH7RBK0sp7z7vt0LHjK6+9RkTz584tKSlBQyEJoKX4fsF3V7KzbWxs5s6bV/Py8jvKc+eKq2Y4geYksJ2NiZmgUq7iBiCqafp7M1xdXYuLihbM/wYNhSSAFuFsdPTaVauI6Ot5c23vHUsnMrVArWZtbCXt3C3RUM2MtlSgHXYiqaDWVRKJZPZ8zXeCLZs3n42ORlshCaCZu3PnzicffMhNQjBs+PBa10ZoDw3puycB6EtYsGPVeOO19O7T56mRI4joi88+w9QFSAJo5hb873/Xrl2ztbP7et7cutc28cTF0Mi4XgV1SwWcz7/4wtLSMutS1pJfFqOtkATQbEVGRPy97i/udJG6fUpvVyjSzhU18cTF+nU5K2vY4CfTDHLYuMYQ2K6ViZlALlPFny+qe62tnd0ns2YR0W9Ll0ZGROL9giSAZqi4uPhj7XGhESNHDn6ynqm1olIL1WrW2kbSwcOqhbSJTCa7kJlZUXGnhTxfAZ/XVRvzEYkF9d5g7Ljnhg4bxrLs+9OnFUqleNcgCaBZUSgU7059K+/6dScnpy/nzK73Nlyfo5AuODTUnHHnB9fqX1bT/AXfurm5FUoL35s2HZOaIQmgWZn91ddno6PFYvGyFb9bWdX/lT9SN3ExkqA54yamjk8qUCjr/5S3sLD45ddfRSJRVGTk4kW/oMWQBNBM/LV23aa//yaib3/4vpO/f723uSNTpGqLBPqeuBj0q3P7VhKT+5YKOH6d/D79/HMiWvrLLxHh4Wg0JAEYvciIyHmzZ3MTFD/19NP3u1lUapFKyVrbSNp7oCdBcya4O1fB/UoFnBcnvjRs+HBtwWCGtAAFAyQBGLOrV69Oe+stlUo1cNCg9z/44AG3jNDOSdAj2IHR73zroH/cWcJV0xrfz7xv/+fu7l5UWPjO1KkymQzthiQAo1ReXv7mq6/dunWrbbt2Pyz8+cEf8dzAZBhuqEUkgXaC+7hE6f1KBRyuYGBiYhIfF/fu1Lcw9z2SAIwyBl6d+PKFCxdsbGyW//mHmZnZA258R6ZMSStsUT0JOOYWFv3697fipkduMTq3byWWCOQyZcL9SwUcXz/fJb8tEwqFJ44f/+SDD1mWxTsLSQBGo6ysbPLEifHx8aampstW/O7q6vrg28ekSVVK1spa3NHTqkU1lKur64pVK9u2bduinrW2VGCvPUBU8K837tO373c//cgwzM4dO+bOnoM3F5IAjCkGEuITTE1N/1yzukvXrv96lzPaT4QewY4oErQQYUFOVcWhf/XU009/PXcuEa1bvXrxokVoPSQBGEcMJCYkmpmZrVy7pmu3bg9zL27iYvQkaEFJoN3WsYlSpeqh+o5NePGF6e+/R0S//Lzwr7Xr0IBIAjDgGCgtfeUlXQz8uXbNw+wNEFGFXJmCngQtTI1SQfFD3uWdadMmvvIKEc356qsN69ejDZEEYIhyc3JeeP75pMS7MdCly0PeMSatUKlQW1mJfb2s0IwthFDA66IrFeQ//L0+//KLUaNHsyz75azP58+di7EokARgWKKjosaMGJl+Lt3C0mLl2rUPHwNVPYy6oSdBC8OdMRzxKEnAMMyCH3+Y/PprRLT6z5VTX3/j9u3baEkkARiEdWvXvvzCi8XFxd4+3v/s3BncJfiR7s71MEJPgpaXBA7aUkHBQ5YKdJ8jPN6ns2bN/d83fD7/2NGj48eOzcvLQ2MiCaApVVZWzvr4kzlffqVSqfo/8cSW7ds9PD0faQkVcmVSaiEmLm6BgjrYiiV8WYUyMaP4Ue/7/PjxK9eusbC0SD+X/syIkSnJyWhPJAE0jezLl198/vnNmzYR0dR33v7tjxUWFhaPupC4c0XKSrW5pcjXy7oltmF29nNjxpxPT2+Bz10o4AVr4z88If8x7h4aFrbln+1ubm5SqXTCc+N27tiBtySSAPRKpVKtWL78qSFDE+ITTExMFi1d8v4HH/B4j7OJuYJhjyBHHq8lFgkq7txJiE8oLy9vmS8k7lzSiKT8x7u7t4/31p07unbrJpPJPpjx3uRJk65du4a3J5IA9CEzI2Ps6DHf/e9buVweHBy8fffuuhPTP0IScHMSBOH80RaZBNrtHpv0aKWCmmxsbNas/+uV117l8XinT5wcOnDQsqW/KhQKtC2SABrtC2xFxS8LF4566umU5GSJRDLryy82bN3i7eP92AuUVSoTdUUCJEFLFNS+lVjCr7itTMosfuyFiESizz7/fPvu3QGBgXK5/Kfvvx85bHhsTAyaF0kADayysnLN6tVP9OmzeOEihULRMyRk76GDkyZPfrwjQlV0RQILUSdvazRyCyQS8oMCtL0KEgr+46J8/Xy3bP/nqzlzzC0sLly4MH7sc5989FFxcTEaGUkADUCpVG7etGlgv/7zvp5dKC10cHCYv+DbtX+vd3Nz++8LP6MtEnTr7NAyiwSgPTD4yL0K7vsRw+O9OPGlQ0ePDnv6KSLatnlLn5DQjz/8MDU1Fe2MJIDHlJuTs+jnhU/06Tvr40/yrl+3sbH5+LPPjp46+dy4cQ3VBYx7/4cFoydBy9VL26sgJilfpWqYDsP2DvaLFi/+c81qL28vuVz+z5ato596euzo0Tt37KisrESDNzkBmsAoyOXyQwcObt28uWr+WHNz88mvv/bKq6+am5s35ANVqpKS0ZOgpQvuYCsSc6WCm8EdbRtqsX369u195MjpU6fWr113/NixxITExITEb+b+n73zAGvq+gL4zYCw91S27Bn2BmWoiFVbt9atiLj3tn9bq9baWmvdW3HVPaEqoKLsLUuWshTCJoyQ9f4feRAjyQsBQVHv7/PzSx4vd5x77j13nx3+I0b4+Pq4ubtLSEhA4UNLAPkABoNRVFiYk5OTkpx8/87dxsZG9LkNmTxh8qTR333XtzYAJSmnmk5nScuIWRkqfrOSl5KWdnRy6sU5jK8GdKkgPrHiRXplH1oC9GoKL29vL2/vstKy0PPnr125UltTc+XixSsXL5JIJFc3N7KdnYWFhYWlpaqaKmwEoCX4FqmiVOXm5uTm5r7Kbv+/qLCQd+OdkpLS2B++nzBpkrGxcf+lAfVS4vitniRA0dXVvfjvlW9cG91s1dstQUrl0inm/RG+lrbWhk0bV65aFRHxOOpxxNMnT+rq6p5ERT2JikJfUFFV0dHWUVJV4aAqLy+Hw+M/cjeEn7+/pqYmbGoEWGgRPc+FBAV5+/hMnjLls6TS08W1oqJCXFxcTExswPbf+2m6k6P8eAKHT3AZXI3sVBZRV6o1UoaW8Mmk9w+z2aOxYo+S3kVAgHVSIFtZtPEN5WcVtPfhxT9NjG1E7QbZ6TiErlK/Dwf63T8lgiBsNpvFYrE59JNHTAkJCQJhQOvYH/v/8vXz691v01JTVy1bHhn97KsdExgMMaioqKBz+NaaALRifBq/4QjAs+QHAQBYjXnNjE93nSQT116s9La2Zib0iIshIgK7vcNBpzezPtH5LATkAWkGghdvZMoT28q/DjHSaLSBXtAM5meJ98uwBDt276Y2UgdyChsbGqqrq3v9czqdzmKxtHV05OTkPmMu0gubVu/Jk5Qi3LpxlPAJZ4cItLZXLOZ4cfEfBuqY7/MP3ultrxhMdzGx2+LinyzSFX/lZ+ZQf1y0Y6o/3D7widDW1oKWQIh0tKGKfALuJ78EADjZaVhZWUBpQPw8WJk56QXvEHMLcyiNrxt4ngDynlj0JIFtX54kQNhs8CgSREX308zvVwKTCe6Hg/ikAZUoD84FRInplL46VQCBlgAy0KEzWKkZVQAAtz49SYA7fxkMHwV8/HHbd0MhY/LnQTB6HHDxAIdPDJxE2Zsqi4sTWpoYGQX1sIigJYB8E6Tk1rTRWJLSRBujPj1J8CwGJMeBtERw+S6gVEE5Cxg2IQhISgXZ6SDmGfjjOGgZKKuaJHGCjbVKT90aQ6AlgHzBdDgutlEnEPpMKxA2G7g6ATsysLECK+aBsEdfhChKS0vnzJiZl5f3aaLD1daByT8AM5N2Wc34Hjx9NnBEgbovRW8ph0BLAPn6edFx3VBf3kSNw+PB/JkdX0YNBzfvfRGiaKJSn0dHNzY0fKL4lJXA+DEdnwP8wZ3wAWQJbDvcGrPZcJkHWgLI1w6DyU5Jp/T5IsEHKCiC29EAXjcmHFUVcO/pwEmOg5mKuDihuYmRUVAHCwdaAshXTip3kcBYqb/iuHAFgCrwKg9KWxhnL4KyLFBJGSDJIYkTbKzgUgG0BJBvA/S6IQcbNSKhf1SCTgc7D7V/SM+C0sakrg5s50gpYwDd3Y86Me2dg3sItASQL4mYNI7j4v5zV3nzbntXNzgEpL78AmoFHk8ikfD4T35BzfnL7cOm4JABZS89OA7uE1Mr4VIBtASQrxkmi52UVsV1Zd7nIGw22HsYAC3w80aQlD7wBWJiapr5KtfO3u6TxtpCA/87CIbYgPUrQGrGwJGGvbkyURzf3MR4CZcKoCWAfMWk5ta20ZgSkkSySb8sEuAeRYKk5+DXYKCqCppaALUJylwAV2+AugKwcTGiowXiM9rN58BAQpxItuQsFaRTYClBSwD5akHdVdrbqPbHIgGCIGDfYQDkwDzOdlKzISAlDcqcb1zGBL8dAhJDwNQJODweaKvj8goHTurQC0hepMBTBdASQL5eXvTDdUPvBwQJyeC/+2BdMFDn7E91dwaPOlyRgBt33r/X3ApexIKYeMB7b3B1Tce/ujrAZH7NZRD2EOQkgV9DgJRU+1dvVxAhSEoNVPDsBUhIBp0ujNqHDlwp1df300jCHV0qgKcKvl6gz7JvvjPKYiel9edJgr+Ptv8fPK/jq48XMPUCdjZgsCa4cQ/8wDlRFRUNfGaBIaqgvBEQCSDxBjDl+GVTNQag003CEBtwdj9wd/n6igBBENzewwCogtnTOx75egOvWcBoCCCRQMTTDinduAPGzwcmhuBVNTBSBpHXgNZgXG0dUB383u46eIDT+4FlH18l62ChTBTHN1HpmYX11kaKsNbAMQHkayM9r5bWyiRJEG1Nlfs+9Nx8cPE8WLgQ6Ot2tHrGhsDXBYyfBFw8gf/Qjl7twnVg61wkLxZUJgJdRfDP8fch3LgKqDWgshTYmYEFawbO7HlfDpuex4Jnj8BPIUBJoeORswMwUwcjAsFQPzAmoGPMNH4VOPALkvMCvIsG76jg3KX3QTyPapdSWRGQlQJrt/d5CnmWCuBeUjgmgHyNvEhtHxDYk1XFiP3QLZCWBM8igbHh+1YPhwPXz4IDR4GeDjJtIg4AXHMLyE8F7r/g8HggJwPWLgKlPB6yJEhARrr93+L5YKgfjkYHUhJfWxkM0myXkqXZ+yfi4iDqBjh8EpCtkeG+OABARQUAZcDdtV2AGurg18WA1wujpGSHlIJngWmb+iONbmSNpBTKi5SKRRNMYa2BlgDy1VmCfj1JoK0F+H0wycuBLWvbrQI6SpCRxjl7g9/+BpbmYPAgMGua4KBi4sDQ4Ygk6St0tD9Ev/1fF9TVwP82cqUEtAcDdVPw615w9C+grASWLeIPBkEQXHQ8mDa0P9Lobqv2NwAJnKUCPB4HK85XBpwd+qZhsdhJnK2B/XSSQKS5ERwOXDgC3lYD3WHtveAudzJv+Q0ETgZeo0H4U3D8r0/g0x+lra2NPaBmosTFwcPzIDIFWPuD0Cugi7fbpRtB4GSc60jwpgTs+bk/4ncwVyGK45sa6VlF0FcBtASQr4v0vLrWZiZJgmDXH4sEPeoUJ0eAA2tByK/A/3vA6xE6YCiYMw3MmwZaaeD3A5/G8VlqSqqXq5urg+Pz6OgBVFrWVuB1LFg+E8xYCn748YNjGd8HtEtp/jTwqhgcOdUfkUuSiDaW8AIiaAkgXyPoAqCtdf8sEvQIaUmwaD7IfwyozWDbLp5ZCWcwYSyYNQ3cuwiOHcZFPPkEaTlz8uTwgJGBo0evXr6ijdY2gApMXhasWw5SHoPEXLDv4PvnPl7tUpo/C9w6DbZvBy/75doidAoRXkAELQHkayOGU6vd+uckgahERQNDV4TFav9saABmTgCxKfxvISrKACiCuk/hM0BVXe2XX3/d9vP24QEjo6MHht+Yq7eAT6cPA1trMH00SBF0g5MGpyjrG/sjCegUYjy8gAhaAsjXBIvFTuQsEniQ1T5nOgz1QGEqLpzjzqy5FcQkAnPDru/Q6bgdvwNQB6zM+zs5bDZ77ryO0w9jxo4Nv/9gQJTWED0Q9RDEJXIa+noQn9Iuty7QaGDbDgDkeDdr9SGOFipEMXxTIz0bLhV8dcC9Q98uGQX1LU0McdLnXiTQ1gbr14PR44D/KFBQBogEcINnpnvUVADE220A0AKHD3acOOvXzhEeP2hwx1ktGzJ5achiBEE+2Uo1FoitDW7mbOA6EowYCtIKgY4qWBL0/s/2vh1SUjQEVw53HOfuayRJRGsLlZQ0yot0iqUhPF8GLQGk5zxJqkjJqZ48wmCwmtQASRK69GdrrSouRvjMSdm9HUydAApfA0kJ4OkOZKQ7nr+K5zbPQE0NyMl84nTFPH9RU11dVlamra39eSWEw+GQM4dxIfNB+VsgIwOGegBx8fY/KMiDV52rAgQC0NAA0pL9lwxXW/V2S5BWsXC8STemC0FuRBZX1LTOCDSUkxaDLQC0BBCQ+7ph2orHAICzN/MiTo1SURgQZ6NQN+Vun2//6AfYWLX/60L/zHKIzrEjR9oHT+npn90SdGy3dXbgq8HETyklD7LaQQDiUyq7HSeFx7xd+tNzAMCNR6/DD4/8/FsSIMKHwlAEn4DbT4rP/D6sKHKKj9vgq4/fDIQksdkIet0QerkYhJ/UlNTEhARdXd2XGS+hNFAcLVSJYnhqAz27qJul+4exZWGnRuX+N1lJnvQkCV5iCi0BBABtDenhroMlxImrZ1jejSoeCEnKKKhrbmKIixPsP+8iwQDm2NH2AcEvu3ZmvcyA0kCRkiBamSuLcgGRo4WKjbGSnLTY8umWtweGzkOgJfjMTAsYgn7QUpdmMtnllJbPniR0kcDGWoUkToAFxE9RYeHj/x56DvV2dXMrLytnoZtcIZylAo6vgkoRdd7VWjU2rZLBZEPRQUsAeQ+JREjMqvrsyUBPEriTNWCJCOTE0WMAgOBFiwAAaurquTm5UCYoHhydSUitFPG8NwIAk8F+9aYBig5aAkgHaXm1ySmU1Fc1nzcZbDaSiC4S2KrBQuGnsrLy1s2btna2jk5OAABzS8uYmBfon/JevfrGheNkqUIg4hoa2rpdKkC5/aSkitKSllcD9QpaAkgHBy5mAQAyXtV+3mS8LKhrotKJ4nh7M7hIIIDTJ08xGIygRYvQ7TFDhw29HHqhrq6OyWQePXSY+1pZadmjhw+/NeFISRCtLFTah5UiuDVGEOTAxez2PlBuLdQraAkg7RSVUcMiil2cNJpbGZ/3vH5MRnsdtrVSlRCH24i7Qm1svHzhgqGhoY+vL/rE2dmltq7Oz3uo39ChcnJy6MN7d+6OCRy1duWqb1BErpz9Zuh95sKJSq7Me1U7aaxRVgG0BNASQDgc+jcHIGDZNEt1ZamCUupnTAnqmnygnCQYYGRnZ/v6+a3btBGP76gdJAnSXwcOiImLq6upBy9ZjD58cO/uuHHff5siQl1eo6cKuhkEX8gEOLBiunlrG7uNDlfdoSX45qmqo/17r8DMTMnbXt1QVy4p+7MtGrPZSAK6SGADLYEAnF1c/tj/1zAfH96H3kO945ISr9y4rq7eIbQDhw9bkW2+TRG5WCoTiLiG+rac18KWClJf1cYnVgT66+kNktXVlEnPg8MCaAm+eY5ez2XS2cumW+JwOGNdeVHmWPuJrKL6pkY6URzvYAEXCXoPgfDt7r6VkhCz5JwqEK7G6KrYsmkWAAAjPbnYz6fzEGgJBgRNLcxz1/O0dGRHe2qhnfHIF+V0RvtgOTq1grdjRaltvfLw9cWwwuJ3TbwhlFKaL4UXXf6v6F1NKwCARmem59U2tzK4L+QVN74sqON+pTNY6Xm1TS1M/sSgJwnIlipwkQDSa9CbzIUsFRSVUcMjij3dBllx7qrztFV/EF2Kziadv1/QQutQ3ZqGtmuP34Q+KCgo/eAm7Xc1rZf/K7oUXlRS0QwAYDDZ6Xm1DU103vDT82q501MsVtcXINASDDjO3S9ootKXTLMgENoFrqMhraQkEfTLi/DY8l0n0lUVSehrEQnvnCbcOnIl58iVXNdJt+5Hl6HPrz564zLh1ulbr/afz3SdeCvuJQVBwHcLw+8+K0VfQBBkbMh/I2bfr2nocKsSn1kVMPdBa5sASxDDOR3qBk8SQD7GEnAWjeNTKFhLBQev5LQPCKZboF9drNTyCurX/51873lp6N0CtBcS95LiNOnmX+czT9145TX1zuX/itCXw16UO0+4efxa7sFL2W6Tbj1KeIvHgYnLH195+Job/uS1kQFzH7x529FhyiysD5j7oKqOBosGWoIBCp3BOnopW1lVcvLw917L5403fRhZMndtlLqKJPdCuu2HUsYHDok8EfDk1CgnB/V/LmWinZ2f/k5aNtfq4ZGAqFOjdHTkjlzNRe8HTs7p2KOdX0LF4XEKihJpnftTYzOqDA0VVRW7XnWHIEg853QoPEkA+RhcrVTweFx9HS33jQCvOJTa1qv3C6ytVNysO9SMJE6Y/r1R6NXcoA1PPew1UJ/4vx5PG+au9ex0YMTxUb7e2n+HZqEv/3QwafoPJo+PtVcEK0vlg5eyCAS8A1ktKauaG351VcsgLdmU3Bpu10dNQ3qIliwsmt4B5wf6HTaCXPnTV1ZKjPdehzljDDWUJcspzT8GGryfAiqjzhhjhGsHLJ5sEZ9JAQC0trHr62im+goAAAlx4vIZFm+rWtBD/5Fx5Z3VgOJoo8Zis5Nzqn2dNAEACS8pXo4Cev1ZhfXUBjpRDO9grgKLBtJrpCTELC2UM15Wx6RXmunLd/mrJIn48FSgigKJ977SX0LsLIYoAhyY7N/RJSotb/K010StwsIJpmExHYPg8rImM315HA5HJOCWTLXMLKxFRyGnb3Qc64t7WW1jpaKlJpOaWzPeV6+9CmRQPB01P7sbCTgmgGAiIU401ZPnd0sQ4D54/vfGvJP13m6D9p3OQO/28ncZtGU+GQAgI0W0sVb5+VBKRn4dAGC8r97SKebtlsBGPfdVXQuN2V4NXlY5Was6WKim5rR3mpgsdkp6lZeDpoCpIc5JAmsLFUkS7ARAPm6CyE4Dy62xrLSYqZ58l9vXcTjc1JEGU0cYoE1/u8I7Dz5xJedRwlsAgIet+q+L7dHnXq6D9p5MT8isAgAEemqtn23dHp212rvypup6WntHJ5PibKlmb6Gaml2NjnQT0ilednDCE1qCr4K/17uaGilMXPJoya5YdKEM5ewOb0V58cAFD9b/ncSdCXXidOrRnXmJGVUuVqoO5irpWTUIgmQW1tPbWO7WqvxRvOiYGoL7R/sAI2Pj2Z1+Lr9B0F3IcSm9d3C/a5m9s636rFWR87Y/Lyx7P8t0aLO7nrbs9yEPV/wez72u0cpIkSRBTOLMiCZkUJys1RzMlbNya5ks9pu3TTVVrd72UKuhJfgqkJMWu/6H76k9w+IzKH5z76d17r9WU5L87/DIfVvcH0QV+89/gNYZGSmihblSck5NdT2tsrLZylCRbKJcX08rrWyJf1lFtlaVluzqKKq964S6sCfDRYI+wNLScsWqld9s9l24SwWvG3o7xUQ8t8Pr0n7fV0X1/nMeoANWAICinPjt/f5Hd3o9S3rnP+9BVmE9AECMiHcgqyZlVbXQmLn5dY7mKpwZJJD7uiEus2rIEAU1JUmok9ASfCXgcLiRroMfHw8wM1JcuzeO+5xAwE/w03t8fJS8PGnbwRT0oStZPTm7Ki6zysZKRVyMICNFNDJSTH1VE59BETg1lPO6oaGhjSiGd7RQhaKGfCTSkmIWqK+CDMrHKLy3vebDoyOc7dVX7I7l7kTC4XCjPbQjjo/S1ZbZsD+hQ+Ft1FOyq1Nzawz0FeSkxYgEvJW5ckpuTXxGlacjnBqCluCrICm7epBHaFllMwBAXkZ8nK9+QVF73/9+dNkgj1D0end1FclRntr5xQ3c4XlqZnXCyyonq44+vr2FakpOdUI6xdtBQMV4wTlabGWuLCUBFwkgfYCbnTrnhvPeuCTLK24c5BGK9velJMQmDTcoK6EyWcjz1MpBHqHoeoCinPhYH72Cwg6FdyOrpWdVv0inOHVuSbJrV/iahAzKUHtNWBzQEnwNmBvIy8iKn7ydhyBIUwvz/rNiU2MFju8nZQIRd+p2PgCgup72OLbMnHNUh3M/sCqlsuXekxKXTkvgYK58N6qkpZlhJ8gTGXoOyBUuEkD6yhJwThXEJvdmqUB/sIyqmtTp23ksFru1jXkrslhPX16MiLc2VpKQJJ681V4RGproYdGlJpyKAACwNVFmMNhX7hc4W3bsfHOwUHkW/7akuNENXp3yccC+4UBBSkJsQ7Dt//Yn/nu/kEZjqqpIHfnJA10kWDrH+uf9SQdDM6lUuoG+/NYgMvoTBVlxYxOlvFe1jhYdFcPeXLWivGmopxa/A3HuSQIPeKYM0ke4Wqp1nipoMNWT79FvxYj4TcG2G/bEP4gqYTBYcnLiB7e6o6tlaxeSdx1MOX8rv6WZoakhfex/nuhPSOIEWyvVxORKZ8uO6U17M5WKimZbG1UZKdiUfRQ4ER0PhQQFefv4TJ4yBYqsX6msbi0oaySJEyyGKPBu9CylNBeXN0lKEGyMlYiE9618C43BYgFZaTFuc09tYYoRcfybRHNeN/jOuEsg4l6FT4azQ5C+YnhwWGZmzS9rneeNNerFz6vraa+KG8SJBHMDed49Dm+rW16XUUniBCtDRd6DOC00JpOFyEm/f7OxmUEk4KBKAwDSUlNXLVseGf0Mjgm+eNRVJNVVBGyB0FaT1laTFjiS+MCw43C8lYQX9JIJy35eJEAQhMFkixHxX9kZn681X30wQWSrkZlZE5NW2TtLoKIg0eXYAcogFalBKlKCFL6r9mIpPKRHwHWCbwX0BBB6cVh/UPyuKeiXF4Yjr+gNu2Qy6uqSXbHcS5AGOIM8Qgd5hGL9NSWnZtrGJ7o+l/SGXbL54caWg8m89+zz/nbHibQfVj2m1LYKj+7e89IfVj2+GFbI+7CNzpqwJoL/eUMT/YdVj1f8Hg8A2Hs+84dVj9+8FezZYt3+pCW7YrEi/etC1oQ1Ef1iCcjoqYIKWMW+aOCY4FshruNMWb9YglJKc0BQeH0dzcdLa5CqdHTyuxv3C7MLax8fG8U9UNp/sNlIP8WSmFU9cekjBpP93Qg9aQmxR89LT13KqahpPbHNg//lrPy6uIQKWhtLeMI0lCTjEiokSMRpAUO4DzPy62Li3qH3NPA+T8iujkuo0P9eDgCQ+7o+LqGihSbY30taTlUjlYElltw39THx7/rFElip4fC4uhraq+JGE105WNGgJYAMXHLfNNTX0fB4nItlv/gkOHHjVX0dbesKh0UTTDl3JTE9Z93Pza1LfVVjb9a/Fxwdv5H3ILrk5j6//gh8X2gmnc46+6ePv9MgAED5DEvP6XcePHpTs8JRWY7U5eXQnd4IAITOxnfroeTGJub+dc5dXrMxViJJEFJfViEIwp1riufcrDBkiEJadvUHzzlb9b04e4KPbnZDNrsRRLN5WLH3OTJSRAszpcysmhdpldASwNkhyMCeGuI4CbG0UO6yrtBnfeeX7Q3ZuGG66FdJEnH0MB1OV7e+v7N26UF+VW1/3UWcnEGRkCT6OXbsVR+sJuXmqAEQkFskIF8EAp5IeL+QcPbqq6ZWBv9rYkS8nY1aQ30b90ZltMU3NlEa5jKorobGvV8BvVYBvZOHP3zhYMXeH4zz05801sjcQB5WNDgmgAxoRnloSYrj+e+f6CskOet46Xm1mq6D0SdLJptNGW6grtyx+v0w/m1FVcsEP71j118Vv2uyM1Oe5K/PuyeksZlx9m7+6/ImMTH8KPfBXnYavE1eG511Mfx1VkEtUQwX6KHtyZnjysivS8yurq1rY7KQk5zzFnO+M8wraXyRThnloVVe2fzvozffD9Nx5ZxCKihtvPWkpKyiWVaaGOChzb0tuZt8SYpRG5rzS6jGnb3d3csdmxbY6mgKWMx8nlr5qqRx9ughL9Ip+aVUFgt5Xdpw8na+vLTYBD893jddyeqx8e+Sc2r0B8uiy9HJGVWjfXTtzVVOcJw+aqlLo7nOyKwxM1NCxx/xmVWZhfXTA/S5txY+jC1/nPBOkoRf8L0JN/BnKRVYsTNZ7KuP3iRkVinIiU8baWik0zd3OIdMNIVVDI4JIF8AmsqS0wKGjB2q00/hT+S4Xli1MzYyqWPlUEVBwlRfXlFOHP167nbetn2JY5c9fBhTFp1UsX5XHLoKivLmLdVx0s1DoVnNrYyUTMrU5RG7T2Vw/9rUwvSYdW/znrjM/NpH0WWTlz4+czefc8N23dmbebV1tMaGtrM3887ezGMjSEJm1dbf43ccSxsTFB56NRe9o+llQZ3/nAfHL2c3tzIex5RPCHmIhtAt40e052vW5ieZnf7gtNSlTfXlBQ6trj56s/X3eBYbiU6tPHszD2EjJWVNZ2/m3Yh40+VNN5t2O5SU0+HLurCMWl9Hc7ZWdeDMpKXkdtzCn5FfR6ezPDsvDrn7tGTr7/HNnesEv53JmL026uGzkrScGv95DyhVHSvVmLEjYO7/oo9ezc3Krz16Lmv0ojD0HC8EAi0BpG+YPFx/wY/m9XW0H1c8XrIrtuRD15so9DbWcA/tBwdHvDg32tlR43ZYUSml477V389mUhvoNw4MP7rF/b8jAWQb1X/OZjY2d0xuHLueW15K/WOrW/jhkf8dC1BRlfznQjaCIFNHGjw7E2hoIK+jI/fsTOCzM4HckxZP4srvHh9ZHj198nADAMDp2/ltNOaZXUOPb/N4cipQVl78xNVXouRr3SyrEb46xW8aRy0I++lISk2jSLuhNs+zaU+MGN7bdfCzM4EXdw3t8oKdqRJRHJ/S6XclnjO35mypOlhNSlVNKi3nvfcVAIDAexSYLPbZ63k6unIxF8bc3u+/Y6UjpbKl29h1NWWiTgQ8PBqwfL41tYEekfAOqi4EWgJIn4HD4f630Pbv/3loDpa5cb/QfertX0+ms9ldDy2O99FDT4qiY4jo5I4BRGxapa6eHOrwBI/H+btqIWwku6ijGx6bXilOIkzgOCRRUZAY5aMjKy3GHzgvy2dZ2Zup4HA49Kz1SLfBv6x1Rp3zkMQJDtZqFZRmUfJFEicc3+axdYWDtLTY8dBs50m3zt7L/3hxSYgTyZYqObm1NDoTbfE1NKTRGSE7K5WM7Go0d3HplURxvLOVgCX3+JdV9XW0cb566P7677y0JSS7n+ldMskcnXMLcNdGPX9B1YVASwDpY2MwwU8vNvS7/61yJBDwB0+/XLMvkfcEu7g4QW+QDPrZ2kgJAFDK8cHAZLEr3japKklQalvRf5ISBABAWWcnt+Rt86BBMtz7M3YvdYw6OYpAEKa65voKvF+Huw6eHqAflfhu/d9JK36Pzy2sEz1fRAJ+0QTThCvjFs2ybGlmbNwdf+hq7seLy9VGncVEXnJW1BMzKA42nXcImqu2NjPzS6lsNpKYTrGzURXoUwh1X2Go07F6IS5GMNDvft+OqlLHGS5xjjARNlRbSKeeQxFA+hBxMULQDybe9prjlz+6fDNv6kgD7p1I4iQCd3s72jOlMVgAAAaTDRCQlEIhj7neZQIE/dDWxpSRFu9RMgiEDzbYpOXVjl/6kNbKsjRX1teWZTKRnuZLVlps6wKyj5Pm1JURuw4mT/DV/cjb8N3IagcASM6p1h8sU/ymcf5EM/S5A+ee59TcagRBqA10b/tBwrLJs6MU3+2eIhz4BGc7INASQL5RqupoWw8lk02Ugyd07CEx0ZVb/KPFL38lRSa85VoCJpPN38qjuyoBAHZktQMbXT/owCp2NLUEIp7B/Kju66o9sQQ8/sXlQL1BsgCAGZufxiZ3fyY2I7/u0L/ZI1y1vvfp2B3rbqM+MdDw0s286NRK1H1ur3G0UMHjcUnZ1Toa7eMkl84r1ayNlPB4XEpubRvHTHrba2CNVNCZNO4TES8Qg0Dg7BCkX2htY90Je30nqpj3oRRnhod3JyitlVnXSEc/UzgnABRlSGijJisv3tTK1B8si/6rrm+LSqqop7Zx5zSqa1rQKXUAwKGruVPXR3HXk0Xh9Ruqk60aagbav5ZSRbJw9bQ7Ya8jEz9YVpWSJIjUAe8O1CN8SlZ1fCZFWkbMVE+u8znR1FQxLacqPqNKWkbMxlhR8DyPogQAoLjzRAKLxS4qboSqCIGWAPLZ0NGQtrZSSUuviuhsNGsa2s5xNvh72H1wa/x/sWXoh3vPSgEAI9210K9ezoPy8+vQE1UMJnvbwaQtv8c3tXQ0/cOcBrU2M/+LfYsOJkLv5KdlVkuS3p9FaGhs470LiB9JSWJhSSP6TnZRfVFRPUuECSIPGzVFZYmwqGLUm0q7CSmn3nr0Bo/HOVmK5PStqqZFSFfdhaxeUd4U9qzU3lqNd9nDzkIt91VdTHKFm4Mm1nKIk6UyHo8Lf1GKri2n59W1NjN7FDsEAmeHIH3Mosnmi14+m7Eyws1FU0KckPKyur6O5u0+2NXqfYuJx+N2HE7NKqyrqW+79aDIxESJe1xr1ndG4ZHF3694FDhUJzOvNj2j2sVJw1S/48zqeD+9E1dy1uyKTcisyi6oe/O6YeMSO+4CsrKCRG5u3aS1kfpacjuX2gtM3sRAg+Oh2dM3PTEfonj70RsTE6VXebUsFlv4sjNJnDB7vMm+Y+mBC8LcnDURBIlLqmijseZNMxusJtWtTBQVJZJSKDO3PDPQlt0ebMf/gruN+rHzWWUl1Ck8Fw2hSwWhV9mUyhavGRpChhSjR+jdCXs9fnUE2Uz5TkSxorJEj2KHQKAlgPQxY4fqqPzj/9up9NyCehaDPURfPmCGxcLxJryzQyRJQuieYbtOpFFqaJPHGf200PZ979tW/exe37O38h69KJeWJC6ba71smjn3r4bactf+9j96LfdZwjspSeKRX73HeGtz/3p4i/u2QynvqlqozXQcDhgMlh0bYKCi8MFy7rpZViwWEp1ckc6oObrdI6uwPimruqmVKS/TzUL0mhmWxjryf1/ITMusbm+jyWrj/fUnc7bA8uNgoUxnsLhz99f+8t9xLJXaQm9tE7zI4WylOjbAAADg33kwG8XVRg197uf8wXKxjbHy2AADErFjMPTnamcVBYnnKZUp2dUHt7g9Ta5oob0fFnSJ3clSjXdGS1ZabGyAAdfWQiDQUw3kU/DjpiexyRWF/0H9gUD6i4/xVAPXCSAQCORbB1oCCAQC+daB6wSQT8H0QKNhzoOhHCAQaAkg3y4B7tAMQCADFzg7BIFAINASQCAQCARaAggEAoFASwCBQCAQaAkgEAgEAi0BBAKBQKAlgEAgEAi0BBAIBAL59ujByTIWk8VkMqHIIBAIZADCYrF67ZFC1LtIg+cviHj8GMoaAoFABixKysrxyUn9aAlaW1uZDAYUNAQCgQxY8ASCtLR0P1oCCAQCgXy1JgSKAAKBQKAlgEAgEAi0BBAIBAKBlgACgUAg0BJAIBAIBFoCCAQCgUBLIJztW7etXbmK++/B/fsAgL/+3HfhfOgnSy6bzc7MzKRSqaK8nJiQEDx/wXAf3+8CRm1ev+FteXm/pi0nO3vtylVVlKqPDOcTi7SvYmyjta1dvaaysvIjA+SKEUGQDevWFRcXD0wxRjx+vG7V6nNnz376Svvu3bu1K1f104H/9nJcuert27dfShPWVwX9KQt0AAq5B5bg7p079fX1Onq66D9VVVUAQEZaWmFh4adJK41GWxay+PvR32Wkp3f7cklJybxZs3EEfHDIIk9v72dPn06ZMJFGo/Vf8iiUqsTEBFrbx0Yhikibm5v7MOVdYuxd4K201lvXr1MbqaJkgc1mt7a2Chcjm82+/u/V2praHnUUuMH2q2aWl5UFz1/AZrNNTEw+faWtrqq6dfMmi8Xq2z4WKjomi3nr5s2G+vovxRL0SUF/mgLl1qyBKGREZOytba5fvYp8Jtra2iaMG+fp6maoq/c8Orrb94ODgqZMmIhexIEgyPPoaENdvciICOTL5/69ez+MGTvQAq+rqzPU1cvPyxfl5cARIx8/eiT8HSaTaairl5KcInoaRAm2r6Tk4uDwuRQgIz3dUFePRqP1YZhc0TU1NRnq6mVnZSHfEp+gQHlr1gAUch+vE9Dp9J4OWul0Om+vH3NA0EojkUg3794RJ4mL1FNITRs5KgCP78igk7Ozu4cHgUD4YIzW1iZ6x0pg2rodZGD1fNtobT0aS/J+raqqYvEJuY3WJvC4uMCI2Gw2r9i7DVw4DAaDzWb3SHoV794JTBVWcYgoLoHB8ha36CIS/k5rS6u0lPRHVhYs3RAYe7d3AWCpIn/uBFZSgaITKJludR7rBd7nAkPGyiavYojSwggMXPgPsQqUt5pg6U+3+RJes3on5AE3Jti4dt2hfw4iCNLc3BwcFGQ6xNDM0OjC+VAnW7u8vDwEQTxd3ZKSktCXd/268+f/bUc/e7q6nTpxMnDEyEULF7JYrN07d5EtLA119Ub6+oU/CBOYADabjSCIubEx75hg5rTp27Zs6fJmc3Ozoa7e0ydPsPLyJOrJj1OmmBkamRgMWTBnbn19PYIgZ06dWrRwIfoCpZLi5uhUXl6OIMi1f69+FxBgqKvn4uAQ8yIGfYH/YX5evpujE6outFba1s2bvdzcDXX1nO0d7t29i6bKzdHp77/+cndyNtY3mDx+QhWFwp82rkj//uuvZSGLg+cvMDEY4mBDPn/2HIIgc2bMJFtYmhgMcXN02vfHnwiCZGVmfRcQYKSnT7a0WrwwuLW1Feu3CILU1tYuXhhsa2VlYjBk6aIQdMzEjZE38JVLl3m5ube0tKA/TE9L83RxpVKpvEllMBirl6+wNjO3Mbf435at3DEBN0B+QUU/e+bm6GSoq2dnZe3m6NTY2Ngu9gULtm/dZmtllZOdzRUjOibYuWOHq4OjkZ7+uNHfvXnzBquY+IPlTUNiQsLYUYEmBkPIllaLFi5sbGwUIqIuGdy8cZOTnT2qmXfv3EEQZOG8+TbmFsb6Bm6OTjt37OB9/8cpU06dOIl+rqysdHN0+v2337jaG+Dn/+jhQ4G6ERUR6eXmjpYdgiC5OTmotAUWLu+YQGDdwdI0gZW0i+gqKioMdfX+3PsHv5YKrAhcsGrxH7//vmXDxknf/2Coq+c/zCcjPX3OjJnG+gY/jBmbmJCAviMwm10UA6uFEV5fhDRNXPgLlLd1wtIfUfLFpUu1RccE/EIWsSX8/GMCGq2tqRPUSldVVTU1UQEAx48ei4uJvXL92o07t2/fvFlbW4tw+olVFAqD3nF1XVNjOx0WkkL58/ffh/n6bNi06cG9+5cvXjx17lxGTvbosWNWrVheWytgdhiHw/E/dHByNDM35+/9AQAkJSWx+obLQkK0tXWi42IPHj0S8+JFGGf1u7m5paGuY+aOjbApFAqb1d533rppk9/w4TEJCU5OzieOH0N7CvwPW1tbKJziBACcOH785rXr+/858OR5tLOz886ff0GNLoVCeXD33uHjx06fP1dUWHj61CmBfQdUpE1NTQ/u37cmkyOfPfUfPnzXjh1UKnXnnt9mzpmjo6t7+fq12XPnsNns1cuXW1paJWek37h9Kyszc98ff2D9FgBw7szZ1JSUO/cfnLt44b/w8MyXL3lj5A18xZrVlRUVL54/R1MVGRGpOWiQjIwMb1JPnzoV8+LFtdu37oWHZ2dl8WeBX1D2Dg6Xr1+TlpZetXYt+qG5ueXRw0c5OTk7du0yMjbmFSMA4Nb1G2cuhEY+e8ZkMn/avAWrmPiD5U1D0Lx5phbmiWmpN+/czs7M3PXLDiEi4uXUiRP379w5fOxYRk524JjvVi9fUV5W9vPOXxcvW6qqqnr5+rWFixbxvq+np/8kMhL9nBAfT6FQIh9HoF/z8/Ly8/PJZLJA3bCysX739m18bBz6clRklKamppSUlMDC5UVg3cHSNIGVtIvopKSkAAAPw8K6/FagznebEo6cmy9fujRxypTI6GfSUlI/jBlrZGL8PC5OU1Nz394/0C6/wGx2UQzMFkZofRHSNHHhL1De1glbf7rJFy9dqi36kF/IIraEn3nFGADw05YttpZW6L+01FTePz178mTcuHHWNjamZmbrNm5oDxpPEB7ahIkTV69dq6OjExUR4eDgYGtnKykpOXPWLHobvUvgQli6fPmUqVP5h5MAAAKBCAC4fetW8PwF6D90qZlOpy9ZsXzFmtXKysq+fn62draZGS+xR5o0JpNpQ7ZVVVOdu2D+IA1NrIe8WFpZ/b7vT7Kt7WAtrekzZ1AoFHRTDQBg8fJlVtbWbu7u7l6eRUVFwnNnMMRg0eKQQYMHBy0KptPp5WVlGhoaSspKUpKS2traCgoKJSUlBQUFU3+cLisrq29g4DdieEJna8L/WwBAS0uz5qBBWtpaTs7O84KC6j9cs+INXEdHx9nF5UlER7v2NCrKx8+3S/JePIsePXaMkZGRlrbWuk0bRZGeJCdwIpGooamhra2NTt/h8fgDhw6OCgzsMn0HAJg1d66xsbGWdrsY0a6WQEEJDBYlKzOL2kgNDgmRlZXV09cfP3FibEyMEBHxEhcT6+Pra2dvJykpuWDhQqIYMT4+Xk1NTUlJWUJCQltbW0lJifd9Dy+v5KQkdEohMSHB188vPy+vpqYGABAbG2tmbqaiqipQN5SVlcm25KdPn3KlPdTXV0jhchFSd/g1TWAlFSg6/t92q/NCUqKurj5h0kRtbe1RY74DAAQFB6uqqU79cXpiQkJbW5uQbPIqhigtjMAC7faHAguU2zoJ0R/h+cKqWQoKClgF9DEt4UdC7NHbW37aNmbcOPSzrKws75/qamsHaQ3u7BnpiRLaUN+OlqWiokJDQ6OwoGMDgIysbFVV1UfOeXH+a7cHWtraLm6uCAJ2/vLLpKlT0JQvCAoqLi4ODwujUChNTc1Cprll5eQ8PD03rF3z86+/+g8fbkMmYz3kxXuoN41GS0xIeP36dVlpGdc4AQB0dXU7lUOzqKBAeD50dDpf1tTkbDlg8U3vVqCjDVR6kpKSXNEJ/K3/8OFnTp5au3rNho0b1m1YLzx2/xEjDv/zD4IgtTU1mS9f/vbH3q47LsrL3Tzc0c/GgjZddCsoFCtraxXOVjSBtpBb6+h0ektLS883bDRxpKHTIRZdXe4Wjm7F29zUZN2ZZhKJpKmhKXxjlaubG4PBSEtNdXJ2TkpIXLF6VXZ2dnxc3KjAwPiYGHdPLyG6MdTH9+b16wAAamNjakrK/375WUjhvlcA7LrDr2miV1L+33ZblEJSYmVtjX5QVFAcrDVYWVkZAKCgoIjOSwjJJq9iiJJ4gQXai6aJt3USoj/C89VtFPxC7vuWsJ8sgaysrKKiosA/sdhsWTk57jyOKKGRSKSOPVUMRmRkZGpKCvpVQV5eSlLqY3JFkpDg9P0ZAAB7Du0DtF9+4b6wdfPmq5ev2Nnbq6mpUTsnrLA4cPjQL9u3L14YbGdvf+DQIVU1VayHXNLT0pYtXoIgiImJCTebHRIn9kDmYmLdvMxktudxxZKl3FUftA5g/dbB0fHYyZPbt23z8fJev2nTtB+nCwncb7j/9m3bsrKy8l690tbWNjY25lsrpit06oOYmJjo0sPSBH7U1TXQD2hnrdulaQwxinFHCbxxdSveLu+LY6cTRU5ejkwmx8XGGpuYFOTnOzk7O7u6xsXGjgwIiI+LnzF7thDd8PH12bd3b2lpaebLl2rq6iamps+jo7EK970CYNcdfk0TvZIK1FLhRSkkJby6QSSKia7DvPIRJfECC7QXTROfnmDpj7B8dd/48gm5z1vC/rIEwgVXV1vHXYjv6c9nz527fOWKvkqMlJQUgUB491bwUbJXubmXL1w8E3re3cMDALBuzRrhoUlLS+/es2fO3LmLFwavWbny7IVQrIdcjh45oqOjc+LMaRKJVF5W9l94eP8VIYFA+C8yAqsh5sd72NDwiMf//H3gpy1bTExN7B0csN7U0NCwIZOjIiIK8wu4XaQuhd7a2UnH2u0gXFDdwmZ39NMbGhoAABIcG9+zCbZ+GGcAAC0ySURBVFA8nnfTCJPBxOFFnRTFtf+WwdNmMfG4bn7r7uUZFxNrbmFhZGwsLy/v6uZ69NCh7OxsOp1ux+mRYOmGqZmZ5qBBT6OevHyZMczXR/TC5a87WAOXj6yk3RZlr2uxKNnsdeI/Mtcfoz+9oG9bwv5aJxCCurrau3cdR+ZycrK5zyUkJGidu+XeVVYI/K2iklJudjZ3OTdwxMiozmW3XuYKj7exsUnFmGJLTUkhkUhu7u5oByQ1OYWbVO7GvsqKis6XU9FzCSampivXrklOSsJ6yEtacoqHlyfafUhOSu7zYmN0qqaiohKLxcrPy0e/nj1zZu7MWUJ+uGnd+qtX/hUXF1+1ZvUQwyFJiYlCAudMEA1//PBh9LNnvn4CLIGqqir3nOSb168FiRpTUEyGSHtVuYeGKJUUJSUlMTExgcUkJFhlZWV00xT6taamGh3Fi4KSinJtdQ33a011tbJKN7/19PJOS0199vSps7MzOl9UVFh09/ZtRxdnVB+E6MZQn2HPnjyJfvLUx8dXxMLtUd3BqqSilEi3Ot/rWiyiDgtPfC+aJhH5GP0RUrM+TUv4GSzBUB/fm9eu37l1+2nUkz27dnOf29nbPbh3j8VipaakxkQ/F/hbazI5NiYmJzu7ra3t7OnTnLkIHRHjvXA+NOzBA/7n308Y/++ly+FhYW0c8l694v7Jhkxua2u7f/ceAODyxYtvXr9Gbb6dvV1uTk5eXh6dTj92+Aj6spGxUXpaGnokLTsrC+3WCXzIC9mWHPk4ora2tqa6+ujhw2h3sq9ELScnV15WlpeX19raqm+gLysnG3r2LIPBKCwovBQaKscdCAtCQUnp9s0b1MbGmpqaincV/AMC3sDRdYXsrGw2m+3Eade64OjsEnbvfntQFRV//fEnx6f2B9nEEpScnFx8fHy1CHOgp4+fqKmpaW1tvXXjuqubG1YxCQlWT19fWUXlzKnT6BT8jWvXHJ2dRBS1k5NTeHjYO85e+xvXr7e0tNja2Qn/ibWNtYSkxOULFx1d2iWmqampq6d35uQpLy+vbnXDx8c3KjKSSqW6uLoCAEQp3B7VHaxKKkqJdKvzva7FIuqwkMT3rmkSkY/RHyE1q89bwk9nCXA4nMBhEbrfY868ubPmzjl25Mj+ffum/fgj96/TZ868f/+eraXVoqAgTy8vPB7H7bZzp+xmzZlt5+gwZlSgvbXNv5evbNq61dDIUMRUXQwNFTj3MmXatLkLFmxav97OytrK1Gxs4Gh9AwMFBUUAgJm5+cw5c9asXGllanbhfKj/yBFUzqKQpZWVnb3d6BEjHWzIkpKS+HZwMjIyU6ZODQlaaGdtE/nocdCiYACAwIdcKQEAFoaENDTUezi7+Hh5D/UZhq49cvfJdMoNL2SwzAkKDzpf5t1B6+XtbWZuPnrEyD/37pWSktr1257w8DBbS6uxgYHa2jprOevAWL8dO25sUWGRq6OT/7Bhvn5+Do6OvDF2CZyzYDvEYIiBp5eXwJH7goVBg7W0hrp7+Hh66errkUikls7RNxoglqBmz5/34N49V0cnKpXKqwm8Ymxqai8UK7LNUHcPOyvr2praDVs2YxUTf7DcNJBIpN179lwKDSVbWLo4OEpISC5ZukyIiHiZPHWqrb39MA9Pe2ubbZs2//TzdnV1dXS2GU8gYJWdu7sHgiCOTh3thaurK5vN9vDssAQCdaPjTTc3CQkJdw8PkgQJneQUWLi8aRZYd7A0DauS8ooOnVni6gP3t0J0vttazCteboDcUsPKZhfFEJJ44fVFyA95hPlBgfJGjaU/3earC7w1Cy0afiF/TEv4sfTVwYT8vHzuTQNv37411NVDzwEhCEKj0YqLi9FzYUKorqoqKy3t2+MSLBYrJzv7dVERg8Ho8idKJYVSKeBgV0VFRUN9Q5eHDfUN5WVlojzkPZRUVFhIp9P76SQIb444nakC7rmkbm9xKCkpEf4yb+Cerm43rl8X8nIVhYKetcFCoKDYbDaTyRQlwa2trW/fvhWlmIQEy2azy0pL6+rqeiFqKpVaXFwsYmpFLDvRdUOUwhWx7gippCKWiHCd/5ha3G02hSe+17kWkY/RH6ya9Slbwm7pM0vw+2+/ebu7o5p06+ZNcyNjERsmyEAm82WmkZ4+elgJ8qXzRVfSXiceNk2i0Gd7hyZMmhT+IMzd2WXIkCHpaWkhS5f2YpsHZKDx6OFDWzs7rK3DkC+LL7qS9jrxsGkSafJflBMQIkJtbExISAAAGBoZcQ9NQL5oMjMzSSSSkZERFMXXwRddSXudeNg0fVJLAIFAIJAvEei9EgKBQKAlgEAgEAi0BBAIBAKBlgACgUAg0BIMYNpobWtXruLeb/NlkZGevnblKv5/NBrty80Ul3fv3q1duYr/Io3Hjx4dP3asj3Vg9Rqujwfh5GRnr125qopSJWIgoigYVph9kvKGhobff/stJDj44X8P165cJfzi617H2CeF8okr4727d8+fO9ff2tWj2PtDST5Lar88S8BkMW/dvNnwoU+VTwObzRbd2axASCSSjp6ujp4unU6/dfMm+llHT5fFYn2uTPVhfqurqm7dvMnvfDgjPSP2+Ys+TFgrrfXW9evURqooL1MoVYmJCbQ2mvBAuA2uKAqGFWafpHznjh13bt4ik8kN9fWJiQm9u3m72xg/plB6JKs+JDUpOSk+ob+1q0ex94eSfJbUdoEIh0VCGDMqcOWa1b5+fr0OwcTU1MTUFAAQHhb26OHDpcuXd6laX1l+BwLeQ72fPH8u/J0H9++fPHb8+u1bfRhm7weOqWkhS5dMnT4dADBx8qSBJs+eyuqbpV+VZMDNDrHZbK5jNgRBujhp4w4hsYaWAh5yXMB3echisQS/jBEy6i9Q+Du8F+hjpaRL97aCcwllt6nlT0NPR9zCU4tVEAJjxJKbKELmz29X2fKJqJusCRKXkED4E89gMD6yjywwkKqqKpag22GxlEd0+Xebcv6yaGltlZKW7pF6CCxQEWUlRIcF0iNZdau3qOi4CiAwIyIWBFZGRC9EIeLFilGg6vLmqNtiEkVKWEPzHqW2XywBtbHR1dHxwP79TrZ2NuYWf+7de/vWLXcnZydbu5//tx3VPyaTuWXTZmd7B0tT0wA//3t373Ic57a4Ozkf2L/fw9nF2tx8yoSJ3JtvkxITxwWOtjG3sLO2CQkORu+PpNPpy0IW21paWZmZbd+6jZvJ8LBw/hC83NxPnzw1emTAimXLBMYOAPhz796tGzdN/mG8lanZcB/flxkZc2fOsjY3Hz92HPd2/qdPns6YOtXW0srC2CRo7ryGhobn0dHuTs4NDQ3rVq12d3KmUqkCU9slDT2VPn+m2Gz2b7t2t2ff1CzAz/+/MAHXrNbV1S0JXuRAJlubmS8LWYwK/9SJk8tCFi9aEGRtbu7m6PTP33+jL2dnZY8ZNcrKzMzO2mZJ8CJUBfmFzJ/fLvniF1E38wlNTUFz59mYWzjZ2u3f9xeWnIVoCJPJXLNipYMN2c7Kej/nymsAwIypU0+fPNU5GKe4Oznv3bOH2y8Z5T/88aNHBfkF7k7OaDMtMJC5M2f9tfeP3Nxcdyfnv/7cJ0TBuPCGKVD+H8xnCopUYFmkJKe4Ozm/LS/fvm2bu5Nz2IMHft5D0ZcP7N+/fPGSRQuCbCwsHMm2oefOCylQrBi7LZSZ06YfOXSY+8KKJUu5mtMjWYmit2dPnw4JCvp5208OZHJ+Xp7AjKBKMmr4CEtT0+9Hf5efny+6dmG1AF5u7snJHX4gdu/c9cv2n4WIFyt2garbJUe8SoKVu+tXr7U/NzVzdXSMjYnlb9O3bdni7e5hbWbu4uB4/9494cogiqxERcT7ierr6w119QJHjKyoqAg9d95QV8/VwfFVbm7MixfmRsaxMbEIghw9fJhsYZmclNzS0nJg/35jfYOy0tKmpiZDXb2Rvn4Z6ekvnj93JNvu2b0bHUzYWlmtX7u2sbHxdVGRt7v7xrXrEATZuWOHt7t7WWlpbEyslalZxOPHWCEgCGI6xNDSxHTvnj3FxcUCY0cQZPtP/zPU1bt65d+SkpJxgaMNdfV27thBqaQsXhg8bdJk9KpUazPzjWvXVVdXP370yMLY5NKFCy0tLSUlJTbmFqHnzqM3dwpMbZc0CBFg2IMHZoZG3K9Ymbp7+w7Z0iolOaWlpeWfv/82NzauqanpEtRff+5zc3QqLSmNj4sz1jdIT0tDEOSP3/ca6upt27KFSqVeDA011NWLjYllsVgjff02rl3X2NhYVFg41N1j544dAoXcJb8sFos3XwJFhCBIRnq6oa4ejUbrkkI0Mb/t2l1fX49qS1JSElYgWKI4dvSoq4NjXl5eaUnppO9/MNTVy8/L37Jh48xp09FY7t65Y6irF+A/HP36KjfXUFevikLhTZXAQN69e/fn3j/8h/mUlJTU1dUJUTAuvGEKlD8vAiMVWBatra0lJSXuTs7Hjh4tKSmJioi0MjVDA9m5Y4ehrt6hfw6Wl5VtXLvO3Mi4sbERq0AFxihKoezcsWPMqFHoCy0tLebGxs+jo3l/JaKsRNHbgwf+MdTVmzJh4v179+h0usCMtLS0ONna7d2zp6G+4fq1a4a6estCFouSEaz2B62haAOFIMjm9RvWrFqNJV6s2LFUlzdHTCaTqyRYxdTW1mZmaLR/3z5KJWVZyOK5s2d3ydo/fx+wNDFNTUkpKy1dFrLYzdFJiDKIIivR6dns0IzZs9TV1adOnyYjIzNi5EhjExNXNzdLK6sXz6MBAHExsT6+vnb2dpKSkgsWLiSKEePj49Ef8nvxz8rMojZSg0NCZGVl9fT1x0+cGBsTAwCIfvpszLjvB2tpubi6jP7uOwqFghUCyoSJE1evXaujoyMkdnV19QmTJmpra48a8x0AICg4WFVNdeqP0xMTEtra2uh0+pIVy1esWa2srOzr52drZ5uZ8VJSUlJbW5tIJGpoamhra+dk5whMbZc09NQM82cqKiLCwcHB1s5WUlJy5qxZ9DZ6Gp/ntZaWZs1Bg7S0tZycnecFBdV3Lt/Jyclt2rxFRkZm6vTpmoMGJcTHlZSUFBQUTP1xuqysrL6Bgd+I4QmxcQKF3CW/6P3p3HwJFJHwrElISKxas1peXn76jB/V1NTiY+OEB8IvihfPokePHWNkZKSlrbVu00b0NQ8vr+SkJLTblZiQ4Ovnl5+XV1NTAwCIjY01Mzfr4hlfYCAaGhpKykpSnCwrKCgIVzB+sOQvPFKBZSEhIaGtrU0gEtXU1DgfPvB5YDDEYNHikEGDBwctCqbT6eVlZVgFKjBGUQpl+IgR2VnZFRzXb3GxseJi4l1cEokoK1H0Fr33/8Chg6MCA8vLywVmJDs7u7a2duGiRXLycj+MH486FhQlI8LbH4HwixcrdiGqy80Rgce9AVYxtdFoTCbThmyrqqY6d8H8QRpdvVJbWln9vu9Psq3tYC2t6TNnUCgU7h4w0VP7KdYJrDm+/PF4vKycnJVNp19/RUUmk4UO2bQ7b3cikUiaGprcdVFeL/5s9GWOcxhu66mjq4u+XFNdraHR4cR8557fpkydihUCCte/rpDYraw7k6qgOFhrMOp8TkFBETWGsrKyC4KCWltbw8PCzp0929TUzD/ex0ptlzT0FP5MVVRUyMnJFRYUFhYUUihVMrKyVXwzFf7Dh7/MyFi7ek1NdfW6Deu9vL3R54aGhqiHE9RjH5VKrXhXgQ770AAlJSXR0LCE3AVuvkQRURe0dXS4DrvV1NUbGuqFB8IvivLychUVFfShsYkJ+sHVzY3BYKCtTFJC4vhJEzUHDYqPa69m8TEx7p3eYLgIDETEssACS/7CI8UqCyHo6HQmiePhncliYQUiYjb5C8XWzk5ZReUJx0Xis6gnHp6eojjE7p3eojURNdVYGXlbVk4ikWRkZDryYmoiYkaEtwAiihcrdiGqy83Rh+ttgnMnKyfn4em5Ye2aRw8f2pDJv+zayb/mPHTYsMSEhH+vXHnO8fDIjUj01H6KvUPE7nz58zr+F+f5zO/FHwAgJibGdavE/SGdweANRHgIXWLEil2su2Rv3bz56uUrdvb2ampq1MZGgREJTK3Arz2QJ1+mmAxGZGRkakqHa2UFeXkpSaku7zg4Oh47eXL7tm0+Xt7rN22a9uN09Ll0p04AAJSUlDlOaRjo5C93JhBVIywhC5GtKCLq0pfkflZUVkIVWkgg/KJgMOgKnbdhc0tQTl6OTCbHxcYam5gU5Oc7OTs7u7rGxcaODAiIj4ufMXu2KIGIWBZYYMlfeKRYZSEEMTE+9cAIRMRs8hcKHo/39/ePioicMm3ak6iopaL5Uu+d3vJqlJCM8F6BLrC2YmmXkBZARPEKiR1LdQXWIyFlfeDwoV+2b1+8MNjO3v7AoUOqah9YkfS0tGWLlyAIYmJi0iXkHqW23y2BcHB4PCoC7gIOHoc55sC3v8zk0SQm6hqTSCA0itDQfGTsvLzKzb184eKZ0PPuHh4AgHVr1oie2v5g9ty5y7urkN7DhoZHPP7n7wM/bdliYmqCuiOu63S63Z5CNovrIe+/yIgurUNPhSyKiPg3Jr3fbtDQICEh0dNASCRSa0sL/14Ldy/PuJhYcwsLI2NjeXl5VzfXo4cOZWdn0+l0fue6WIF87H5BQfLvNlKBZdFTBAYiYjb5CwUA4DdixJLg4Oys7PLy8qHDhvWr3nabEXESqaUzI+1dFoy8CMxIr1uAbmPvhf5jlbW0tPTuPXvmzJ27eGHwmpUrz14I5f3r0SNHdHR0Tpw5TSKRysvKBPrl7ams+mV2SDhKKsq11TXcrzXV1coqylgvKyu3d1prOxuvmppqdNJGUUmppqYaffjz/7afPXOmP2LnJTUlhUQiobNsCIKkJqd82NlhCkltn6OopJSbnc3dshY4YmQUZ+TOy6Z1669e+VdcXHzVmtVDDIdwd0BlZ2dzeyu11TXKysqKikosFis/r2NTwdkzZ+bOnCVcyGh+eyQigRQVFnI/V1ZS1NU1ehqIqqoq9yzrm9evuc89vbzTUlOfPX3qzJnRdnVzKyosunv7tqOLM38HDSuQ9i6VoJ2RooAlf+GRYpVFz9QDIxAh2RReKBwBuhKJxN2//mprZ6ekpCTwh93KShS9FTEjVA4deXnzWvSMYLUAEhIStM5Nme8qK4SrnMDYe6q6WLlLTUmdMmEii8UyMTVduXZNclJSlx+mJad4eHmiapyclNxtBRFFVp/BEjg5OYWHh73j7Em/cf16S0uLrZ0d1st6+vrKKipnTp1Gt6jeuHbN0dmpfejt4BB+/0FjQ2NNTc2tG9fFRe5A9Sh2XmzI5La2tvt37wEALl+8+Ob1a273X05OLj4+vrqqCiu1XbRz3x9/1tXVfYwMrcnk2JiYnOzstra2s6dP5716pa3ddSFaQUnp9s0b1MZ2EVW8q+B2SNls9pHDh+l0emJCQlZmppOzi76BvqycbOjZsxwnsYWXQkPl5OSECJmbX9FFhEVFRQW6vyIqMrKyosLZ1aWngTg6u4Tdu9+ex4qKvzg7I1ms9vetbawlJCUuX7jo6NJuCTQ1NXX19M6cPOXl5SV6IHJycuVlZXl5eb04Q44lf+GRYpVFj8AKBCub3RZKe9dSXNzbZ1hsTIyPn+DlLlFkJYreipIRK2trEol04XwogiD37t599vQZQ+SMYLUAdvZ2D+7dY7FYqSmpMdHCTn5hxd5T1cXKnZGxUXpaWmREBIIg2VlZ/ENYsi058nFEbW1tTXX10cOH0ZFNT1P7KSwBDrx324/n8+U/eepUW3v7YR6e9tY22zZt/unn7erq6ugcBXeGnevFn0Qi7d6z51JoKNnC0sXBUUJCcsnSZQCAtRs3KCopujk5ebm6mZiYjvvhB+4sR5cQ0GBxnSkSGHtHsnE4nlFb12SbmZvPnDNnzcqVVqZmF86H+o8cQeWsD7cPeOfPe3DvnqujE51OF5ha3jTk5+UfOnCgHsMS4AAOh8fxplxgpmbNmW3n6DBmVKC9tc2/l69s2rrV0MiwS1Bjx40tKixydXTyHzbM18/PwdGRu2Icfv+BI9l25rTpwYtDbO1spaSkdv22Jzw8zNbSamxgoLa2ztoN6wUKuUt+qVQqr2yFiKiLeFGampocnZxOnzxlbWa+fPGS5atWGRkZYQWCpSELFgYN1tIa6u7h4+mlq69Hah8Lt6JCc3f3QBDE0anDGLu6urLZbI8Pl4vRVGEF4uXtbWZuPnrEyD/37hWiYF0LkRMmlvy5CIwUqyw4wQICnsCrGJyHePD+c4eEsQLByma3hYL+yc/fHwDgg3G2XBRZiaK3vBqFlREpKalfdu08duQw2cJy945fx44bRxM5I1gtwPSZM+/fv2drabUoKMjTywut+FjiFRi7ENXl0/320LByJyMjM2Xq1JCghXbWNpGPHgctCu7y24UhIQ0N9R7OLj5e3kN9hqHL4D1NbS/pc8/IVCq1uLgY9R/dLWw2u6y0tK6ursvzhvqG0pLS/o6dF0olhVJJEZhCbmhYqe1zqquq0K3QWDCZTPSUA+8m6zkzZrJYrDdv3qBnL7lwOiYF/F68BQqZN78iikgI5eXlXU4b9DSQKgqlsbHxI+WJFQiDwehdgPzyFzFSrLLoEViBiCgr/kL59/KVYR6e3Ub68XorYkaYTKYo1Z8/I1gtAI1GKy4uZrPZIhauwNh7qrpC6l15WZmQXxUVFtLpdNFVsXdNZReg98qvhD/3/pGZkXHq3FkoCkhPCZ6/YLC29taftkFRfLNA/wQQyDdNa2vr8+hoH18fKIpvGTgm+Ep4XVREpVKtbWygKCA9oqmpKSkh0d3T4yO3t0KgJYBAIBDIFwycHYJAIBBoCSAQCAQCLQEEAoFAoCUQiSuXL3u6uP62a3cfRo/l8B298fzMqVNftHCxHL53+/Jff+67cD704xPwxfl279sYsRDo+xtBkA3r1hUXF39k4L3WW6wE9EiLehp4n9PTUh6YXuD7o637SiwBk8ncs3OXhaXlv5cuXb96ra+ix3L4jsPhMjNfJnBuGx449JXD925fzkhLK+S5WaXXTo+/ON/uvY6xRyIS6PubzWZf//dqbU3tRypGr/UWKwE90qKeBt7n9LSUB6AX+H5q674SS5D3Km/K9GlHThzftWfPQ6E35PUIE1PTpcuXL12+PGB0oJiYGPqZ6/Z9oDFmVGDMixefIKJT585u+99P6OcH9+/PnDa9d+GgLra1tbWFvNPT8EUJs2/pNsaPEdGXpRhfH59enT5XWzfQLYGIZ5H1DfQXLlqEIIiPn28O5wbgPr9igf/qC/QJrZXG/zKtldbt2XGBZ/pFD43JZHZ5ueLdO/7f8l7tQOP4JBKeKS4sFqvLtRACX6ZQKKyeX56BBZ1OZ7FYvHF1CZ/7XKCgRMxIt5EKL8Ruo25ubub9oUARCSt9IFjUvci7QMXotd5iJUDEW2F6F3jvssz/PmYpC6oUKKjvOX4EXqzd7aXiWO7me+oF3mCIQXBICADA198vJzubwWDAMcF7JCQkZGVl0UuXiEQi1yVFv9Lc3BIStJBsaelka8fr0XtsYKC1ubm9DXnpohCB+nH96rX2d8zM3ZycULfRp06cXL54SUjQQhsLC3cnZ16H7/yh0en05YuX2FlZW5ub/7ztJ9Thu4ezS0NDw/rVazycXahUqre7x+mTp74LGLWSM4J5+uTpzGnT7KysLU1MF86bL9zhe11d3dJFIY62tjbmFssXL+H3/7V5/YbDBw8BAObNmr3/jz9zc3M9nF24/sRRZk6bxuvb3cPZhde3e+DwEahvdw9nF65v97UrVzmSbe2tbf7uDEpg+OFh4Z4urjYWFlMnThLo250bZrcZERgpltixyog3xsiIiBG+fmQLy+HDfFBXZV2ygLpWby87M/NR/sO5rtWfPnkaOGKklZnZD9+NKcgvwCqa8LAH7k7O1ubmP4wZW1xc/DTqyVAPT+7MT0Z6urebe1PT+9v3+BXjY/SWPwFd/nr29OnFixahn6soVR7OLuiiTq8DZzKZWzdvcXFwtDIzG+U/nOsF3tvd4wMv8D//zHHb2eLh7HJg//4u6oFVyliVwsvN/dSJk6NHBqxYtiw/L9/dyRntSbBYrN07d3Hd4oc/CONWZyFe4LHczffaC/xnaeu+GEvAJSoysrS09Hl09CdIXMz/2TvzsCau9Y9H4oJ1uQ9Ur8qitiKtCiRhCUGJIJBYrYpSba3VCm0pVHoVEUEWpeURl1+LWHFDEYriz+uuV7ZeBRVklU0gIGXxFi1rZA1hi5P7wIHpOFuGBBDvM9+/cJy855x53/Oec+ac5JOaashiJT58IBAKDwUFtbW1QRDk6e5uYGCY/ST/+q2boqKikOBg1Ke6u7v3+fnZCgSpmZlcrvm58LMMBqO5uTk+Lu7vM2dkP8n/fsf2YyFHM9IziKwF//RTQcGTuH//FnXx4vVr11JTH5mYml66dnXSpEk7PT3BHw319SE//2xts8zbx6erq2uHm5uu7uzk9LTjp0+lpabGx8aStOv8r1F5ubm3Y2KjLkb/lpBQVIhmAjc0NEgkvTkl6PChLY6Os+fMuXTtquNXTsh75s597+H9++DvrMzM+vr6+4n9vwhf9vvvZWVlbDa7o0NaX18PZmGRERFpqalXb928Ex9fLBKBO3Ht301IOHkmLOJ8VGVFRSRm8xNpU2FDcAsleuy4PkKWWFdX5+m+c62DQ2pmJsfY+HDQAWwT4mJiL1+6dC4q6kmx6OM1q3ftdG9sbOzo6PDetcvGzjY7P3+z41Ykgxql2zduRkZfSHz4UCaT/eC/l23MqautTX3U/1PGSYlJs7S0JiPYcNjAUDpucSuAnRu1NPXv4kByqL6+HnoFqWI8Ijw89l//OhkW9qRYtHL1Kk/3nX++eNE3zNT3dPfPhdvb2sB7f7D8io+JRYUHrpdJOgWy7yDDCeu7ly9fdnd37/X1tRMK07KyuFzz8LNnsEuB7du26erOTslIPxF2Gi5IIpHExcYasdlJyQ8FQuHB/fvb2to6Ojq8PDxsBXY5T55scXIkiYQRznVv30hw9nQYQMiOQOVgiLOzqwuS6L3xi00AFW0rFDzOyMSs+/7CRjt98zWMjZ46daqPrx8W+I619ig5ZbX92kEB3912bN+xywMGXosKi0jahUSif+Xs3Ey8Q4vLEwdawufDbPfsx48Vst3TUh59vGY1gJ7v9tlDYn/b9n/AvPJnz56p0hDcQkmciPXRa/t7ublSqfRr52+m/336F19uYY4dC0EQqgkPkpKwaHXq7O8vnZz09fV1dHU2bdn8OCtr6tSp5jzew6T+ETf5wYNlr/8+D25gKBe3uBWg8hMAqhjPTM8YFAUeNzxwvUzeKeC+g7SM6zuFFHgS3LyKFPgzp04zGIzHmC1leiRg5OTk5GRn2wkE5WVlCpnmqos60RspgI328doNsNGBB4LAdeWA70GHDxEB361s+pPCYIHvAInu5bmbCIlORSi2u8OG9TDbPSs9fbElH3W/Emz3GTNmUmG7kzRksGx3rI+Q1sQNYg1NzfHjxwN4yNWbN9QwDFFctDqK/T3/A32SycdA6TO6u7ulUqmdUHg/KUkul78Ui4sKC5fZ2g5T3BJVQGFxqhhvl0h0BtIxFQo8bnjgepm8U8B9R6HvJk+ZQk6BJylIFQr8COe6N67BcYzD+xYErm7bfL33VFRUwKQLqVTqu2dPZXlFU2Ojh9fudQ4OJ0KP/zshnqnGnKU1a/PWrRaLFytROSKi984BSgwRFvzYyRP7AwO/d/3O2MTk2IkTABtNBHzHWlMC+L7P35868N3UzCwsPDwwIMDWytrLxweLRKciXLZ7ZkYGYLtv3oomIw4T2528ISRsd1wnYn30ujXFfsFFq1NnfwMOYl/pmuBFlp1QEBgQIBKJ+jhcuvr6+sMXt7gVUFicisYHRYHHDQ+i0CLpFPggeAIsPujOgAIPd2dYY8aMIcLNq0KBP9u3IPjuezcfL29UrvPx9ga5bpe31zoHB9SVRQYGJ0JDfwkNBRFr//GqnZ67BEJh36LnfmFhweg8GzmIkaC8rDzx3j2LxYuNWCw9/fk5jx/DTyfmzh0tLe2jx46Vl5W7ubquc3BoaKh3dXNbsXLl76WlPl7e12/fGqoaM5nMhMR75Lls0qRJBw8fdnRy+t71u90eHr9GXyABvmOtKQd8j7xwHgCvvXfvVvgRq2XW8UvuHj8W+sPevVgkOkUt5ltmpmfAbHeeBe/MqVMjz3YnaQgJ2x3Xibg++utTYyn5ZauTEwqtHnPnzmvsb+LT6xDUvwYCu45g85DFZt9PTKwsr7CysR3WuMWtwLAaV50CT+RlJToFru+IujOspyUl1HHzFCnw5LlOW1vnl9DQ8rLybS4u6xwcUFdiEuJTk1N6enrGjRsnKip6XlWVlvIIjATJyclGLKO3/u0Q2KtxdnVhMBhGRqwb1671YZIaoiIjn5aUvv9+78JTb77e+k83IM9yzdfXf0YBe0tRWFT011sdUffk5eZ9vuFTgI1299wFY6OpAN+BtdeB74FDDnz3895DjkRHT2QInh5gu6ckJ3P7oMojz3ZX2BCKbHfYiVgfIa1pamhK2trA1khJcfHG9RvgXg03QUNTs7SkBN5LXPXRivtJSSj29x//+Q9Ri+Av9NXX1WtqaoLcaicUJN69m5KcbGtnQ7wWkakYtyQVgKWurg4fZKqrrVXduOa0d5sQXzdTggJP5OXBdgoi3xF1Z+V6H0UK/NkzYQwGA9AlWSz29atXEbnuKZzrNnzWWzHUFSaT+cGHH4Kd85zsnE1bNufm9p/Cys7K5Jqbj9KRgOLx4Zqamju3bi9atGiJpaVcLudZ8PLz8t23b3dzdZmgri5cLgg9ejQtNVUul3/z7bdqampgXd/T03Pl8uWZM2YwmcyK8vKQ4CONjY1Eh51Rx5Bx/zn3vbkAFd3d3V1eVn4pOnrKlCkoU3rz9QA2GoKgYpGIY2wMPg6A711dXVmZmaKiIjOuOZE1ExOThLi4luYWsVh8++b18ePGActT+oDvDQNHHeASjVgsALyWy+UAeA2j/nBPgv9NQ+P2zRutLb32a2tqjU1MsDfDfwOeeGlpqVQqRdkxNDLsZ7ubm8vl8pkzZ86eMzcqIpLP52PtmHLNE2LjxGJxTU0NgJ7LZD1Y+7h1IDqZTtQQWLiFEj12XB8hS2Rz2Gpqalf+eVkul8fHxVVV/TFx4kRUEwxZrPS0tGKRqLOzE6DVdXR0DQwNAfsbgiDA/u6W9eC2K/JsuFgslkqlt25c51lYgOt2AkGxqBiCIDMuF/eBEAXGoOKWpAKwTY4x52lJSWlpaVdXF9jPVNG4mZlZQkJ8dXW1XC4HFHg2hwMKiouJkclkuTm5aSmPcEOCPLSodwo4GQHfobD4Cinwg8LNU6HA19bW3rl128DAwJLP75tgWSBz3fKPlh8LCQGHjpxdXJhMJvaKKZebk53Tt9mQvdrevqmpub29vbWlVdou1dLSqqyoCAk+0kQAPB/ta4Lo8+d7enqcBxDMCxYutLK2jo+J/fPFnwKh0JzH+78jwf57fPb5+8Nf2fjp0OH1a9cG/Rj4j77lXnlZ+anjxykC3wHEWW0A842EOB84dPi33xJMjFjrVq/W1Z3t6e2FMjV58uTPNm50c3E1ZXOS7t4DixgGgzFv3ryEuHhzYxPHzVtctn0HgO+41jz3eGtoaFjyeNZLLPX1P7Bftw5YcPz6q/jY2CV9x8ZRwPctjo67PTxYCxddvBBtt1xIDnxfY7/mWeWzJea85ba2Nra2SCQ6fDMMDecvXfrhggVrVqzEHg1kMpmLFy/p7YoDFiwseBAELXl9uxjY/OZbZy1tbRv+UjsrayT0HGl/sGx3koYA4RZK4kSsj5Alauvo+AcEHA0ONjFiRUVE+g4cskQ24UvHrRxTk7WrVpuxOVf+ecXH319vvt4777wTeCDobNhpY0Ojw0EH1tjb43LSezMFm2XDX2rKYje+bPT28x3YaJ333vvvWfL5RK9fkIGhdNySVAA2ZWBoyDHmrFmxkssxnjhxolqvxqhi/NONG9nGxrZLrczYnAA//30//gBT4OPiYk2MWG6urpZ8PqDAg/CAX9nB4YHrZZJOgQuCl8vlAItv//EqUxb76uV+3wEKvJuLqwmLff9eItydYfUW5OSIxc0rTYG/EBWFynXWy5bF3Yl58fyFcPlycx7v56Mhvl7ee/38QK7DXjHjmuX1fRvj95KnCxYsYLPZ+Xl5OTnZJlyzvkPeZSdDQ5tH2UgwRunfM4EgKDMjc8HCBfDpw/b29gA//44O6YmwsB/27eNZWHy0YsVLsXilcPnDtFSKbzypSCaTVf3xh5a2NonN1pZWiaRNS1sb/DMk+EhRQcHZyIjnz5/PmjULnD8ht9ba0tra2qqjq4OKVwiC4FyJFPgVLdR2FpFevXpVXV09ffp0io9FJpNR38glkbihYcLAF2eGxD6VhuAWin3sJD5CuaCqqmratGng8D5uE16KxZ2dndo6Oqiq1lTXoByKVWdnZ1NT06zXN12tLfnuuzzWDswJcGtFFBiDiluiCiBVV1c3UX3i1L9NHSrjEomksbFRW1sbWf+urq66ujpdXV3sVIa6lwfVKbC+g4tGdWeS3kelthQjgTzX7fP16+iQnjxzBntFKpV+ZCe4cOn/9/n6RV2Mjgg/194uaW+X6n+g7/DJJ6Pz7dAYFX/ZCujihWjLpfw5c+a0trTaWC19lJFx6MABMBL0zjscHPYfPEh+cnG4BbLMuahfGbRGq0atj0RFok/s7dOzHyOPndAauSRFbShS4mYlFH3+At9qKch11nzLtKysa1euoq6oq6t/Yr/W2mYZBMl37HTPz8v75UhIW1vbL8dDUbOTt3LHmERNTY0Z6f3fAn/33WnIWUl1dXVNdc08PT06oGm9pbp39y6bw6GHgTcl1HaCwpuHtTJNTY3wN5OnTetdCmOvMBgMLpf767kIUzNTBoOxcNGiwoKC5qamUTsM9I6gQ3Kqp7Ki4uD+/WPHjquurt60+YvPPv/8x4CAlAcPJ0yYMG78uK+cndfY27/Zdj6rrJRIJIZGRnS/GrUatT4SiUTjx4+HzxHSGvmZvhKfGqbFQWVFRVBgIMh1X2zZvHHTJuwVMHtwc3HNLSwA7zA3rt+gO2fOT8E//4+PBEDihgYNTU3yV6W0aNGipWLKpviR4XtThM11b3v2G8qRgBYtWrRGbFRQePNw7xn8L2nscL9Wo0WLFi2KORpOR1SSuFwuJ79N4Q20/hoJ6EdAixatERZyAoqbrMENqufxobJDjwS0aNGi9WZGBYVLBIqzfnpxoHgkoN8O0aJFa+Q1qKUAydSenvUPidToR0CLFq03shTA/vQQ8r/IVw8UP0Lls7QYDMZ/AwAA///3sMBquNq8mAAAAABJRU5ErkJggg==)"
   ]
  },
  {
   "cell_type": "code",
   "execution_count": 20,
   "metadata": {
    "colab": {
     "base_uri": "https://localhost:8080/",
     "height": 565
    },
    "id": "kIXxXcqkY7FJ",
    "outputId": "ea82993e-f564-4f3c-9285-57d75ca615b8"
   },
   "outputs": [
    {
     "data": {
      "text/plain": [
       "<matplotlib.legend.Legend at 0x7fd847a247c0>"
      ]
     },
     "execution_count": 20,
     "metadata": {},
     "output_type": "execute_result"
    },
    {
     "data": {
      "image/png": "[encoded data removed]",
      "text/plain": [
       "<Figure size 1080x648 with 1 Axes>"
      ]
     },
     "metadata": {
      "needs_background": "light"
     },
     "output_type": "display_data"
    }
   ],
   "source": [
    "spectral_bandwidth_2 = librosa.feature.spectral_bandwidth(x+0.01, sr=sr)[0]\n",
    "spectral_bandwidth_3 = librosa.feature.spectral_bandwidth(x+0.01, sr=sr, p=3)[0]\n",
    "spectral_bandwidth_4 = librosa.feature.spectral_bandwidth(x+0.01, sr=sr, p=4)[0]\n",
    "plt.figure(figsize=(15, 9))\n",
    "librosa.display.waveplot(x, sr=sr, alpha=0.4)\n",
    "plt.plot(t, normalize(spectral_bandwidth_2), color='r')\n",
    "plt.plot(t, normalize(spectral_bandwidth_3), color='g')\n",
    "plt.plot(t, normalize(spectral_bandwidth_4), color='y')\n",
    "plt.legend(('p = 2', 'p = 3', 'p = 4'))"
   ]
  },
  {
   "cell_type": "markdown",
   "metadata": {
    "id": "I9yOyhMeZMvB"
   },
   "source": [
    "## 4. Zero-Crossing Rate ##\n",
    "\n",
    "Очень простой способ измерения плавности сигнала - это вычислить количество пересечений нуля в сегменте этого сигнала. Речевой сигнал колеблется медленно — например, сигнал частотой 100 Гц пересекает ноль 100 раз в секунду, в то время как беззвучный фрикативный сигнал может иметь 3000 пересечений нуля в секунду.\n",
    "![1*E_XSqizmLNksjknrD8oV2w.png](data:image/png;base64,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)\n",
    "<br> Обычно он имеет более высокие значения для сильно ударных звуков, таких как в металле и роке. Теперь давайте визуализируем это и посмотрим, как мы вычисляем скорость пересечения нуля."
   ]
  },
  {
   "cell_type": "markdown",
   "metadata": {
    "id": "Et_0pbo2ZpJ8"
   },
   "source": [
    "## 5. Mel-Frequency Cepstral Coefficients(MFCCs) ##\n",
    "\n",
    "Кепстральные коэффициенты малой частоты (MFCC) сигнала представляют собой небольшой набор характеристик (обычно около 10-20), которые кратко описывают общую форму спектральной огибающей. Он моделирует характеристики человеческого голоса."
   ]
  },
  {
   "cell_type": "code",
   "execution_count": 21,
   "metadata": {
    "colab": {
     "base_uri": "https://localhost:8080/",
     "height": 474
    },
    "id": "p8VpOt7JZqa4",
    "outputId": "7ee58917-b107-4df3-b6be-9dcbe8aafb9f"
   },
   "outputs": [
    {
     "name": "stdout",
     "output_type": "stream",
     "text": [
      "(100, 126)\n"
     ]
    },
    {
     "data": {
      "text/plain": [
       "<matplotlib.collections.QuadMesh at 0x7fd8461a6820>"
      ]
     },
     "execution_count": 21,
     "metadata": {},
     "output_type": "execute_result"
    },
    {
     "data": {
      "image/png": "[encoded data removed]",
      "text/plain": [
       "<Figure size 1080x504 with 1 Axes>"
      ]
     },
     "metadata": {
      "needs_background": "light"
     },
     "output_type": "display_data"
    }
   ],
   "source": [
    "mfccs = librosa.feature.mfcc(x, sr=sr,  n_mfcc=100, lifter=50)\n",
    "print(mfccs.shape)\n",
    "#Displaying  the MFCCs:\n",
    "plt.figure(figsize=(15, 7))\n",
    "librosa.display.specshow(mfccs, sr=sr, x_axis='time')"
   ]
  },
  {
   "cell_type": "markdown",
   "metadata": {
    "id": "eTojNsgxZzC-"
   },
   "source": [
    "## 6. Chroma feature ##\n",
    "Признак или вектор цветности обычно представляет собой вектор признаков из 12 элементов, указывающий, сколько энергии каждого класса высоты тона {C, C#, D, D#, E, ..., B} присутствует в сигнале. Короче говоря, это обеспечивает надежный способ описания меры сходства между музыкальными произведениями.\n",
    "\n",
    "librosa.feature.chroma_stft используется для вычисления характеристик цветности."
   ]
  },
  {
   "cell_type": "code",
   "execution_count": 22,
   "metadata": {
    "colab": {
     "base_uri": "https://localhost:8080/",
     "height": 352
    },
    "id": "5dtXi-QYZ3K2",
    "outputId": "cc098651-aaa2-4fda-eb21-429e1aebf4f2"
   },
   "outputs": [
    {
     "name": "stderr",
     "output_type": "stream",
     "text": [
      "/home/latna/.local/lib/python3.9/site-packages/librosa/core/pitch.py:153: UserWarning: Trying to estimate tuning from empty frequency set.\n",
      "  warnings.warn(\"Trying to estimate tuning from empty frequency set.\")\n"
     ]
    },
    {
     "data": {
      "text/plain": [
       "<matplotlib.collections.QuadMesh at 0x7fd846111310>"
      ]
     },
     "execution_count": 22,
     "metadata": {},
     "output_type": "execute_result"
    },
    {
     "data": {
      "image/png": "[encoded data removed]",
      "text/plain": [
       "<Figure size 1080x360 with 1 Axes>"
      ]
     },
     "metadata": {
      "needs_background": "light"
     },
     "output_type": "display_data"
    }
   ],
   "source": [
    "hop_length = 128\n",
    "chromagram = librosa.feature.chroma_stft(x, sr=sr, hop_length=hop_length, n_chroma=120)\n",
    "plt.figure(figsize=(15, 5))\n",
    "librosa.display.specshow(chromagram, x_axis='time', y_axis='chroma', hop_length=hop_length, cmap='coolwarm', )"
   ]
  },
  {
   "cell_type": "markdown",
   "metadata": {
    "id": "F6SG-N6oo02b"
   },
   "source": [
    "Что-то с MFCC и Chroma feature все плохо.  *Или мы не умеем ими пользоваться!*"
   ]
  },
  {
   "cell_type": "markdown",
   "metadata": {
    "id": "CNi21aI8R9Bi"
   },
   "source": [
    "# Альтернативный набор признаков #\n",
    " посчитаем те же признаки, но:\n",
    "* офильтруем сигнал в диапазоне кита до извлечения признаков,\n",
    "* rms будет нормированный\n",
    "\n"
   ]
  },
  {
   "cell_type": "code",
   "execution_count": 23,
   "metadata": {
    "id": "30AoHeV8SFmd"
   },
   "outputs": [],
   "source": [
    "import numpy as np\n",
    "from math import pi, cos\n",
    "freq_range = [80, 200]\n",
    "improved_features_cached = [None, None]\n",
    "def improved_features(wp, ws, full, sr, id):\n",
    "\n",
    "    if improved_features_cached[0] != id:\n",
    "        df = (1.0*sr)/len(full)\n",
    "        nf11 = round(freq_range[0]/df * 0.9)\n",
    "        nf12 = round(freq_range[0]/df * 1.1)\n",
    "        nf21 = round(freq_range[1]/df * 0.9)\n",
    "        nf22 = round(freq_range[1]/df * 1.1)\n",
    "        \n",
    "        yy = np.fft.fft(full)\n",
    "#        plt.loglog(abs(yy))\n",
    "        yy[:nf11] = 0\n",
    "        yy[nf11:nf12] = yy[nf11:nf12] * np.array(\n",
    "            [0.5 - 0.5 * cos((nf-nf11)*pi/(nf12-nf11))for nf in range(nf11, nf12)])\n",
    "        yy[nf21:nf22] = yy[nf21:nf22] * np.array(\n",
    "            [0.5 + 0.5 * cos((nf-nf21)*pi/(nf22-nf21))for nf in range(nf21, nf22)])\n",
    "        yy[nf22:] = 0\n",
    "        filtered = 2 * np.real( np.fft.ifft(yy) )\n",
    "#        plt.loglog(abs(yy))\n",
    "#        plt.show()\n",
    "        improved_features_cached[:] = [id, filtered]\n",
    "    else:\n",
    "        filtered = improved_features_cached[1]\n",
    "    fin = min(wp+ws, len(filtered))\n",
    "    wx = filtered[wp:fin]\n",
    "    rms_norm = np.std(wx) / np.std(filtered)\n",
    "    spec_cent = librosa.feature.spectral_centroid(wx, sr=sr)\n",
    "    spec_bw = librosa.feature.spectral_bandwidth(wx, sr=sr)\n",
    "    rolloff = librosa.feature.spectral_rolloff(wx, sr=sr)\n",
    "    zcr = librosa.feature.zero_crossing_rate(wx)\n",
    "    features = [rms_norm, np.mean(spec_cent), np.mean(spec_bw), np.mean(rolloff), np.mean(zcr)] \n",
    "    return features\n",
    "improved_features_dict = {'f0':'rms_norm_band', 'f1': 'spec_cent_band', 'f2': 'spec_bw_band', 'f3':'rolloff_band', 'f4':'zcr_band'}"
   ]
  },
  {
   "cell_type": "code",
   "execution_count": 24,
   "metadata": {
    "colab": {
     "base_uri": "https://localhost:8080/",
     "height": 364
    },
    "id": "T6aEPN0Py-7P",
    "outputId": "80907763-30a1-477f-9250-5624b95fbb1b"
   },
   "outputs": [
    {
     "data": {
      "image/png": "[encoded data removed]",
      "text/plain": [
       "<Figure size 432x288 with 1 Axes>"
      ]
     },
     "metadata": {
      "needs_background": "light"
     },
     "output_type": "display_data"
    }
   ],
   "source": [
    "# Проверим improved_features\n",
    "wpp = np.array([int(sr * 0.25 * n) for n in range(0,10)])\n",
    "ws = int(0.5*sr)\n",
    "res= np.ndarray((wpp.shape[0], 5))\n",
    "for j in range(0, wpp.shape[0]):\n",
    "    res_j = improved_features(wpp[j], ws, x, sr, -1)\n",
    "    res[j,:] =res_j\n",
    "tt = (wpp+ws*0.5) / (sr*1.0)\n",
    "plt.plot(tt, res[:,0])\n",
    "plt.plot(tt, res[:,4]*100)\n",
    "plt.legend(('rms_norm', 'zcr*100'))\n",
    "plt.show()"
   ]
  },
  {
   "cell_type": "code",
   "execution_count": 25,
   "metadata": {
    "id": "NHCrhWjBJsny"
   },
   "outputs": [
    {
     "data": {
      "image/png": "[encoded data removed]",
      "text/plain": [
       "<Figure size 432x288 with 1 Axes>"
      ]
     },
     "metadata": {
      "needs_background": "light"
     },
     "output_type": "display_data"
    }
   ],
   "source": [
    "plt.plot(tt, res[:,1])\n",
    "plt.plot(tt, res[:,2])\n",
    "plt.plot(tt, res[:,3])\n",
    "plt.legend(('spec_cent', 'spec_bw', 'rolloff'))\n",
    "plt.show()"
   ]
  },
  {
   "cell_type": "markdown",
   "metadata": {
    "id": "4q-_saq5L_Mq"
   },
   "source": [
    "Графики выглядят более или менее осмысленно, особенно rms_norm.\n",
    "Можно пробовать запихивать в классификатор. <br> Но мы пока этого делать не будем. Попробуем для лаконичности использовать библиотечные функии для фильтрации. <br>\n",
    "Более того, сделаем нарезку в разных частотных диапазонах"
   ]
  },
  {
   "cell_type": "code",
   "execution_count": 26,
   "metadata": {
    "id": "_MLTcPzMhSsu"
   },
   "outputs": [],
   "source": [
    "from scipy import signal\n",
    "from scipy.signal import butter, lfilter\n",
    "import numpy as np\n",
    "freq_range = [80, 200]\n",
    "sos = signal.butter(5, [80, 200], 'bandpass', fs=sr, output='sos')\n",
    "\n",
    "def improved_features_lib(_wx,sr):\n",
    "\n",
    "    wx = signal.sosfilt(sos, _wx)\n",
    "    rms = librosa.feature.rms(wx)\n",
    "    spec_cent = librosa.feature.spectral_centroid(wx, sr=sr)\n",
    "    spec_bw = librosa.feature.spectral_bandwidth(wx, sr=sr)\n",
    "    rolloff = librosa.feature.spectral_rolloff(wx, sr=sr)\n",
    "    zcr = librosa.feature.zero_crossing_rate(wx)\n",
    "    features = [np.mean(rms), np.mean(spec_cent), np.mean(spec_bw), np.mean(rolloff), np.mean(zcr)] \n",
    "    return features\n",
    "\n",
    "improved_features_dict = {'f0':'rms_norm_band', 'f1': 'spec_cent_band', 'f2': 'spec_bw_band', 'f3':'rolloff_band', 'f4':'zcr_band'}"
   ]
  },
  {
   "cell_type": "code",
   "execution_count": 27,
   "metadata": {
    "id": "x4AF1qmBnDR6"
   },
   "outputs": [
    {
     "data": {
      "text/plain": [
       "'/home/latna/aponom/whales/Canada/data/clips/dataset_A/train/audio/A_1772.wav'"
      ]
     },
     "execution_count": 27,
     "metadata": {},
     "output_type": "execute_result"
    }
   ],
   "source": [
    "files[-1]"
   ]
  },
  {
   "cell_type": "code",
   "execution_count": 28,
   "metadata": {
    "id": "RvzpCYCX6tRS"
   },
   "outputs": [
    {
     "name": "stderr",
     "output_type": "stream",
     "text": [
      "/home/latna/.local/lib/python3.9/site-packages/librosa/core/pitch.py:153: UserWarning: Trying to estimate tuning from empty frequency set.\n",
      "  warnings.warn(\"Trying to estimate tuning from empty frequency set.\")\n"
     ]
    }
   ],
   "source": [
    "# improved_features_lib2 – этот набор признаков работает пока лучше всего\n",
    "from scipy import signal\n",
    "from scipy.signal import butter, lfilter\n",
    "import numpy as np\n",
    "import librosa\n",
    "\n",
    "\n",
    "# audio_data = data_folder_name + files[my_file_num]\n",
    "x , sr = librosa.load( files[0])\n",
    "ws = int(0.5*sr)   # (window size) увеличим размер окна в два раза\n",
    "wd = int(ws * 0.25) # (window delta) сдвиг. соответственно оставим как раньше, поэтому уже берём четверть\n",
    "# x = trim_and_fade(x)\n",
    "wx = x[:ws] \n",
    "\n",
    "rms = librosa.feature.rms(wx)\n",
    "chroma_stft = librosa.feature.chroma_stft(wx, sr=sr)\n",
    "spec_cent = librosa.feature.spectral_centroid(wx, sr=sr)\n",
    "spec_bw = librosa.feature.spectral_bandwidth(wx, sr=sr)\n",
    "rolloff = librosa.feature.spectral_rolloff(wx, sr=sr)\n",
    "zcr = librosa.feature.zero_crossing_rate(wx)\n",
    "mfcc = librosa.feature.mfcc(wx, sr=sr)\n",
    "\n",
    "# создаём набор признаков для improved_features_lib2\n",
    "features_dict = {'f0':'rms_mean', 'f1':'chroma_stft_mean', 'f2': 'spec_cent_mean', 'f3': 'spec_bw_mean', 'f4':'rolloff_mean', 'f5':'zcr_mean', 'f6': 'mfcc_mean'}\n",
    "for i in range(len(rms[0])):\n",
    "    features_dict[f'f{len(features_dict)}']=f'rms_{i}'\n",
    "i = 0\n",
    "for raw in chroma_stft:\n",
    "    for j in range(len(raw)):\n",
    "        features_dict[f'f{len(features_dict)}'] = f'chroma_stft_{i}'\n",
    "        i = i + 1\n",
    "for i in range(len(spec_cent[0])):\n",
    "    features_dict[f'f{len(features_dict)}'] =f'spec_cent_{i}'\n",
    "for i in range(len(spec_bw[0])):\n",
    "    features_dict[f'f{len(features_dict)}'] = f'spec_bw_{i}'\n",
    "for i in range(len(rolloff[0])):\n",
    "    features_dict[ f'f{len(features_dict)}'] = f'rolloff_{i}'\n",
    "for i in range(len(zcr[0])):\n",
    "    features_dict[ f'f{len(features_dict)}'] = f'zcr_{i}' \n",
    "i = 0\n",
    "for raw in mfcc:\n",
    "    for j in range(len(raw)):\n",
    "        features_dict[f'f{len(features_dict)}'] = f'mfcc_{i}' \n",
    "        i = i + 1 \n",
    "# создаём имена для признаков следующего шага\n",
    "\n",
    "# features_dict_base = features_dict.copy()\n",
    "\n",
    "# for key, value in features_dict_base.items():\n",
    "#   features_dict[f'f{len(features_dict)}']=f'2_{value}'\n",
    "\n",
    "sos = signal.butter(5, [80, 200], 'bandpass', fs=sr, output='sos')\n",
    "def improved_features_lib2(_wx, sr):\n",
    "    \"\"\"\n",
    "    Функция которая для окна выдаёт вектор признаков\n",
    "    \"\"\"\n",
    "    wx = signal.sosfilt(sos, _wx)\n",
    "    rms = librosa.feature.rms(wx)\n",
    "    chroma_stft = librosa.feature.chroma_stft(wx, sr=sr)\n",
    "    spec_cent = librosa.feature.spectral_centroid(wx, sr=sr)\n",
    "    spec_bw = librosa.feature.spectral_bandwidth(wx, sr=sr)\n",
    "    rolloff = librosa.feature.spectral_rolloff(wx, sr=sr)\n",
    "    zcr = librosa.feature.zero_crossing_rate(wx)\n",
    "    mfcc = librosa.feature.mfcc(wx, sr=sr)\n",
    "    features = [np.mean(rms), np.mean(chroma_stft), np.mean(spec_cent), np.mean(spec_bw), np.mean(rolloff), np.mean(zcr), np.mean(mfcc)] \n",
    "    features.extend(rms[0])\n",
    "    for i in chroma_stft:\n",
    "        features.extend(i)\n",
    "    features.extend(spec_cent[0]) \n",
    "    features.extend(spec_bw[0])\n",
    "    features.extend(rolloff[0])\n",
    "    features.extend(zcr[0])\n",
    "    for i in mfcc:\n",
    "        features.extend(i)\n",
    "    return features"
   ]
  },
  {
   "cell_type": "code",
   "execution_count": 29,
   "metadata": {
    "id": "nBAU5QBUuarA"
   },
   "outputs": [
    {
     "data": {
      "text/plain": [
       "821"
      ]
     },
     "execution_count": 29,
     "metadata": {},
     "output_type": "execute_result"
    }
   ],
   "source": [
    "len(features_dict)"
   ]
  },
  {
   "cell_type": "markdown",
   "metadata": {
    "id": "wVnr6OIdszlo"
   },
   "source": [
    "## Разворачиваем все признаки и нарезаем сигнал полосами  ##\n",
    "Это работает не лучше, чем развернутые признаки в полосе 50-200Hz.\n",
    "Поэтому это не используем"
   ]
  },
  {
   "cell_type": "code",
   "execution_count": 30,
   "metadata": {
    "id": "XLRDxKZFMke6"
   },
   "outputs": [
    {
     "name": "stdout",
     "output_type": "stream",
     "text": [
      "[(50, 100), (100, 200), (200, 400), (400, 800), (800, 1600), (1600, 3200), (3200, 6400), (6400, 12800), (12800, 25600)]\n",
      "50\n",
      "100\n",
      "100\n",
      "200\n",
      "200\n",
      "400\n",
      "400\n",
      "800\n",
      "800\n",
      "1600\n",
      "1600\n",
      "3200\n",
      "3200\n",
      "6400\n"
     ]
    }
   ],
   "source": [
    "#[50,100] [100, 150] [150, 200], ...\n",
    "freq_ranges = []\n",
    "begin_freq = 50\n",
    "while begin_freq < sr:\n",
    "    freq_ranges.append( (begin_freq, begin_freq*2) )\n",
    "    begin_freq = begin_freq*2\n",
    "print(freq_ranges)\n",
    "from scipy import signal\n",
    "from scipy.signal import butter, lfilter\n",
    "import numpy as np\n",
    "# freq_range = [80, 200]\n",
    "soss = [] \n",
    "for freq_begin, freq_end in freq_ranges[:-2]:\n",
    "    print(freq_begin)\n",
    "    print(freq_end)\n",
    "    soss.append (signal.butter(5, [freq_begin, freq_end], 'bandpass', fs=sr, output='sos') )\n",
    "def improved_features_lib2_full_band(_wx, sr):\n",
    "\n",
    "    features = []\n",
    "    for sos in soss:\n",
    "        wx = signal.sosfilt(sos, _wx)\n",
    "        rms = librosa.feature.rms(wx)\n",
    "        chroma_stft = librosa.feature.chroma_stft(wx, sr=sr)\n",
    "        spec_cent = librosa.feature.spectral_centroid(wx, sr=sr)\n",
    "        spec_bw = librosa.feature.spectral_bandwidth(wx, sr=sr)\n",
    "        rolloff = librosa.feature.spectral_rolloff(wx, sr=sr)\n",
    "        zcr = librosa.feature.zero_crossing_rate(wx)\n",
    "    mfcc = librosa.feature.mfcc(wx, sr=sr)\n",
    "    features.extend([np.mean(rms), np.mean(chroma_stft), np.mean(spec_cent), np.mean(spec_bw), np.mean(rolloff), np.mean(zcr), np.mean(mfcc)] )\n",
    "    features.extend(rms[0])\n",
    "    for i in chroma_stft:\n",
    "        features.extend(i)\n",
    "    features.extend(spec_cent[0]) \n",
    "    features.extend(spec_bw[0])\n",
    "    features.extend(rolloff[0])\n",
    "    features.extend(zcr[0])\n",
    "    for i in mfcc:\n",
    "        features.extend(i)\n",
    "    return features"
   ]
  },
  {
   "cell_type": "code",
   "execution_count": 31,
   "metadata": {},
   "outputs": [
    {
     "data": {
      "text/plain": [
       "'/home/latna/aponom/whales/Canada/data'"
      ]
     },
     "execution_count": 31,
     "metadata": {},
     "output_type": "execute_result"
    }
   ],
   "source": [
    "data_folder_name"
   ]
  },
  {
   "cell_type": "code",
   "execution_count": 32,
   "metadata": {
    "id": "c49GoGCthpMk"
   },
   "outputs": [
    {
     "data": {
      "image/png": "[encoded data removed]",
      "text/plain": [
       "<Figure size 432x288 with 1 Axes>"
      ]
     },
     "metadata": {
      "needs_background": "light"
     },
     "output_type": "display_data"
    }
   ],
   "source": [
    "# Проверим improved_features_lib\n",
    "x , sr = librosa.load(files[my_file_num])\n",
    "ws = int(0.5*sr)\n",
    "wp = 0\n",
    "res = []\n",
    "tt = []\n",
    "while wp + ws < len(x):\n",
    "    res_j = improved_features_lib(x[wp: wp+ws], sr)\n",
    "    res.append(res_j)\n",
    "    tt.append( (wp+ws*0.5) / (sr*1.0) )    \n",
    "    wp = wp + ws \n",
    "plt.plot(tt, [r[0] for r in res ] )\n",
    "plt.plot(tt, [r[4] for r in res ] )\n",
    "plt.legend(('rms_norm', 'zcr'))\n",
    "plt.show()"
   ]
  },
  {
   "cell_type": "code",
   "execution_count": 33,
   "metadata": {
    "id": "OC8QK4UejvK4"
   },
   "outputs": [
    {
     "data": {
      "image/png": "[encoded data removed]",
      "text/plain": [
       "<Figure size 432x288 with 1 Axes>"
      ]
     },
     "metadata": {
      "needs_background": "light"
     },
     "output_type": "display_data"
    }
   ],
   "source": [
    "plt.plot(tt,  [r[1] for r in res ] )\n",
    "plt.plot(tt,  [r[2] for r in res ] )\n",
    "plt.plot(tt,  [r[3] for r in res ] )\n",
    "plt.legend(('spec_cent', 'spec_bw', 'rolloff'))\n",
    "plt.show()"
   ]
  },
  {
   "cell_type": "markdown",
   "metadata": {
    "id": "HuK0-DY9xwtS"
   },
   "source": [
    "Всё отлично. Библиотечный фильтр работает как надо."
   ]
  },
  {
   "cell_type": "markdown",
   "metadata": {
    "id": "v8qytOabgQx5"
   },
   "source": [
    "# Построение обучающей выборки (X, Y) #\n",
    "Признаки извлекать мы научились. Осталось пройти окном по аудиофайлам и создать обучающую выборку вида: <br>\n",
    "$(X, Y )$, $X$ – матрица признаков, $Y$ – метки <br>\n",
    "$ X = (x_1, x_2, .., x_i, ..., x_n),  |x_i| = \\textit{number of features}$ <br>\n",
    "$ Y = (y_1, y_2, ..., y_i, ..., y_n), y_i\\in \\{0, 1\\} $\n",
    "<br>\n",
    "$ n = \\frac{t_{len}} {\\textit{window}_{size}}$ \n",
    "\n",
    "\n",
    "Но с канадскими данными есть проблема. В приложенным к ним файле разметки присваивается label=1 для всего файла целеиком, который имеет длину 3 с, а кит занимает там только некоторую часть. Беглый просмотр маленькой выборки файлов показал, что они нарезаны так, что сигнал кита примерно по центру, но смещается влево-вправо от файла к файлу, т.е. он может быть [0.9, 1.8], а может [1.4, 2.1], к примеру. Если для файла стоит label=1, то:\n",
    "* на отметке 1.5 всегда есть кит,\n",
    "* кит целиком заватывает интервал [1.4, 1.8] в 82% случаях,\n",
    "* кит по-максиуму бывает в интервале [0.9, 2.2].\n",
    "\n",
    "По этому для обучения решено отмечать окна:\n",
    "* в интервале [1.4, 1.8] как $y_j=1$,\n",
    "* вне интервала [0.9, 2.2] как $y_j=0$,\n",
    "* в интервалах [0.9, 1.4] и [1.8, 2.2] не использовать для обучения\n",
    "\n",
    "(Это справедливо для папки A и с учетом того, что я обрезаю 1000 отсчетов сначала файла)"
   ]
  },
  {
   "cell_type": "markdown",
   "metadata": {
    "id": "gUw4CTpiCKcC"
   },
   "source": [
    "Осталось пройтись окном по каждому файлу и разбить на окна\n"
   ]
  },
  {
   "cell_type": "code",
   "execution_count": 34,
   "metadata": {
    "id": "3vznHk_bCLbj"
   },
   "outputs": [],
   "source": [
    "#возьмём окно длинной 0.25 секунды\n",
    "# ws = int(0.25*sr)   # (window size) размер окна измеряемый в сэмплах = time_in_sec * sample_rate\n",
    "# wd = int(ws * 0.5) # (window delta) сдвиг. возьмём в пол окна, можно было бы и в четверть взять\n",
    "# ws = int(0.5*sr)   # (window size) увеличим размер окна в два раза\n",
    "# wd = int(ws * 0.25) # (window delta) сдвиг. соответственно оставим как раньше, поэтому уже берём четверть"
   ]
  },
  {
   "cell_type": "code",
   "execution_count": 35,
   "metadata": {
    "id": "pjtZDm3rs-E4"
   },
   "outputs": [],
   "source": [
    "# features_dict = {'f0':'rms', 'f1': 'spec_cent', 'f2': 'spec_bw', 'f3':'rolloff', 'f4':'zcr'} #, 'f5': 'mfcc'}\n",
    "# тут уберем mfcc и chrome потому что с ними сложность\n",
    "\n",
    "# а тут вернем их:\n",
    "features_dict = {'f0':'rms_mean', 'f1':'chroma_stft_mean', 'f2': 'spec_cent_mean', 'f3': 'spec_bw_mean', 'f4':'rolloff_mean', 'f5':'zcr_mean', 'f6': 'mfcc_mean'}\n"
   ]
  },
  {
   "cell_type": "code",
   "execution_count": 36,
   "metadata": {
    "colab": {
     "base_uri": "https://localhost:8080/"
    },
    "id": "eaG-UxmTsXgA",
    "outputId": "b8d9e541-e5e1-4ccb-8e41-2a3bd40e3b10"
   },
   "outputs": [
    {
     "data": {
      "text/plain": [
       "6.002086167800454"
      ]
     },
     "execution_count": 36,
     "metadata": {},
     "output_type": "execute_result"
    }
   ],
   "source": [
    "len(x)/len(wx)"
   ]
  },
  {
   "cell_type": "code",
   "execution_count": 37,
   "metadata": {
    "colab": {
     "base_uri": "https://localhost:8080/"
    },
    "id": "rxDk0NMcqbwB",
    "outputId": "2be09736-6c54-4e61-bcac-54641651f598"
   },
   "outputs": [
    {
     "data": {
      "text/plain": [
       "7"
      ]
     },
     "execution_count": 37,
     "metadata": {},
     "output_type": "execute_result"
    }
   ],
   "source": [
    "len(features_dict)"
   ]
  },
  {
   "cell_type": "code",
   "execution_count": 38,
   "metadata": {},
   "outputs": [
    {
     "data": {
      "text/plain": [
       "'/home/latna/aponom/whales/Canada/data/clips/dataset_A/train/audio/A_1629.wav'"
      ]
     },
     "execution_count": 38,
     "metadata": {},
     "output_type": "execute_result"
    }
   ],
   "source": [
    "files[my_file_num]"
   ]
  },
  {
   "cell_type": "code",
   "execution_count": 39,
   "metadata": {
    "colab": {
     "base_uri": "https://localhost:8080/"
    },
    "id": "fimjRHNsuicF",
    "outputId": "5f1f0636-ecd4-44da-c080-d4f5dc3cb90a"
   },
   "outputs": [],
   "source": [
    "# создаём словарь признаков для improved_features_lib2_full_band\n",
    "audio_data = files[my_file_num]\n",
    "x , sr = librosa.load(audio_data)\n",
    "x = trim_and_fade(x)\n",
    "wx = x[:ws] \n",
    "\n",
    "rms = librosa.feature.rms(wx)\n",
    "chroma_stft = librosa.feature.chroma_stft(wx, sr=sr)\n",
    "spec_cent = librosa.feature.spectral_centroid(wx, sr=sr)\n",
    "spec_bw = librosa.feature.spectral_bandwidth(wx, sr=sr)\n",
    "rolloff = librosa.feature.spectral_rolloff(wx, sr=sr)\n",
    "zcr = librosa.feature.zero_crossing_rate(wx)\n",
    "mfcc = librosa.feature.mfcc(wx, sr=sr)\n",
    "\n",
    "\n",
    "# features_dict = {'f0':'rms_mean', 'f1':'chroma_stft_mean', 'f2': 'spec_cent_mean', 'f3': 'spec_bw_mean', 'f4':'rolloff_mean', 'f5':'zcr_mean', 'f6': 'mfcc_mean'}\n",
    "features_dict = {}\n",
    "\n",
    "for freq_begin, freq_end in freq_ranges[:-2]:\n",
    "    features_dict[f'f{len(features_dict)}']=f'{freq_begin}_{freq_end}_rms_mean'\n",
    "    features_dict[f'f{len(features_dict)}']=f'{freq_begin}_{freq_end}_chroma_stft_mean'\n",
    "    features_dict[f'f{len(features_dict)}']=f'{freq_begin}_{freq_end}_spec_cent_mean'\n",
    "    features_dict[f'f{len(features_dict)}']=f'{freq_begin}_{freq_end}_spec_bw_mean'\n",
    "    features_dict[f'f{len(features_dict)}']=f'{freq_begin}_{freq_end}_rolloff_mean'\n",
    "    features_dict[f'f{len(features_dict)}']=f'{freq_begin}_{freq_end}_zcr_mean'\n",
    "    features_dict[f'f{len(features_dict)}']=f'{freq_begin}_{freq_end}_mfcc_mean'\n",
    "    # features_dict = {'f0':'rms_mean', 'f1':'chroma_stft_mean', 'f2': 'spec_cent_mean', 'f3': 'spec_bw_mean', 'f4':'rolloff_mean', 'f5':'zcr_mean', 'f6': 'mfcc_mean'}\n",
    "    for i in range(len(rms[0])):\n",
    "        features_dict[f'f{len(features_dict)}']=f'rms_{i}'\n",
    "    i = 0\n",
    "    for raw in chroma_stft:\n",
    "        for j in range(len(raw)):\n",
    "            features_dict[f'f{len(features_dict)}'] = f'chroma_stft_{i}'\n",
    "            i = i + 1\n",
    "\n",
    "    for i in range(len(spec_cent[0])):\n",
    "        features_dict[f'f{len(features_dict)}'] =f'spec_cent_{i}'\n",
    "\n",
    "    for i in range(len(spec_bw[0])):\n",
    "        features_dict[f'f{len(features_dict)}'] = f'spec_bw_{i}'\n",
    "\n",
    "    for i in range(len(rolloff[0])):\n",
    "        features_dict[ f'f{len(features_dict)}'] = f'rolloff_{i}'\n",
    "\n",
    "    for i in range(len(zcr[0])):\n",
    "        features_dict[ f'f{len(features_dict)}'] = f'zcr_{i}' \n",
    "\n",
    "    i = 0\n",
    "    for raw in mfcc:\n",
    "        for j in range(len(raw)):\n",
    "            features_dict[f'f{len(features_dict)}'] = f'mfcc_{i}' \n",
    "            i = i + 1 "
   ]
  },
  {
   "cell_type": "markdown",
   "metadata": {
    "id": "zdI7o39wbzE4"
   },
   "source": [
    "# Извлечение признаков и формирование Train/Test #"
   ]
  },
  {
   "cell_type": "code",
   "execution_count": 40,
   "metadata": {
    "id": "EpveK0rRcBj4"
   },
   "outputs": [],
   "source": [
    "from sklearn.model_selection import train_test_split\n",
    "train_files, test_files, train_labels, test_labels  = train_test_split(files, labels, test_size=0.3, random_state=666) "
   ]
  },
  {
   "cell_type": "code",
   "execution_count": 41,
   "metadata": {
    "colab": {
     "base_uri": "https://localhost:8080/",
     "height": 65,
     "referenced_widgets": [
      "8c4184e1581642eb8ce43e1cc75cc4bb",
      "b9de563b04e7476e8393e0f89035dfe9",
      "a463e7392ee24c778269029b34955c23",
      "7fe7dbd314db41ab832d6f8c799d63b9",
      "24be23620ecc4503a0433698c0fe5cd3",
      "e1d856e26fa34d14ba641dce3c982ed8",
      "bc1cc92115a747b78a960037a496c0bb",
      "f085a9c375fb43af96dae4b4bb7bcb91"
     ]
    },
    "id": "wPu89MW6dQrG",
    "outputId": "1dd64fd0-fbcb-4665-fcea-4ab30562b6a9"
   },
   "outputs": [
    {
     "data": {
      "application/vnd.jupyter.widget-view+json": {
       "model_id": "61f1d7f12f1447babb6dfd1f581748a9",
       "version_major": 2,
       "version_minor": 0
      },
      "text/plain": [
       "  0%|          | 0/1767 [00:00<?, ?it/s]"
      ]
     },
     "metadata": {},
     "output_type": "display_data"
    }
   ],
   "source": [
    "# новое \n",
    "import numpy as np\n",
    "from tqdm import tqdm_notebook as tqdm\n",
    "import warnings\n",
    "warnings.simplefilter(\"ignore\")\n",
    "# good = [1.4, 1.6] # временной интервал, где точно находится кит (так делали для первого хорошего результата для A на A)\n",
    "good = [1.4, 1.8] # временной интервал, где точно находится кит (так делали для первого хорошего результата для A на A)\n",
    "bad = [0.9, 2.2] # временной интервал, в котором точно нет кита\n",
    "# по этотому файлу проверимся потом, а сейчас обучаться не будем\n",
    "\n",
    "X_train = [] \n",
    "Y_train = []\n",
    "X_test = []\n",
    "Y_test = []\n",
    "\n",
    "X_all = []\n",
    "file_id_all=[]\n",
    "for id, file in tqdm(enumerate(files), total=len(files)):\n",
    "    x , sr = librosa.load(file)\n",
    "    # x = trim_and_fade(x)\n",
    "    wp = 0  # (window position) начинаем бежать с самого начала, с 0 сэмпла\n",
    "    while wp + ws < len(x):\n",
    "        if labels[id] > 0:\n",
    "            tc = (wp + ws*0.5) / sr\n",
    "            if (tc < bad[0]) or (tc > bad[1]):\n",
    "                into_signal = 0\n",
    "            else:\n",
    "                if (tc >= good[0]) and (tc <= good[1]):\n",
    "                    into_signal = 1\n",
    "                else:\n",
    "                    wp = wp + wd   \n",
    "                    continue\n",
    "        else:\n",
    "            into_signal = 0\n",
    "\n",
    "        features = []\n",
    "        wx = x[wp:wp+ws] # window x=\n",
    "        features = improved_features_lib2(wx, sr)\n",
    "        if file in train_files:\n",
    "            X_train.append(features)\n",
    "            Y_train.append(into_signal)\n",
    "        else:\n",
    "            X_test.append(features)\n",
    "            Y_test.append(into_signal)\n",
    "        wp = wp + wd\n",
    "\n",
    "warnings.resetwarnings()"
   ]
  },
  {
   "cell_type": "code",
   "execution_count": 42,
   "metadata": {
    "colab": {
     "base_uri": "https://localhost:8080/"
    },
    "id": "vdYCJHWwRA3e",
    "outputId": "4e6475b3-9fc5-4f46-a1d8-1ddcf2a8ac39"
   },
   "outputs": [
    {
     "name": "stderr",
     "output_type": "stream",
     "text": [
      "/home/latna/.local/lib/python3.9/site-packages/ipykernel/ipkernel.py:283: DeprecationWarning: `should_run_async` will not call `transform_cell` automatically in the future. Please pass the result to `transformed_cell` argument and any exception that happen during thetransform in `preprocessing_exc_tuple` in IPython 7.17 and above.\n",
      "  and should_run_async(code)\n"
     ]
    },
    {
     "data": {
      "text/plain": [
       "(22281, 821, 22281)"
      ]
     },
     "execution_count": 42,
     "metadata": {},
     "output_type": "execute_result"
    }
   ],
   "source": [
    "# посмотрем на размер обучающей выборки\n",
    "len(X_train),len(X_train[1]), len(Y_train)"
   ]
  },
  {
   "cell_type": "markdown",
   "metadata": {
    "id": "RE6qCnDuT_fa"
   },
   "source": [
    "Отлично! Обучающую выборку построили. Можно теперь её разделить на  train-test"
   ]
  },
  {
   "cell_type": "code",
   "execution_count": 43,
   "metadata": {
    "colab": {
     "base_uri": "https://localhost:8080/"
    },
    "id": "LwOLPFVZcvGb",
    "outputId": "cd8fa68f-215b-4066-d9aa-a435653b09ff"
   },
   "outputs": [
    {
     "data": {
      "text/plain": [
       "13.146666666666667"
      ]
     },
     "execution_count": 43,
     "metadata": {},
     "output_type": "execute_result"
    }
   ],
   "source": [
    "# посмотрим насколько у нас не сбалансированные данные\n",
    "# scale_pos_weight = total_negative_examples / total_positive_examples\n",
    "(len(Y_train) - sum(Y_train)) / sum(Y_train)"
   ]
  },
  {
   "cell_type": "code",
   "execution_count": 44,
   "metadata": {
    "colab": {
     "base_uri": "https://localhost:8080/"
    },
    "id": "3sHQREElmCX9",
    "outputId": "0b2469d1-1ce3-4124-ae63-ce63647df3eb"
   },
   "outputs": [
    {
     "data": {
      "text/plain": [
       "0.9293119698397738"
      ]
     },
     "execution_count": 44,
     "metadata": {},
     "output_type": "execute_result"
    }
   ],
   "source": [
    "# оценим accuracy для константного предсказателя \n",
    "(len(Y_train) - sum(Y_train)) / len(Y_train)"
   ]
  },
  {
   "cell_type": "markdown",
   "metadata": {
    "id": "40cwI5ZbbQdv"
   },
   "source": [
    "Получилось, что негативных примеров, у нас в ___ раз больше, чем позитивных. Обычная история. Значит будем подкручивать веса для позитивных образцов при обучении модели."
   ]
  },
  {
   "cell_type": "markdown",
   "metadata": {
    "id": "AdUXy-73NgEH"
   },
   "source": [
    "\n",
    "\n",
    "---\n",
    "\n"
   ]
  },
  {
   "cell_type": "markdown",
   "metadata": {
    "id": "i7ZmMwcXV7tM"
   },
   "source": [
    "**Пробуем использовать XGBoost**"
   ]
  },
  {
   "cell_type": "code",
   "execution_count": 45,
   "metadata": {},
   "outputs": [],
   "source": [
    "import xgboost as xgb"
   ]
  },
  {
   "cell_type": "code",
   "execution_count": 49,
   "metadata": {
    "id": "gqohRiPFR78M"
   },
   "outputs": [],
   "source": [
    "model = xgb.XGBRegressor(n_estimators = 250, scale_pos_weight=9)"
   ]
  },
  {
   "cell_type": "code",
   "execution_count": 50,
   "metadata": {
    "colab": {
     "base_uri": "https://localhost:8080/"
    },
    "id": "9b0CdwjQWNnf",
    "outputId": "1f2e5e84-52e2-41c6-e3fe-0f4b2a89958a"
   },
   "outputs": [
    {
     "name": "stdout",
     "output_type": "stream",
     "text": [
      "CPU times: user 59min 41s, sys: 0 ns, total: 59min 41s\n",
      "Wall time: 5min 10s\n"
     ]
    },
    {
     "data": {
      "text/plain": [
       "XGBRegressor(base_score=0.5, booster='gbtree', colsample_bylevel=1,\n",
       "             colsample_bynode=1, colsample_bytree=1, gamma=0, gpu_id=-1,\n",
       "             importance_type='gain', interaction_constraints='',\n",
       "             learning_rate=0.300000012, max_delta_step=0, max_depth=6,\n",
       "             min_child_weight=1, missing=nan, monotone_constraints='()',\n",
       "             n_estimators=250, n_jobs=24, num_parallel_tree=1, random_state=0,\n",
       "             reg_alpha=0, reg_lambda=1, scale_pos_weight=9, subsample=1,\n",
       "             tree_method='exact', validate_parameters=1, verbosity=None)"
      ]
     },
     "execution_count": 50,
     "metadata": {},
     "output_type": "execute_result"
    }
   ],
   "source": [
    "%%time\n",
    "model.fit(np.array( X_train) ,np.array(Y_train), verbose=True)"
   ]
  },
  {
   "cell_type": "code",
   "execution_count": 51,
   "metadata": {
    "id": "u78Z6CBTfKXf",
    "scrolled": true
   },
   "outputs": [
    {
     "data": {
      "text/plain": [
       "{'50_100_chroma_stft_mean': 23.649608035573983,\n",
       " '50_100_rolloff_mean': 6.326881399917687,\n",
       " 'zcr_19': 29.337831671686846,\n",
       " 'zcr_13': 19.138051118144997,\n",
       " 'chroma_stft_84': 1.1455234664489748,\n",
       " 'chroma_stft_195': 1.2072533186561183,\n",
       " 'spec_cent_20': 1.0001215161225927,\n",
       " 'chroma_stft_188': 1.4568936726579313,\n",
       " 'rms_19': 4.922015260065,\n",
       " 'chroma_stft_42': 0.26788741479837846,\n",
       " 'rms_4': 6.570415960435648,\n",
       " 'chroma_stft_115': 2.013326354277778,\n",
       " 'rms_16': 1.4927641479238334,\n",
       " 'rms_21': 1.57831197862573,\n",
       " 'chroma_stft_3': 3.2908755791790507,\n",
       " 'chroma_stft_171': 2.163712523126667,\n",
       " 'chroma_stft_77': 1.1459556487736875,\n",
       " 'chroma_stft_95': 1.430807556246111,\n",
       " 'chroma_stft_138': 1.62128779270175,\n",
       " 'spec_bw_11': 3.310465334736388,\n",
       " 'chroma_stft_129': 0.4277972659189474,\n",
       " 'mfcc_307': 2.6510231927450003,\n",
       " 'mfcc_290': 2.78337275074,\n",
       " 'chroma_stft_118': 0.5862531058307896,\n",
       " 'spec_bw_6': 11.556009148815429,\n",
       " '50_100_zcr_mean': 7.95510976477962,\n",
       " 'chroma_stft_261': 1.3625658088753339,\n",
       " 'chroma_stft_61': 0.9816462482180952,\n",
       " 'rolloff_10': 5.20841627855,\n",
       " 'chroma_stft_190': 1.7044178175233333,\n",
       " 'chroma_stft_228': 1.660896537458001,\n",
       " 'spec_bw_9': 4.288462936489371,\n",
       " 'spec_bw_12': 3.702726143204545,\n",
       " 'mfcc_222': 4.53647835373,\n",
       " 'chroma_stft_56': 2.3688467055983784,\n",
       " 'chroma_stft_212': 2.5035534382161537,\n",
       " 'chroma_stft_218': 4.755208394170587,\n",
       " 'chroma_stft_186': 1.10237769998037,\n",
       " 'chroma_stft_111': 0.3110019863605332,\n",
       " 'chroma_stft_33': 0.47188330871903217,\n",
       " '50_100_spec_cent_mean': 0.057658912637908295,\n",
       " 'chroma_stft_34': 0.8234768699318751,\n",
       " 'chroma_stft_225': 1.7988087702872215,\n",
       " 'spec_bw_10': 1.2056785739406666,\n",
       " 'chroma_stft_137': 0.6240212370902632,\n",
       " 'spec_cent_6': 10.69933957613447,\n",
       " 'chroma_stft_83': 1.9205198895649995,\n",
       " 'chroma_stft_217': 1.3959177430633996,\n",
       " 'chroma_stft_28': 0.47163791739239014,\n",
       " 'mfcc_238': 1.423135176237858,\n",
       " 'rms_8': 4.670067351010959,\n",
       " 'spec_bw_15': 3.074813813008147,\n",
       " 'spec_bw_18': 1.6345309709442102,\n",
       " 'chroma_stft_139': 2.451753089406874,\n",
       " 'chroma_stft_262': 1.2651146109971432,\n",
       " 'chroma_stft_166': 1.9062333793640738,\n",
       " 'spec_cent_19': 1.6275671659166668,\n",
       " 'rms_17': 0.5789972160189644,\n",
       " 'zcr_18': 5.813610273446924,\n",
       " 'chroma_stft_245': 1.2381346867637504,\n",
       " 'rolloff_2': 5.329137255525,\n",
       " 'chroma_stft_157': 0.3841956688823078,\n",
       " 'mfcc_429': 2.6615690210833334,\n",
       " 'chroma_stft_73': 0.5602885107213335,\n",
       " 'mfcc_26': 1.8192505424,\n",
       " 'chroma_stft_246': 0.5092427502996876,\n",
       " 'chroma_stft_119': 0.8074711553503703,\n",
       " 'spec_bw_8': 8.772136089438108,\n",
       " 'chroma_stft_60': 1.1770860616936363,\n",
       " 'chroma_stft_82': 1.483580131415385,\n",
       " 'mfcc_140': 8.494212808967502,\n",
       " 'mfcc_438': 2.937343610049167,\n",
       " 'mfcc_428': 1.9995013213466666,\n",
       " 'rms_7': 0.8369568721547369,\n",
       " 'mfcc_224': 2.7613136652000003,\n",
       " 'spec_bw_19': 1.5921695131876472,\n",
       " 'zcr_21': 1.1744396139843751,\n",
       " 'chroma_stft_99': 0.4679046917616665,\n",
       " 'mfcc_155': 1.5212468022976928,\n",
       " 'spec_bw_5': 0.7770378295812121,\n",
       " 'spec_bw_13': 5.351936185175454,\n",
       " 'chroma_stft_236': 0.8438565449762069,\n",
       " 'chroma_stft_114': 1.0537298640826318,\n",
       " 'chroma_stft_260': 0.6289716045293547,\n",
       " 'spec_cent_4': 4.763112736429474,\n",
       " '50_100_mfcc_mean': 1.687327385483185,\n",
       " 'chroma_stft_191': 0.6560555892480001,\n",
       " 'mfcc_223': 0.3863414832153846,\n",
       " 'rms_13': 1.504612761454417,\n",
       " 'mfcc_436': 1.3988873889483333,\n",
       " 'chroma_stft_13': 0.2637558296767647,\n",
       " 'chroma_stft_86': 0.4304762251825001,\n",
       " 'chroma_stft_47': 0.9875570033244999,\n",
       " 'chroma_stft_55': 0.8103345468915789,\n",
       " 'chroma_stft_4': 0.31655347083288077,\n",
       " '50_100_rms_mean': 0.03482743541189142,\n",
       " 'chroma_stft_259': 0.6362287796862223,\n",
       " 'mfcc_157': 0.5424070389677779,\n",
       " 'mfcc_211': 0.06535496193888889,\n",
       " 'chroma_stft_41': 0.41146319616617655,\n",
       " 'mfcc_73': 3.0687979359999997,\n",
       " 'mfcc_369': 0.04540243761999999,\n",
       " 'chroma_stft_18': 0.16421689613549997,\n",
       " 'mfcc_253': 0.11876932612857141,\n",
       " 'spec_bw_7': 3.4344779107066676,\n",
       " 'zcr_15': 8.69385663935643,\n",
       " 'chroma_stft_229': 1.3950119374176473,\n",
       " 'chroma_stft_8': 0.016071746404999997,\n",
       " 'chroma_stft_52': 0.7013907403559864,\n",
       " 'chroma_stft_197': 0.6744438475828568,\n",
       " 'chroma_stft_36': 0.35040281640339144,\n",
       " 'chroma_stft_185': 0.3522690427460714,\n",
       " 'spec_bw_3': 0.5992200614779312,\n",
       " 'mfcc_141': 1.6153857675333334,\n",
       " 'mfcc_153': 0.9127635701020554,\n",
       " 'spec_bw_17': 0.49247315311739137,\n",
       " 'zcr_16': 4.77118331186923,\n",
       " 'chroma_stft_240': 0.4938687873115999,\n",
       " 'mfcc_21': 1.0932326005915387,\n",
       " 'mfcc_416': 2.353041021666364,\n",
       " 'chroma_stft_117': 0.8185541638099577,\n",
       " 'chroma_stft_233': 0.9762836090531899,\n",
       " 'chroma_stft_178': 0.30699335535333333,\n",
       " 'zcr_6': 5.170438862528999,\n",
       " 'zcr_20': 4.714668862904737,\n",
       " 'chroma_stft_257': 0.5669979772992308,\n",
       " 'mfcc_433': 2.352112311822,\n",
       " 'rms_20': 1.420807784256347,\n",
       " 'chroma_stft_151': 0.67960912148375,\n",
       " 'rms_6': 0.6562782548472381,\n",
       " 'mfcc_230': 2.042123441,\n",
       " 'mfcc_387': 2.9887313483000004,\n",
       " 'chroma_stft_20': 0.1863662460507693,\n",
       " 'chroma_stft_192': 0.9280601965685715,\n",
       " 'chroma_stft_0': 0.146324098765852,\n",
       " 'rms_5': 0.23742828526596665,\n",
       " 'mfcc_292': 0.64815058112,\n",
       " 'rms_10': 0.6290583862399413,\n",
       " 'mfcc_68': 1.0973606547424999,\n",
       " 'chroma_stft_150': 0.2990639016085714,\n",
       " 'mfcc_277': 0.093303664378,\n",
       " 'zcr_17': 8.535062744512858,\n",
       " 'chroma_stft_53': 0.4401459068453126,\n",
       " 'chroma_stft_37': 0.19353984953990325,\n",
       " 'chroma_stft_165': 0.3232080836494444,\n",
       " 'mfcc_202': 0.36447339707909093,\n",
       " 'chroma_stft_27': 0.3806794188362104,\n",
       " 'rolloff_3': 2.3743049308875,\n",
       " 'chroma_stft_109': 0.40629502369463627,\n",
       " 'mfcc_418': 1.0051167751455556,\n",
       " 'spec_bw_16': 1.1762911231438462,\n",
       " 'rolloff_20': 0.9595533242850002,\n",
       " 'chroma_stft_211': 0.48267546263214284,\n",
       " 'chroma_stft_231': 0.8166341047945458,\n",
       " 'chroma_stft_76': 0.43848091637304343,\n",
       " 'chroma_stft_80': 0.535168951839259,\n",
       " 'chroma_stft_247': 1.1000744672833334,\n",
       " 'chroma_stft_79': 0.6456499268985713,\n",
       " 'chroma_stft_12': 0.4062567882633332,\n",
       " 'chroma_stft_9': 0.19402494660867733,\n",
       " 'chroma_stft_142': 0.47459785360082585,\n",
       " 'chroma_stft_108': 0.8246405790100002,\n",
       " 'chroma_stft_59': 0.07047960829203331,\n",
       " 'mfcc_225': 0.190968531265,\n",
       " 'mfcc_257': 0.639638050408889,\n",
       " 'chroma_stft_256': 0.851128096088095,\n",
       " 'mfcc_325': 0.36561508186666664,\n",
       " 'chroma_stft_70': 0.33691623746187505,\n",
       " 'mfcc_379': 0.21558836268699996,\n",
       " 'chroma_stft_205': 0.3925089381304167,\n",
       " 'chroma_stft_57': 0.6770224314126925,\n",
       " 'mfcc_190': 1.18151239688,\n",
       " 'chroma_stft_71': 0.13052591284609089,\n",
       " 'chroma_stft_2': 0.3210149854791195,\n",
       " 'zcr_5': 0.3943523445875,\n",
       " 'chroma_stft_32': 0.16513717202940004,\n",
       " 'mfcc_399': 0.422618991572,\n",
       " 'spec_bw_1': 0.23323723795815388,\n",
       " 'zcr_9': 0.6298145707033334,\n",
       " 'chroma_stft_49': 0.2362497268128,\n",
       " 'mfcc_18': 0.39433365771333323,\n",
       " 'mfcc_192': 0.6090492629221427,\n",
       " 'mfcc_170': 1.012938204283333,\n",
       " 'rolloff_5': 1.4047878761083332,\n",
       " 'chroma_stft_213': 0.3681420392163333,\n",
       " 'mfcc_78': 2.762022716925,\n",
       " 'chroma_stft_19': 0.27945762561887477,\n",
       " 'chroma_stft_26': 0.19416555580643907,\n",
       " 'chroma_stft_6': 0.5344673625220557,\n",
       " 'mfcc_424': 0.414823857086,\n",
       " 'chroma_stft_93': 0.48945327217,\n",
       " 'chroma_stft_145': 0.871352564086111,\n",
       " 'mfcc_435': 0.9933580001041667,\n",
       " 'mfcc_43': 0.4263060499933334,\n",
       " 'mfcc_124': 0.9041208983428571,\n",
       " 'mfcc_407': 0.272800113525,\n",
       " 'chroma_stft_208': 0.3841116746778695,\n",
       " 'mfcc_212': 0.66452549048,\n",
       " 'chroma_stft_58': 0.22268321360104001,\n",
       " 'chroma_stft_116': 0.3785615109836841,\n",
       " 'chroma_stft_40': 0.3389945138337932,\n",
       " 'chroma_stft_242': 0.4291350020417647,\n",
       " 'chroma_stft_113': 0.12023801217666666,\n",
       " 'rms_9': 0.3761019792008799,\n",
       " 'mfcc_437': 0.7165142359160002,\n",
       " 'chroma_stft_92': 0.6260065297300001,\n",
       " 'chroma_stft_21': 0.45333980919448386,\n",
       " 'mfcc_33': 1.9443503574233334,\n",
       " 'chroma_stft_237': 0.7201330849422223,\n",
       " 'mfcc_417': 0.5150512000235715,\n",
       " 'chroma_stft_214': 0.4575589987554167,\n",
       " 'chroma_stft_17': 0.3016962512077356,\n",
       " 'mfcc_8': 1.649257412925,\n",
       " 'chroma_stft_38': 0.29176946734615383,\n",
       " 'chroma_stft_74': 0.4591097395202858,\n",
       " 'mfcc_330': 0.08513053765153848,\n",
       " 'mfcc_329': 0.25169802550000003,\n",
       " 'mfcc_176': 0.6907772236766666,\n",
       " 'rolloff_4': 6.269099902266667,\n",
       " 'chroma_stft_170': 0.181139534815,\n",
       " 'chroma_stft_78': 0.1314107221504,\n",
       " 'mfcc_221': 0.8985808460866669,\n",
       " 'spec_cent_5': 0.4574180314156521,\n",
       " 'chroma_stft_152': 0.3031953891818182,\n",
       " 'mfcc_370': 1.7396461275333335,\n",
       " 'mfcc_152': 0.3902103405914286,\n",
       " 'mfcc_235': 0.8654326308629999,\n",
       " 'chroma_stft_235': 0.14481331537366657,\n",
       " 'zcr_14': 0.23576858449091664,\n",
       " 'chroma_stft_215': 0.15504406606866664,\n",
       " 'chroma_stft_155': 0.13215688257881816,\n",
       " 'rms_0': 0.19594492157519233,\n",
       " 'chroma_stft_241': 0.4760904069229446,\n",
       " 'chroma_stft_243': 0.41997547204999996,\n",
       " 'mfcc_177': 0.7504481196999999,\n",
       " 'chroma_stft_10': 0.23107800833921943,\n",
       " 'chroma_stft_158': 0.23311429926950003,\n",
       " 'chroma_stft_183': 0.424387190284091,\n",
       " 'chroma_stft_184': 0.2957093741154839,\n",
       " '50_100_spec_bw_mean': 0.07415826068150881,\n",
       " 'spec_cent_8': 0.174025232944375,\n",
       " 'chroma_stft_234': 0.4108773492256249,\n",
       " 'chroma_stft_174': 0.9013899552217647,\n",
       " 'mfcc_411': 0.6701456157114285,\n",
       " 'chroma_stft_75': 0.1741415079780645,\n",
       " 'mfcc_133': 0.19825245405733335,\n",
       " 'chroma_stft_196': 0.2201744582105882,\n",
       " 'chroma_stft_101': 0.3935994592542857,\n",
       " 'chroma_stft_263': 0.22214537218680003,\n",
       " 'mfcc_205': 2.2318888697999997,\n",
       " 'rms_11': 0.44279870385996417,\n",
       " 'mfcc_6': 0.3222534866471429,\n",
       " 'spec_cent_9': 0.4504828971799998,\n",
       " 'mfcc_182': 0.3717368150333333,\n",
       " 'chroma_stft_249': 0.2440053781895455,\n",
       " 'chroma_stft_64': 0.3623384593778947,\n",
       " 'chroma_stft_221': 0.6372073863176472,\n",
       " 'mfcc_16': 1.2345435389625004,\n",
       " 'mfcc_164': 1.02198667943,\n",
       " 'chroma_stft_239': 0.42226474888409116,\n",
       " 'chroma_stft_167': 0.3370568841536,\n",
       " 'mfcc_145': 1.9424838715000001,\n",
       " 'chroma_stft_201': 0.3436056290454546,\n",
       " 'chroma_stft_255': 0.1224678608129412,\n",
       " 'chroma_stft_182': 0.19545523569925174,\n",
       " 'mfcc_291': 0.5526451032974999,\n",
       " 'chroma_stft_189': 0.3018466014676667,\n",
       " 'chroma_stft_22': 0.16928941593421248,\n",
       " 'chroma_stft_11': 0.24746594012138998,\n",
       " 'spec_bw_14': 0.2530711314284848,\n",
       " 'chroma_stft_141': 0.21178026037555553,\n",
       " 'chroma_stft_130': 0.14000126866185184,\n",
       " 'mfcc_285': 0.3865561478233334,\n",
       " 'chroma_stft_187': 0.19983112337235487,\n",
       " 'chroma_stft_162': 0.21495696940127662,\n",
       " 'mfcc_263': 0.46694193680400015,\n",
       " 'mfcc_169': 0.3686563772525,\n",
       " 'chroma_stft_106': 0.22940990235439998,\n",
       " 'chroma_stft_209': 0.460234459716,\n",
       " 'chroma_stft_140': 0.1286130565514167,\n",
       " 'mfcc_241': 0.5151119242472223,\n",
       " 'mfcc_245': 0.49432311960857145,\n",
       " 'chroma_stft_168': 0.1093247912952941,\n",
       " 'chroma_stft_227': 0.10381412796423077,\n",
       " 'chroma_stft_181': 0.28061859376777776,\n",
       " 'mfcc_374': 0.06635182861416668,\n",
       " 'chroma_stft_149': 0.3058614165785714,\n",
       " 'chroma_stft_5': 0.13955418714865384,\n",
       " 'chroma_stft_207': 0.38035165735590915,\n",
       " 'chroma_stft_102': 0.1826190405486364,\n",
       " 'mfcc_415': 0.217441957099,\n",
       " 'chroma_stft_46': 0.21995978177375,\n",
       " 'chroma_stft_133': 0.11085475710705882,\n",
       " 'mfcc_5': 2.472494277,\n",
       " 'mfcc_275': 0.5138787425839999,\n",
       " 'chroma_stft_180': 0.1368323911911111,\n",
       " 'chroma_stft_85': 0.1724877483964285,\n",
       " 'chroma_stft_107': 0.17572840369,\n",
       " 'mfcc_66': 0.22010863026,\n",
       " 'chroma_stft_1': 0.08327102247743783,\n",
       " 'chroma_stft_62': 0.11363381875458334,\n",
       " 'chroma_stft_51': 0.30325338493507686,\n",
       " 'mfcc_431': 0.6253943687975,\n",
       " 'chroma_stft_216': 0.272975464045926,\n",
       " 'chroma_stft_65': 0.053802665764000016,\n",
       " 'mfcc_279': 0.17471983080875,\n",
       " 'mfcc_215': 0.1919231068,\n",
       " 'chroma_stft_69': 0.38638149135608696,\n",
       " 'mfcc_309': 0.366503359675,\n",
       " 'mfcc_34': 0.3437196455466666,\n",
       " 'spec_cent_16': 0.19754348823350001,\n",
       " 'spec_bw_2': 0.16720340466118183,\n",
       " 'chroma_stft_98': 0.14166942975352942,\n",
       " 'mfcc_286': 0.4988111066924999,\n",
       " 'chroma_stft_39': 0.05887804102604166,\n",
       " 'mfcc_434': 0.3197450311323077,\n",
       " 'chroma_stft_232': 0.18000857447826088,\n",
       " 'chroma_stft_120': 0.24157524292266663,\n",
       " 'chroma_stft_238': 0.1385327741337037,\n",
       " 'rms_18': 0.32214342769618665,\n",
       " 'mfcc_2': 0.35769727414,\n",
       " 'mfcc_376': 0.32814152135615376,\n",
       " 'chroma_stft_252': 0.24093995844516136,\n",
       " 'chroma_stft_254': 0.22601880158812504,\n",
       " 'chroma_stft_50': 0.2208569664814286,\n",
       " 'chroma_stft_94': 0.2167587712983999,\n",
       " 'spec_cent_10': 0.10142068553833335,\n",
       " 'chroma_stft_136': 0.17970009982417853,\n",
       " 'mfcc_408': 0.22948159325700002,\n",
       " 'mfcc_386': 0.19458789232222223,\n",
       " 'chroma_stft_164': 0.28191238725263146,\n",
       " 'chroma_stft_100': 0.07633558456075003,\n",
       " 'chroma_stft_134': 0.6339772120550001,\n",
       " 'mfcc_35': 0.19213062137500003,\n",
       " 'chroma_stft_154': 0.23295276811111107,\n",
       " 'chroma_stft_31': 0.10571730102493106,\n",
       " 'mfcc_362': 0.4077255321888889,\n",
       " 'chroma_stft_88': 0.21019088191416668,\n",
       " 'chroma_stft_206': 0.19410518060941176,\n",
       " 'mfcc_398': 0.1659999289752174,\n",
       " 'chroma_stft_159': 0.18868316081,\n",
       " 'mfcc_328': 0.25307121288500006,\n",
       " 'chroma_stft_29': 0.16625735085406249,\n",
       " 'mfcc_403': 0.2944165633083333,\n",
       " 'mfcc_287': 0.18070950181000003,\n",
       " 'chroma_stft_143': 0.17766116539449997,\n",
       " 'spec_bw_4': 0.19170851114173904,\n",
       " 'rms_15': 0.12092987943180665,\n",
       " 'mfcc_29': 0.08934710114625,\n",
       " 'mfcc_1': 0.2482786399,\n",
       " 'chroma_stft_244': 0.22595187605320005,\n",
       " 'chroma_stft_204': 0.16852227259,\n",
       " 'chroma_stft_224': 0.1798629609827778,\n",
       " 'chroma_stft_193': 0.19387976666675996,\n",
       " 'chroma_stft_144': 0.17130082025845,\n",
       " 'chroma_stft_68': 0.1434172224542105,\n",
       " 'mfcc_207': 0.25236020068384624,\n",
       " 'rms_12': 0.21422212787375,\n",
       " 'mfcc_405': 0.6319412882666667,\n",
       " 'chroma_stft_135': 0.20659639766599996,\n",
       " 'mfcc_313': 0.33024700855,\n",
       " 'mfcc_195': 0.28622404436230764,\n",
       " 'chroma_stft_43': 0.14169616460437495,\n",
       " 'chroma_stft_219': 0.20284531009032258,\n",
       " 'chroma_stft_24': 0.22294557702105258,\n",
       " 'chroma_stft_103': 0.12018548845923077,\n",
       " 'mfcc_150': 0.39253820068333334,\n",
       " 'mfcc_201': 0.18563491715263156,\n",
       " 'mfcc_172': 0.15574062228666669,\n",
       " 'mfcc_254': 0.12895074874923076,\n",
       " 'spec_cent_7': 0.32261821882076924,\n",
       " 'mfcc_346': 0.766889850375,\n",
       " 'mfcc_158': 0.15688304724545452,\n",
       " 'chroma_stft_72': 0.0786619411948095,\n",
       " 'rms_1': 0.272556654945,\n",
       " 'mfcc_422': 0.479908886845,\n",
       " 'chroma_stft_132': 0.16503468521500003,\n",
       " 'chroma_stft_81': 0.24520908309050002,\n",
       " 'mfcc_249': 0.10340483264999997,\n",
       " 'chroma_stft_90': 0.13858929430272726,\n",
       " 'chroma_stft_156': 0.143864377534,\n",
       " 'chroma_stft_16': 0.11451699778770219,\n",
       " 'chroma_stft_131': 0.10083264320980768,\n",
       " 'chroma_stft_160': 0.14109507884333336,\n",
       " 'mfcc_425': 0.18569587097133333,\n",
       " 'chroma_stft_222': 0.06586509473086669,\n",
       " 'chroma_stft_198': 0.4622266801,\n",
       " 'mfcc_236': 0.19731584493999998,\n",
       " 'chroma_stft_54': 0.08750862054479999,\n",
       " 'mfcc_61': 0.557180166,\n",
       " 'zcr_11': 0.10308047595999999,\n",
       " 'chroma_stft_25': 0.1015793956708077,\n",
       " 'mfcc_331': 0.15588039391555558,\n",
       " 'mfcc_427': 0.1765070531083333,\n",
       " 'chroma_stft_44': 0.176951577563,\n",
       " 'chroma_stft_253': 0.16736745653115387,\n",
       " 'chroma_stft_250': 0.15468927767869564,\n",
       " 'chroma_stft_161': 0.10153054435894739,\n",
       " 'chroma_stft_15': 0.12651215236699995,\n",
       " 'chroma_stft_248': 0.15122384686466667,\n",
       " 'mfcc_237': 0.17147337881615382,\n",
       " 'mfcc_185': 0.1966488598,\n",
       " 'mfcc_243': 0.10542649951999998,\n",
       " 'mfcc_87': 0.187876383426,\n",
       " 'mfcc_421': 0.25219016765833335,\n",
       " 'mfcc_390': 0.1236255249,\n",
       " 'chroma_stft_128': 0.15026456884533332,\n",
       " 'chroma_stft_125': 0.08051472347423527,\n",
       " 'mfcc_401': 0.20929159493333335,\n",
       " 'mfcc_149': 0.21381223500000004,\n",
       " 'chroma_stft_14': 0.04759095520380488,\n",
       " 'mfcc_252': 0.14399442720000002,\n",
       " 'mfcc_143': 0.25479981454,\n",
       " 'mfcc_265': 0.17161105787999997,\n",
       " 'chroma_stft_104': 0.11168293224428567,\n",
       " 'mfcc_111': 0.13855944448333335,\n",
       " 'rolloff_12': 0.18080233716500002,\n",
       " 'mfcc_272': 0.53209969696,\n",
       " 'chroma_stft_7': 0.0399290569294,\n",
       " 'chroma_stft_148': 0.11776870961399999,\n",
       " 'chroma_stft_97': 0.06389636670642856,\n",
       " 'mfcc_234': 0.09398989576833333,\n",
       " 'mfcc_266': 0.255485029625,\n",
       " 'mfcc_184': 0.1806094662633333,\n",
       " 'mfcc_247': 0.12471500763200001,\n",
       " 'chroma_stft_66': 0.14217532243714287,\n",
       " 'chroma_stft_124': 0.2419931064416667,\n",
       " 'mfcc_22': 0.11236735288844445,\n",
       " 'chroma_stft_251': 0.13262653668292856,\n",
       " 'mfcc_353': 0.07763056316374999,\n",
       " 'chroma_stft_258': 0.10286759271862071,\n",
       " 'chroma_stft_169': 0.13564085989307692,\n",
       " 'chroma_stft_87': 0.12939601612789478,\n",
       " 'chroma_stft_45': 0.12412072229474999,\n",
       " 'chroma_stft_202': 0.22659178188266665,\n",
       " 'chroma_stft_223': 0.23173378284857146,\n",
       " 'chroma_stft_63': 0.1076606122920833,\n",
       " 'mfcc_181': 0.06858906726666665,\n",
       " 'spec_bw_0': 0.06870131341699999,\n",
       " 'mfcc_233': 0.1083279867361111,\n",
       " 'chroma_stft_226': 0.10997197820878944,\n",
       " 'mfcc_186': 0.2217413038,\n",
       " 'spec_cent_15': 0.13710295801357145,\n",
       " 'chroma_stft_123': 0.1275622245131579,\n",
       " 'spec_bw_21': 0.1179233188475,\n",
       " 'spec_cent_1': 0.05445358474249999,\n",
       " 'rolloff_11': 0.1319282032925,\n",
       " 'mfcc_194': 0.062091888672,\n",
       " 'mfcc_147': 0.13468101650333333,\n",
       " 'chroma_stft_230': 0.09239436833285715,\n",
       " 'chroma_stft_210': 0.13002077538214285,\n",
       " 'chroma_stft_146': 0.15666562094736844,\n",
       " 'mfcc_262': 0.065205135609,\n",
       " 'mfcc_259': 0.08243442006714286,\n",
       " 'mfcc_200': 0.13763798965833332,\n",
       " 'rolloff_17': 0.40916920830000003,\n",
       " 'mfcc_132': 0.06956437955842107,\n",
       " 'spec_cent_13': 0.11650885310099998,\n",
       " 'zcr_7': 0.33169614419750004,\n",
       " 'mfcc_239': 0.34230323619499997,\n",
       " 'mfcc_332': 0.227215012675,\n",
       " 'mfcc_196': 0.09569564324399998,\n",
       " 'rolloff_7': 0.1715321293725,\n",
       " 'mfcc_284': 0.22897009461428566,\n",
       " 'mfcc_175': 0.27541124665,\n",
       " 'mfcc_269': 0.05866159310111111,\n",
       " 'spec_cent_12': 0.1565929877318182,\n",
       " 'spec_cent_18': 0.07430800418533333,\n",
       " 'rolloff_14': 0.41845815379833334,\n",
       " 'mfcc_39': 0.18559404823333334,\n",
       " 'chroma_stft_176': 0.109528532225,\n",
       " 'mfcc_351': 0.11772042952363636,\n",
       " 'chroma_stft_203': 0.09269426476266668,\n",
       " 'mfcc_410': 0.029123451003599997,\n",
       " 'chroma_stft_48': 0.08262890975,\n",
       " 'mfcc_88': 0.14762135316333333,\n",
       " 'chroma_stft_122': 0.10571044064272729,\n",
       " 'spec_bw_20': 0.08844297788,\n",
       " 'chroma_stft_67': 0.09942705964941176,\n",
       " 'zcr_12': 0.144170704325,\n",
       " 'spec_cent_2': 0.08480794170214287,\n",
       " 'zcr_2': 0.07695598732999999,\n",
       " 'mfcc_96': 0.038405224700000004,\n",
       " 'chroma_stft_121': 0.0682690412624,\n",
       " 'mfcc_423': 0.10541178268750001,\n",
       " 'chroma_stft_23': 0.08303626150555554,\n",
       " 'mfcc_384': 0.08341675009999999,\n",
       " 'spec_cent_14': 0.14257675758782606,\n",
       " 'chroma_stft_172': 0.07572202853785716,\n",
       " 'mfcc_128': 0.2590025955333333,\n",
       " 'chroma_stft_175': 0.10489071963866668,\n",
       " 'mfcc_310': 0.26155695246666666,\n",
       " 'chroma_stft_173': 0.10184845764640002,\n",
       " 'mfcc_246': 0.213385390625,\n",
       " 'mfcc_148': 0.1498350571383333,\n",
       " 'mfcc_229': 0.12049821910909092,\n",
       " 'chroma_stft_105': 0.06971927040638463,\n",
       " 'chroma_stft_110': 0.08955630469357144,\n",
       " 'mfcc_67': 0.06581447592666669,\n",
       " 'mfcc_316': 0.07978759121124998,\n",
       " 'mfcc_20': 0.061870827359285716,\n",
       " 'mfcc_345': 0.15309194473333332,\n",
       " 'mfcc_289': 0.13240822921428572,\n",
       " 'mfcc_56': 0.24918526156666668,\n",
       " 'mfcc_122': 0.19615066037499998,\n",
       " 'chroma_stft_30': 0.06356003092984208,\n",
       " 'chroma_stft_126': 0.0815871068393333,\n",
       " 'chroma_stft_199': 0.06703082367593334,\n",
       " 'mfcc_27': 0.011558755835999999,\n",
       " 'mfcc_432': 0.09250603761555554,\n",
       " 'chroma_stft_200': 0.07955161552285714,\n",
       " 'mfcc_397': 0.03588632063285714,\n",
       " 'mfcc_159': 0.07179352194618181,\n",
       " 'mfcc_188': 0.07181758147285713,\n",
       " 'mfcc_110': 0.08067766732333331,\n",
       " 'mfcc_197': 0.175663842897,\n",
       " 'mfcc_105': 0.21185748395,\n",
       " 'mfcc_36': 0.16859292539999998,\n",
       " 'mfcc_260': 0.10116466557142859,\n",
       " 'mfcc_281': 0.1744130139833333,\n",
       " 'mfcc_204': 0.15106669266666667,\n",
       " 'mfcc_258': 0.09765929486166665,\n",
       " 'mfcc_100': 0.06593128108,\n",
       " 'mfcc_317': 0.15394913295333335,\n",
       " 'mfcc_203': 0.056574096695999984,\n",
       " 'mfcc_348': 0.06370105408888888,\n",
       " 'chroma_stft_194': 0.08992673226043478,\n",
       " 'mfcc_135': 0.10895038649,\n",
       " 'mfcc_48': 0.4256334139,\n",
       " 'mfcc_419': 0.21822383559999994,\n",
       " 'mfcc_187': 0.07727437325666667,\n",
       " 'mfcc_102': 0.13801499087333333,\n",
       " 'mfcc_357': 0.056037647918,\n",
       " 'chroma_stft_89': 0.06333451995818182,\n",
       " 'mfcc_409': 0.04958321968909092,\n",
       " 'mfcc_227': 0.05417414332428572,\n",
       " 'mfcc_40': 0.1387509191,\n",
       " 'mfcc_86': 0.24814069374999997,\n",
       " 'mfcc_273': 0.030105154961999996,\n",
       " 'mfcc_340': 0.10377736058199998,\n",
       " 'mfcc_395': 0.057535554481000006,\n",
       " 'mfcc_142': 0.04920681721666667,\n",
       " 'zcr_3': 0.08202852657333334,\n",
       " 'mfcc_256': 0.04768814637875001,\n",
       " 'mfcc_393': 0.122226367232,\n",
       " 'mfcc_400': 0.0329943113975,\n",
       " 'mfcc_163': 0.07969374736200001,\n",
       " 'mfcc_25': 0.1659606703,\n",
       " 'mfcc_373': 0.065968363969,\n",
       " 'mfcc_162': 0.05305821833749999,\n",
       " 'mfcc_206': 0.103552294634,\n",
       " 'mfcc_156': 0.02531209310222222,\n",
       " 'chroma_stft_153': 0.04413205722133333,\n",
       " 'mfcc_301': 0.10383326092285713,\n",
       " 'mfcc_242': 0.047958704479999996,\n",
       " 'mfcc_318': 0.05097455424333334,\n",
       " 'chroma_stft_91': 0.0599950930917647,\n",
       " 'spec_cent_17': 0.11677166962499999,\n",
       " 'spec_cent_21': 0.037561618121,\n",
       " 'mfcc_24': 0.06533190198000001,\n",
       " 'mfcc_136': 0.10889690872499999,\n",
       " 'mfcc_354': 0.04526411323000001,\n",
       " 'chroma_stft_163': 0.06850789371347825,\n",
       " 'mfcc_214': 0.188753276686,\n",
       " 'mfcc_32': 0.038729406098,\n",
       " 'mfcc_412': 0.06580919925999999,\n",
       " 'mfcc_191': 0.087242468394,\n",
       " 'mfcc_119': 0.22320012015000001,\n",
       " 'mfcc_63': 1.05185199,\n",
       " 'mfcc_0': 0.093058983725,\n",
       " 'rolloff_16': 0.300998747,\n",
       " 'mfcc_189': 0.0615389959575,\n",
       " 'mfcc_213': 0.04833022724166666,\n",
       " 'mfcc_283': 0.081745542925,\n",
       " 'mfcc_323': 0.13566705676666665,\n",
       " 'chroma_stft_179': 0.04756373243823529,\n",
       " 'mfcc_42': 0.045657408894777776,\n",
       " 'mfcc_89': 0.03490172325285714,\n",
       " 'rms_14': 0.03208486877333334,\n",
       " 'mfcc_349': 0.16680592575,\n",
       " 'mfcc_118': 0.09133857146600001,\n",
       " 'mfcc_109': 0.05390539079285715,\n",
       " 'mfcc_268': 0.1489485970285714,\n",
       " 'mfcc_173': 0.20588376517,\n",
       " 'mfcc_389': 0.065646517898,\n",
       " 'mfcc_276': 0.02815892879571428,\n",
       " 'mfcc_180': 0.021423310737500003,\n",
       " 'mfcc_337': 0.09477674212499998,\n",
       " 'mfcc_126': 0.1412798035,\n",
       " 'mfcc_31': 0.2220441165275,\n",
       " 'mfcc_404': 0.0607748025025,\n",
       " 'mfcc_413': 0.036655067709999996,\n",
       " 'mfcc_131': 0.023425461379090906,\n",
       " 'mfcc_270': 0.10753569728000002,\n",
       " 'mfcc_178': 0.039896582456,\n",
       " 'chroma_stft_147': 0.04514431044789474,\n",
       " 'mfcc_420': 0.06824007175,\n",
       " 'mfcc_7': 0.06973846637033333,\n",
       " 'mfcc_65': 0.02624305704714286,\n",
       " 'chroma_stft_35': 0.05832952928590907,\n",
       " 'zcr_4': 0.053115513506,\n",
       " 'mfcc_198': 0.07685849303333334,\n",
       " 'mfcc_226': 0.061721940922666675,\n",
       " 'mfcc_45': 0.10616072689999999,\n",
       " 'mfcc_248': 0.0690429016,\n",
       " 'mfcc_335': 0.04437344974666666,\n",
       " 'mfcc_11': 0.06638046915000001,\n",
       " 'mfcc_294': 0.11007913700000001,\n",
       " 'mfcc_139': 0.02838071667,\n",
       " 'mfcc_179': 0.09473812144999996,\n",
       " 'mfcc_426': 0.06938333126,\n",
       " 'mfcc_250': 0.0774462628575,\n",
       " 'mfcc_217': 0.03571470536555555,\n",
       " 'mfcc_361': 0.0945325045,\n",
       " 'mfcc_339': 0.05665880134,\n",
       " 'mfcc_360': 0.0696925590225,\n",
       " 'rms_3': 0.02791482711836363,\n",
       " 'mfcc_104': 0.07775854255,\n",
       " 'mfcc_414': 0.052493011057500004,\n",
       " 'chroma_stft_96': 0.05810485285752,\n",
       " 'mfcc_406': 0.04748210458166666,\n",
       " 'mfcc_209': 0.04981270890777778,\n",
       " 'chroma_stft_220': 0.09225099838166667,\n",
       " 'rms_2': 0.00670057163,\n",
       " 'mfcc_358': 0.068915898255,\n",
       " 'mfcc_274': 0.042442631425,\n",
       " 'mfcc_311': 0.0923649669,\n",
       " 'mfcc_388': 0.014686387028,\n",
       " 'mfcc_90': 0.026953215211666662,\n",
       " 'mfcc_112': 0.04728390415666667,\n",
       " 'mfcc_28': 0.02869453314,\n",
       " 'mfcc_251': 0.05560272508999999,\n",
       " 'mfcc_312': 0.07091339409750001,\n",
       " 'mfcc_240': 0.03185922335857143,\n",
       " 'mfcc_380': 0.07033758365333333,\n",
       " 'mfcc_38': 0.03895489653833333,\n",
       " 'mfcc_396': 0.02462558792857143,\n",
       " 'chroma_stft_127': 0.02801860253625,\n",
       " 'mfcc_324': 0.022453642094,\n",
       " 'mfcc_134': 0.039310221194545455,\n",
       " 'mfcc_3': 0.02341979855,\n",
       " 'spec_cent_3': 0.040034987225000006,\n",
       " 'mfcc_288': 0.0339560823075,\n",
       " 'mfcc_95': 0.1449812205,\n",
       " 'mfcc_439': 0.05757607624833333,\n",
       " 'mfcc_430': 0.057014374369999996,\n",
       " 'mfcc_322': 0.045623843889999995,\n",
       " 'mfcc_271': 0.04950240255,\n",
       " 'chroma_stft_177': 0.0305049890585,\n",
       " 'mfcc_59': 0.0570802465,\n",
       " 'mfcc_297': 0.046955111047500005,\n",
       " 'mfcc_365': 0.04355912634,\n",
       " 'mfcc_381': 0.07339832974800001,\n",
       " 'mfcc_151': 0.11603704295,\n",
       " 'rolloff_9': 0.011991757450000001,\n",
       " 'mfcc_315': 0.076920379,\n",
       " 'mfcc_183': 0.058806252692222234,\n",
       " 'mfcc_231': 0.03527183035923077,\n",
       " 'mfcc_382': 0.05308177546285714,\n",
       " 'mfcc_64': 0.09352365525,\n",
       " 'spec_cent_0': 0.013963924594000001,\n",
       " 'mfcc_144': 0.0554975495,\n",
       " 'mfcc_255': 0.042780391200000004,\n",
       " 'mfcc_44': 0.057778102033333334,\n",
       " 'spec_cent_11': 0.027932919800000004,\n",
       " 'mfcc_219': 0.028488689139333327,\n",
       " 'mfcc_278': 0.04151756346571429,\n",
       " 'mfcc_91': 0.02821806445,\n",
       " 'mfcc_280': 0.0364507033,\n",
       " 'zcr_1': 0.09157326121,\n",
       " 'mfcc_366': 0.03687855301466667,\n",
       " 'rolloff_21': 0.01860477557,\n",
       " 'mfcc_146': 0.0346413545675,\n",
       " 'mfcc_402': 0.057686357195555565,\n",
       " 'zcr_10': 0.062376243628333335,\n",
       " 'mfcc_171': 0.023943015845,\n",
       " 'zcr_0': 0.03134849343,\n",
       " 'mfcc_165': 0.0680246254,\n",
       " 'mfcc_47': 0.07928398249999999,\n",
       " 'mfcc_117': 0.061629761,\n",
       " 'mfcc_120': 0.03884772989428571,\n",
       " 'mfcc_298': 0.016096962617142857,\n",
       " 'mfcc_296': 0.025983929456000004,\n",
       " 'mfcc_377': 0.03354674446000001,\n",
       " 'mfcc_364': 0.04501711516000001,\n",
       " 'mfcc_107': 0.027841728655000002,\n",
       " 'mfcc_306': 0.025587223173333336,\n",
       " 'mfcc_174': 0.03297618657714286,\n",
       " 'mfcc_228': 0.05130910885285715,\n",
       " 'mfcc_121': 0.1760400067,\n",
       " 'mfcc_319': 0.0479578193,\n",
       " 'mfcc_267': 0.03498841488142857,\n",
       " 'mfcc_371': 0.029770959399999998,\n",
       " 'mfcc_41': 0.037180592175,\n",
       " 'mfcc_113': 0.04223100156666667,\n",
       " 'mfcc_342': 0.04448218273,\n",
       " 'mfcc_232': 0.018293144336666664,\n",
       " 'mfcc_85': 0.011088136855,\n",
       " 'mfcc_129': 0.0423280075,\n",
       " 'mfcc_394': 0.01169686936,\n",
       " 'mfcc_350': 0.050303287800000006,\n",
       " 'mfcc_341': 0.0389044732,\n",
       " 'mfcc_363': 0.050394942975,\n",
       " 'mfcc_352': 0.014615124624285714,\n",
       " 'mfcc_308': 0.01648765786666667,\n",
       " 'mfcc_97': 0.02884097025,\n",
       " 'rolloff_8': 0.011842023735,\n",
       " 'mfcc_115': 0.0606644481,\n",
       " 'mfcc_103': 0.05948373575,\n",
       " 'mfcc_57': 0.0970776826,\n",
       " 'mfcc_293': 0.021126008021999997,\n",
       " 'mfcc_300': 0.028390281213333337,\n",
       " 'mfcc_378': 0.035828815782499995,\n",
       " 'rolloff_6': 0.014450008666666667,\n",
       " 'mfcc_355': 0.18813464,\n",
       " 'mfcc_220': 0.024594393946,\n",
       " 'mfcc_218': 0.0274820698175,\n",
       " 'mfcc_154': 0.01746163405883333,\n",
       " 'mfcc_14': 0.020634474815,\n",
       " 'mfcc_166': 0.027784413999999997,\n",
       " 'mfcc_344': 0.03717583542333333,\n",
       " 'mfcc_299': 0.011805729235,\n",
       " 'mfcc_17': 0.028674885625999996,\n",
       " 'mfcc_69': 0.0660103187,\n",
       " 'mfcc_368': 0.052065767355,\n",
       " 'rolloff_19': 0.0432558569,\n",
       " 'mfcc_303': 0.0213321680075,\n",
       " 'mfcc_327': 0.023954128850000003,\n",
       " 'mfcc_261': 0.018692835116249997,\n",
       " 'mfcc_37': 0.02388758585,\n",
       " 'mfcc_193': 0.016873716855,\n",
       " 'mfcc_168': 0.03147673235,\n",
       " 'mfcc_79': 0.0430961028,\n",
       " 'mfcc_130': 0.031037449856666666,\n",
       " 'mfcc_383': 0.01813264726,\n",
       " 'mfcc_167': 0.01664640820428571,\n",
       " 'mfcc_138': 0.0397552182,\n",
       " 'mfcc_161': 0.024127505714285714,\n",
       " 'mfcc_326': 0.012200994423333333,\n",
       " 'mfcc_10': 0.0327806566,\n",
       " 'mfcc_52': 0.0176009797,\n",
       " 'mfcc_30': 0.021220271774999997,\n",
       " 'zcr_8': 0.023659460257500004,\n",
       " 'mfcc_160': 0.014673835994,\n",
       " 'mfcc_392': 0.017651652,\n",
       " 'mfcc_264': 0.026832363723333336,\n",
       " 'mfcc_216': 0.04495314696666666,\n",
       " 'mfcc_199': 0.01942461573,\n",
       " 'mfcc_72': 0.0111367982,\n",
       " 'mfcc_101': 0.013976451,\n",
       " 'mfcc_9': 0.024111867566666667,\n",
       " 'mfcc_343': 0.014258255576666668,\n",
       " 'mfcc_304': 0.0210619300875,\n",
       " 'mfcc_385': 0.03084862515,\n",
       " 'mfcc_15': 0.0416962318,\n",
       " 'mfcc_321': 0.012658187187500001,\n",
       " 'mfcc_244': 0.0206088405,\n",
       " 'mfcc_336': 0.025374223766666665,\n",
       " 'mfcc_84': 0.01744922715,\n",
       " 'mfcc_367': 0.027647238833333334,\n",
       " 'mfcc_338': 0.0101331063,\n",
       " 'mfcc_137': 0.018174118825,\n",
       " 'mfcc_93': 0.0170184625425,\n",
       " 'mfcc_125': 0.00261894776,\n",
       " 'mfcc_12': 0.0463288836,\n",
       " 'chroma_stft_112': 0.0138512095,\n",
       " 'mfcc_19': 0.0117796725,\n",
       " 'mfcc_334': 0.0181333092,\n",
       " 'mfcc_81': 0.01401069575,\n",
       " 'mfcc_55': 0.019141086066666667,\n",
       " 'mfcc_359': 0.014104794225000002,\n",
       " 'mfcc_116': 0.040047548093333336,\n",
       " 'mfcc_302': 0.01133826141,\n",
       " 'mfcc_51': 0.02804781405,\n",
       " 'mfcc_50': 0.0295922831,\n",
       " 'mfcc_372': 0.003284932113333333,\n",
       " 'mfcc_75': 0.00950296223,\n",
       " 'mfcc_62': 0.0486340448,\n",
       " 'mfcc_13': 0.015762314700000002,\n",
       " 'mfcc_282': 0.012631264045,\n",
       " 'rolloff_18': 0.0083574201,\n",
       " 'mfcc_46': 0.0426785648,\n",
       " 'mfcc_375': 0.01013657496,\n",
       " 'mfcc_23': 0.0122955674,\n",
       " 'rolloff_15': 0.0119210165,\n",
       " 'mfcc_347': 0.013072145186666667,\n",
       " 'mfcc_4': 0.0113359243,\n",
       " 'mfcc_54': 0.00612558704,\n",
       " 'mfcc_98': 0.00648569362,\n",
       " 'mfcc_314': 0.012080186,\n",
       " 'mfcc_76': 0.00958840176,\n",
       " 'mfcc_320': 0.010994112827500001,\n",
       " 'mfcc_210': 0.0078901393575,\n",
       " 'mfcc_208': 0.005587277005,\n",
       " 'mfcc_77': 0.0147119695,\n",
       " 'mfcc_60': 0.00738629373,\n",
       " 'mfcc_82': 0.00701904204,\n",
       " 'mfcc_123': 0.00613800157,\n",
       " 'mfcc_49': 0.00588541105}"
      ]
     },
     "execution_count": 51,
     "metadata": {},
     "output_type": "execute_result"
    }
   ],
   "source": [
    "# the average information gain across all splits the feature is used in.\n",
    "{ features_dict[key]:value for key, value in model.get_booster().get_score(importance_type='gain').items() }"
   ]
  },
  {
   "cell_type": "code",
   "execution_count": 52,
   "metadata": {
    "colab": {
     "base_uri": "https://localhost:8080/"
    },
    "id": "WK0soiWvfyJ3",
    "outputId": "d970f595-791e-44d9-8808-822927b434b4",
    "scrolled": true
   },
   "outputs": [
    {
     "data": {
      "text/plain": [
       "{'50_100_chroma_stft_mean': 320,\n",
       " '50_100_rolloff_mean': 64,\n",
       " 'zcr_19': 19,\n",
       " 'zcr_13': 4,\n",
       " 'chroma_stft_84': 39,\n",
       " 'chroma_stft_195': 34,\n",
       " 'spec_cent_20': 27,\n",
       " 'chroma_stft_188': 29,\n",
       " 'rms_19': 10,\n",
       " 'chroma_stft_42': 37,\n",
       " 'rms_4': 29,\n",
       " 'chroma_stft_115': 27,\n",
       " 'rms_16': 18,\n",
       " 'rms_21': 26,\n",
       " 'chroma_stft_3': 47,\n",
       " 'chroma_stft_171': 21,\n",
       " 'chroma_stft_77': 16,\n",
       " 'chroma_stft_95': 18,\n",
       " 'chroma_stft_138': 16,\n",
       " 'spec_bw_11': 36,\n",
       " 'chroma_stft_129': 19,\n",
       " 'mfcc_307': 12,\n",
       " 'mfcc_290': 5,\n",
       " 'chroma_stft_118': 38,\n",
       " 'spec_bw_6': 35,\n",
       " '50_100_zcr_mean': 50,\n",
       " 'chroma_stft_261': 30,\n",
       " 'chroma_stft_61': 21,\n",
       " 'rolloff_10': 2,\n",
       " 'chroma_stft_190': 33,\n",
       " 'chroma_stft_228': 20,\n",
       " 'spec_bw_9': 40,\n",
       " 'spec_bw_12': 55,\n",
       " 'mfcc_222': 7,\n",
       " 'chroma_stft_56': 37,\n",
       " 'chroma_stft_212': 26,\n",
       " 'chroma_stft_218': 17,\n",
       " 'chroma_stft_186': 27,\n",
       " 'chroma_stft_111': 15,\n",
       " 'chroma_stft_33': 31,\n",
       " '50_100_spec_cent_mean': 136,\n",
       " 'chroma_stft_34': 32,\n",
       " 'chroma_stft_225': 18,\n",
       " 'spec_bw_10': 45,\n",
       " 'chroma_stft_137': 38,\n",
       " 'spec_cent_6': 17,\n",
       " 'chroma_stft_83': 20,\n",
       " 'chroma_stft_217': 36,\n",
       " 'chroma_stft_28': 41,\n",
       " 'mfcc_238': 14,\n",
       " 'rms_8': 17,\n",
       " 'spec_bw_15': 54,\n",
       " 'spec_bw_18': 38,\n",
       " 'chroma_stft_139': 32,\n",
       " 'chroma_stft_262': 28,\n",
       " 'chroma_stft_166': 27,\n",
       " 'spec_cent_19': 18,\n",
       " 'rms_17': 28,\n",
       " 'zcr_18': 13,\n",
       " 'chroma_stft_245': 32,\n",
       " 'rolloff_2': 4,\n",
       " 'chroma_stft_157': 26,\n",
       " 'mfcc_429': 6,\n",
       " 'chroma_stft_73': 30,\n",
       " 'mfcc_26': 3,\n",
       " 'chroma_stft_246': 32,\n",
       " 'chroma_stft_119': 27,\n",
       " 'spec_bw_8': 37,\n",
       " 'chroma_stft_60': 22,\n",
       " 'chroma_stft_82': 26,\n",
       " 'mfcc_140': 4,\n",
       " 'mfcc_438': 12,\n",
       " 'mfcc_428': 18,\n",
       " 'rms_7': 19,\n",
       " 'mfcc_224': 5,\n",
       " 'spec_bw_19': 34,\n",
       " 'zcr_21': 16,\n",
       " 'chroma_stft_99': 18,\n",
       " 'mfcc_155': 13,\n",
       " 'spec_bw_5': 33,\n",
       " 'spec_bw_13': 33,\n",
       " 'chroma_stft_236': 29,\n",
       " 'chroma_stft_114': 19,\n",
       " 'chroma_stft_260': 31,\n",
       " 'spec_cent_4': 19,\n",
       " '50_100_mfcc_mean': 49,\n",
       " 'chroma_stft_191': 30,\n",
       " 'mfcc_223': 13,\n",
       " 'rms_13': 24,\n",
       " 'mfcc_436': 12,\n",
       " 'chroma_stft_13': 34,\n",
       " 'chroma_stft_86': 28,\n",
       " 'chroma_stft_47': 20,\n",
       " 'chroma_stft_55': 19,\n",
       " 'chroma_stft_4': 42,\n",
       " '50_100_rms_mean': 515,\n",
       " 'chroma_stft_259': 18,\n",
       " 'mfcc_157': 9,\n",
       " 'mfcc_211': 9,\n",
       " 'chroma_stft_41': 34,\n",
       " 'mfcc_73': 2,\n",
       " 'mfcc_369': 3,\n",
       " 'chroma_stft_18': 30,\n",
       " 'mfcc_253': 7,\n",
       " 'spec_bw_7': 39,\n",
       " 'zcr_15': 14,\n",
       " 'chroma_stft_229': 17,\n",
       " 'chroma_stft_8': 31,\n",
       " 'chroma_stft_52': 29,\n",
       " 'chroma_stft_197': 28,\n",
       " 'chroma_stft_36': 23,\n",
       " 'chroma_stft_185': 28,\n",
       " 'spec_bw_3': 29,\n",
       " 'mfcc_141': 6,\n",
       " 'mfcc_153': 18,\n",
       " 'spec_bw_17': 23,\n",
       " 'zcr_16': 13,\n",
       " 'chroma_stft_240': 25,\n",
       " 'mfcc_21': 13,\n",
       " 'mfcc_416': 11,\n",
       " 'chroma_stft_117': 24,\n",
       " 'chroma_stft_233': 21,\n",
       " 'chroma_stft_178': 12,\n",
       " 'zcr_6': 10,\n",
       " 'zcr_20': 19,\n",
       " 'chroma_stft_257': 26,\n",
       " 'mfcc_433': 5,\n",
       " 'rms_20': 13,\n",
       " 'chroma_stft_151': 16,\n",
       " 'rms_6': 34,\n",
       " 'mfcc_230': 8,\n",
       " 'mfcc_387': 6,\n",
       " 'chroma_stft_20': 26,\n",
       " 'chroma_stft_192': 35,\n",
       " 'chroma_stft_0': 50,\n",
       " 'rms_5': 30,\n",
       " 'mfcc_292': 5,\n",
       " 'rms_10': 17,\n",
       " 'mfcc_68': 4,\n",
       " 'chroma_stft_150': 14,\n",
       " 'mfcc_277': 5,\n",
       " 'zcr_17': 7,\n",
       " 'chroma_stft_53': 32,\n",
       " 'chroma_stft_37': 31,\n",
       " 'chroma_stft_165': 27,\n",
       " 'mfcc_202': 11,\n",
       " 'chroma_stft_27': 38,\n",
       " 'rolloff_3': 8,\n",
       " 'chroma_stft_109': 33,\n",
       " 'mfcc_418': 9,\n",
       " 'spec_bw_16': 26,\n",
       " 'rolloff_20': 6,\n",
       " 'chroma_stft_211': 28,\n",
       " 'chroma_stft_231': 22,\n",
       " 'chroma_stft_76': 23,\n",
       " 'chroma_stft_80': 27,\n",
       " 'chroma_stft_247': 30,\n",
       " 'chroma_stft_79': 28,\n",
       " 'chroma_stft_12': 21,\n",
       " 'chroma_stft_9': 31,\n",
       " 'chroma_stft_142': 23,\n",
       " 'chroma_stft_108': 22,\n",
       " 'chroma_stft_59': 30,\n",
       " 'mfcc_225': 10,\n",
       " 'mfcc_257': 9,\n",
       " 'chroma_stft_256': 21,\n",
       " 'mfcc_325': 6,\n",
       " 'chroma_stft_70': 16,\n",
       " 'mfcc_379': 10,\n",
       " 'chroma_stft_205': 24,\n",
       " 'chroma_stft_57': 26,\n",
       " 'mfcc_190': 5,\n",
       " 'chroma_stft_71': 22,\n",
       " 'chroma_stft_2': 41,\n",
       " 'zcr_5': 8,\n",
       " 'chroma_stft_32': 25,\n",
       " 'mfcc_399': 10,\n",
       " 'spec_bw_1': 13,\n",
       " 'zcr_9': 9,\n",
       " 'chroma_stft_49': 25,\n",
       " 'mfcc_18': 6,\n",
       " 'mfcc_192': 14,\n",
       " 'mfcc_170': 9,\n",
       " 'rolloff_5': 6,\n",
       " 'chroma_stft_213': 30,\n",
       " 'mfcc_78': 4,\n",
       " 'chroma_stft_19': 32,\n",
       " 'chroma_stft_26': 41,\n",
       " 'chroma_stft_6': 36,\n",
       " 'mfcc_424': 10,\n",
       " 'chroma_stft_93': 24,\n",
       " 'chroma_stft_145': 27,\n",
       " 'mfcc_435': 12,\n",
       " 'mfcc_43': 6,\n",
       " 'mfcc_124': 7,\n",
       " 'mfcc_407': 4,\n",
       " 'chroma_stft_208': 23,\n",
       " 'mfcc_212': 8,\n",
       " 'chroma_stft_58': 25,\n",
       " 'chroma_stft_116': 38,\n",
       " 'chroma_stft_40': 29,\n",
       " 'chroma_stft_242': 17,\n",
       " 'chroma_stft_113': 9,\n",
       " 'rms_9': 25,\n",
       " 'mfcc_437': 15,\n",
       " 'chroma_stft_92': 22,\n",
       " 'chroma_stft_21': 31,\n",
       " 'mfcc_33': 6,\n",
       " 'chroma_stft_237': 27,\n",
       " 'mfcc_417': 14,\n",
       " 'chroma_stft_214': 24,\n",
       " 'chroma_stft_17': 31,\n",
       " 'mfcc_8': 4,\n",
       " 'chroma_stft_38': 26,\n",
       " 'chroma_stft_74': 21,\n",
       " 'mfcc_330': 13,\n",
       " 'mfcc_329': 8,\n",
       " 'mfcc_176': 9,\n",
       " 'rolloff_4': 3,\n",
       " 'chroma_stft_170': 20,\n",
       " 'chroma_stft_78': 25,\n",
       " 'mfcc_221': 6,\n",
       " 'spec_cent_5': 23,\n",
       " 'chroma_stft_152': 22,\n",
       " 'mfcc_370': 3,\n",
       " 'mfcc_152': 7,\n",
       " 'mfcc_235': 10,\n",
       " 'chroma_stft_235': 30,\n",
       " 'zcr_14': 12,\n",
       " 'chroma_stft_215': 15,\n",
       " 'chroma_stft_155': 11,\n",
       " 'rms_0': 26,\n",
       " 'chroma_stft_241': 18,\n",
       " 'chroma_stft_243': 13,\n",
       " 'mfcc_177': 4,\n",
       " 'chroma_stft_10': 41,\n",
       " 'chroma_stft_158': 20,\n",
       " 'chroma_stft_183': 22,\n",
       " 'chroma_stft_184': 31,\n",
       " '50_100_spec_bw_mean': 102,\n",
       " 'spec_cent_8': 16,\n",
       " 'chroma_stft_234': 32,\n",
       " 'chroma_stft_174': 17,\n",
       " 'mfcc_411': 7,\n",
       " 'chroma_stft_75': 31,\n",
       " 'mfcc_133': 15,\n",
       " 'chroma_stft_196': 34,\n",
       " 'chroma_stft_101': 21,\n",
       " 'chroma_stft_263': 25,\n",
       " 'mfcc_205': 4,\n",
       " 'rms_11': 14,\n",
       " 'mfcc_6': 7,\n",
       " 'spec_cent_9': 20,\n",
       " 'mfcc_182': 9,\n",
       " 'chroma_stft_249': 22,\n",
       " 'chroma_stft_64': 19,\n",
       " 'chroma_stft_221': 17,\n",
       " 'mfcc_16': 8,\n",
       " 'mfcc_164': 8,\n",
       " 'chroma_stft_239': 22,\n",
       " 'chroma_stft_167': 25,\n",
       " 'mfcc_145': 3,\n",
       " 'chroma_stft_201': 11,\n",
       " 'chroma_stft_255': 17,\n",
       " 'chroma_stft_182': 29,\n",
       " 'mfcc_291': 4,\n",
       " 'chroma_stft_189': 30,\n",
       " 'chroma_stft_22': 16,\n",
       " 'chroma_stft_11': 40,\n",
       " 'spec_bw_14': 33,\n",
       " 'chroma_stft_141': 18,\n",
       " 'chroma_stft_130': 27,\n",
       " 'mfcc_285': 18,\n",
       " 'chroma_stft_187': 31,\n",
       " 'chroma_stft_162': 47,\n",
       " 'mfcc_263': 20,\n",
       " 'mfcc_169': 8,\n",
       " 'chroma_stft_106': 25,\n",
       " 'chroma_stft_209': 25,\n",
       " 'chroma_stft_140': 24,\n",
       " 'mfcc_241': 18,\n",
       " 'mfcc_245': 7,\n",
       " 'chroma_stft_168': 17,\n",
       " 'chroma_stft_227': 26,\n",
       " 'chroma_stft_181': 18,\n",
       " 'mfcc_374': 12,\n",
       " 'chroma_stft_149': 21,\n",
       " 'chroma_stft_5': 26,\n",
       " 'chroma_stft_207': 22,\n",
       " 'chroma_stft_102': 22,\n",
       " 'mfcc_415': 10,\n",
       " 'chroma_stft_46': 16,\n",
       " 'chroma_stft_133': 17,\n",
       " 'mfcc_5': 2,\n",
       " 'mfcc_275': 5,\n",
       " 'chroma_stft_180': 27,\n",
       " 'chroma_stft_85': 28,\n",
       " 'chroma_stft_107': 21,\n",
       " 'mfcc_66': 7,\n",
       " 'chroma_stft_1': 37,\n",
       " 'chroma_stft_62': 24,\n",
       " 'chroma_stft_51': 26,\n",
       " 'mfcc_431': 12,\n",
       " 'chroma_stft_216': 27,\n",
       " 'chroma_stft_65': 20,\n",
       " 'mfcc_279': 8,\n",
       " 'mfcc_215': 11,\n",
       " 'chroma_stft_69': 23,\n",
       " 'mfcc_309': 8,\n",
       " 'mfcc_34': 6,\n",
       " 'spec_cent_16': 20,\n",
       " 'spec_bw_2': 11,\n",
       " 'chroma_stft_98': 17,\n",
       " 'mfcc_286': 8,\n",
       " 'chroma_stft_39': 24,\n",
       " 'mfcc_434': 13,\n",
       " 'chroma_stft_232': 23,\n",
       " 'chroma_stft_120': 15,\n",
       " 'chroma_stft_238': 27,\n",
       " 'rms_18': 15,\n",
       " 'mfcc_2': 5,\n",
       " 'mfcc_376': 13,\n",
       " 'chroma_stft_252': 31,\n",
       " 'chroma_stft_254': 16,\n",
       " 'chroma_stft_50': 21,\n",
       " 'chroma_stft_94': 25,\n",
       " 'spec_cent_10': 18,\n",
       " 'chroma_stft_136': 28,\n",
       " 'mfcc_408': 10,\n",
       " 'mfcc_386': 9,\n",
       " 'chroma_stft_164': 19,\n",
       " 'chroma_stft_100': 28,\n",
       " 'chroma_stft_134': 10,\n",
       " 'mfcc_35': 8,\n",
       " 'chroma_stft_154': 9,\n",
       " 'chroma_stft_31': 29,\n",
       " 'mfcc_362': 9,\n",
       " 'chroma_stft_88': 12,\n",
       " 'chroma_stft_206': 17,\n",
       " 'mfcc_398': 23,\n",
       " 'chroma_stft_159': 32,\n",
       " 'mfcc_328': 8,\n",
       " 'chroma_stft_29': 32,\n",
       " 'mfcc_403': 6,\n",
       " 'mfcc_287': 10,\n",
       " 'chroma_stft_143': 20,\n",
       " 'spec_bw_4': 23,\n",
       " 'rms_15': 30,\n",
       " 'mfcc_29': 8,\n",
       " 'mfcc_1': 6,\n",
       " 'chroma_stft_244': 30,\n",
       " 'chroma_stft_204': 25,\n",
       " 'chroma_stft_224': 18,\n",
       " 'chroma_stft_193': 25,\n",
       " 'chroma_stft_144': 20,\n",
       " 'chroma_stft_68': 19,\n",
       " 'mfcc_207': 13,\n",
       " 'rms_12': 8,\n",
       " 'mfcc_405': 3,\n",
       " 'chroma_stft_135': 15,\n",
       " 'mfcc_313': 4,\n",
       " 'mfcc_195': 13,\n",
       " 'chroma_stft_43': 32,\n",
       " 'chroma_stft_219': 31,\n",
       " 'chroma_stft_24': 19,\n",
       " 'chroma_stft_103': 26,\n",
       " 'mfcc_150': 6,\n",
       " 'mfcc_201': 19,\n",
       " 'mfcc_172': 9,\n",
       " 'mfcc_254': 13,\n",
       " 'spec_cent_7': 13,\n",
       " 'mfcc_346': 4,\n",
       " 'mfcc_158': 11,\n",
       " 'chroma_stft_72': 21,\n",
       " 'rms_1': 2,\n",
       " 'mfcc_422': 4,\n",
       " 'chroma_stft_132': 18,\n",
       " 'chroma_stft_81': 24,\n",
       " 'mfcc_249': 5,\n",
       " 'chroma_stft_90': 11,\n",
       " 'chroma_stft_156': 10,\n",
       " 'chroma_stft_16': 47,\n",
       " 'chroma_stft_131': 26,\n",
       " 'chroma_stft_160': 27,\n",
       " 'mfcc_425': 15,\n",
       " 'chroma_stft_222': 30,\n",
       " 'chroma_stft_198': 4,\n",
       " 'mfcc_236': 11,\n",
       " 'chroma_stft_54': 20,\n",
       " 'mfcc_61': 1,\n",
       " 'zcr_11': 7,\n",
       " 'chroma_stft_25': 26,\n",
       " 'mfcc_331': 9,\n",
       " 'mfcc_427': 18,\n",
       " 'chroma_stft_44': 10,\n",
       " 'chroma_stft_253': 26,\n",
       " 'chroma_stft_250': 23,\n",
       " 'chroma_stft_161': 19,\n",
       " 'chroma_stft_15': 30,\n",
       " 'chroma_stft_248': 15,\n",
       " 'mfcc_237': 13,\n",
       " 'mfcc_185': 4,\n",
       " 'mfcc_243': 5,\n",
       " 'mfcc_87': 10,\n",
       " 'mfcc_421': 12,\n",
       " 'mfcc_390': 6,\n",
       " 'chroma_stft_128': 15,\n",
       " 'chroma_stft_125': 17,\n",
       " 'mfcc_401': 3,\n",
       " 'mfcc_149': 6,\n",
       " 'chroma_stft_14': 41,\n",
       " 'mfcc_252': 4,\n",
       " 'mfcc_143': 5,\n",
       " 'mfcc_265': 6,\n",
       " 'chroma_stft_104': 21,\n",
       " 'mfcc_111': 6,\n",
       " 'rolloff_12': 4,\n",
       " 'mfcc_272': 5,\n",
       " 'chroma_stft_7': 25,\n",
       " 'chroma_stft_148': 25,\n",
       " 'chroma_stft_97': 14,\n",
       " 'mfcc_234': 6,\n",
       " 'mfcc_266': 8,\n",
       " 'mfcc_184': 6,\n",
       " 'mfcc_247': 5,\n",
       " 'chroma_stft_66': 14,\n",
       " 'chroma_stft_124': 12,\n",
       " 'mfcc_22': 9,\n",
       " 'chroma_stft_251': 28,\n",
       " 'mfcc_353': 8,\n",
       " 'chroma_stft_258': 29,\n",
       " 'chroma_stft_169': 26,\n",
       " 'chroma_stft_87': 19,\n",
       " 'chroma_stft_45': 16,\n",
       " 'chroma_stft_202': 15,\n",
       " 'chroma_stft_223': 14,\n",
       " 'chroma_stft_63': 24,\n",
       " 'mfcc_181': 9,\n",
       " 'spec_bw_0': 10,\n",
       " 'mfcc_233': 9,\n",
       " 'chroma_stft_226': 19,\n",
       " 'mfcc_186': 11,\n",
       " 'spec_cent_15': 14,\n",
       " 'chroma_stft_123': 19,\n",
       " 'spec_bw_21': 24,\n",
       " 'spec_cent_1': 16,\n",
       " 'rolloff_11': 4,\n",
       " 'mfcc_194': 15,\n",
       " 'mfcc_147': 6,\n",
       " 'chroma_stft_230': 21,\n",
       " 'chroma_stft_210': 14,\n",
       " 'chroma_stft_146': 19,\n",
       " 'mfcc_262': 10,\n",
       " 'mfcc_259': 7,\n",
       " 'mfcc_200': 6,\n",
       " 'rolloff_17': 2,\n",
       " 'mfcc_132': 19,\n",
       " 'spec_cent_13': 10,\n",
       " 'zcr_7': 4,\n",
       " 'mfcc_239': 8,\n",
       " 'mfcc_332': 4,\n",
       " 'mfcc_196': 10,\n",
       " 'rolloff_7': 4,\n",
       " 'mfcc_284': 7,\n",
       " 'mfcc_175': 10,\n",
       " 'mfcc_269': 9,\n",
       " 'spec_cent_12': 11,\n",
       " 'spec_cent_18': 15,\n",
       " 'rolloff_14': 6,\n",
       " 'mfcc_39': 3,\n",
       " 'chroma_stft_176': 8,\n",
       " 'mfcc_351': 11,\n",
       " 'chroma_stft_203': 15,\n",
       " 'mfcc_410': 10,\n",
       " 'chroma_stft_48': 21,\n",
       " 'mfcc_88': 6,\n",
       " 'chroma_stft_122': 11,\n",
       " 'spec_bw_20': 14,\n",
       " 'chroma_stft_67': 17,\n",
       " 'zcr_12': 4,\n",
       " 'spec_cent_2': 14,\n",
       " 'zcr_2': 4,\n",
       " 'mfcc_96': 2,\n",
       " 'chroma_stft_121': 25,\n",
       " 'mfcc_423': 8,\n",
       " 'chroma_stft_23': 18,\n",
       " 'mfcc_384': 3,\n",
       " 'spec_cent_14': 23,\n",
       " 'chroma_stft_172': 28,\n",
       " 'mfcc_128': 6,\n",
       " 'chroma_stft_175': 15,\n",
       " 'mfcc_310': 3,\n",
       " 'chroma_stft_173': 25,\n",
       " 'mfcc_246': 4,\n",
       " 'mfcc_148': 6,\n",
       " 'mfcc_229': 11,\n",
       " 'chroma_stft_105': 13,\n",
       " 'chroma_stft_110': 14,\n",
       " 'mfcc_67': 6,\n",
       " 'mfcc_316': 8,\n",
       " 'mfcc_20': 14,\n",
       " 'mfcc_345': 3,\n",
       " 'mfcc_289': 7,\n",
       " 'mfcc_56': 3,\n",
       " 'mfcc_122': 4,\n",
       " 'chroma_stft_30': 38,\n",
       " 'chroma_stft_126': 15,\n",
       " 'chroma_stft_199': 15,\n",
       " 'mfcc_27': 5,\n",
       " 'mfcc_432': 9,\n",
       " 'chroma_stft_200': 14,\n",
       " 'mfcc_397': 7,\n",
       " 'mfcc_159': 11,\n",
       " 'mfcc_188': 7,\n",
       " 'mfcc_110': 9,\n",
       " 'mfcc_197': 10,\n",
       " 'mfcc_105': 2,\n",
       " 'mfcc_36': 5,\n",
       " 'mfcc_260': 7,\n",
       " 'mfcc_281': 6,\n",
       " 'mfcc_204': 6,\n",
       " 'mfcc_258': 12,\n",
       " 'mfcc_100': 2,\n",
       " 'mfcc_317': 3,\n",
       " 'mfcc_203': 10,\n",
       " 'mfcc_348': 9,\n",
       " 'chroma_stft_194': 23,\n",
       " 'mfcc_135': 4,\n",
       " 'mfcc_48': 2,\n",
       " 'mfcc_419': 3,\n",
       " 'mfcc_187': 6,\n",
       " 'mfcc_102': 3,\n",
       " 'mfcc_357': 5,\n",
       " 'chroma_stft_89': 11,\n",
       " 'mfcc_409': 11,\n",
       " 'mfcc_227': 7,\n",
       " 'mfcc_40': 8,\n",
       " 'mfcc_86': 2,\n",
       " 'mfcc_273': 5,\n",
       " 'mfcc_340': 5,\n",
       " 'mfcc_395': 10,\n",
       " 'mfcc_142': 3,\n",
       " 'zcr_3': 6,\n",
       " 'mfcc_256': 8,\n",
       " 'mfcc_393': 5,\n",
       " 'mfcc_400': 6,\n",
       " 'mfcc_163': 5,\n",
       " 'mfcc_25': 2,\n",
       " 'mfcc_373': 10,\n",
       " 'mfcc_162': 12,\n",
       " 'mfcc_206': 10,\n",
       " 'mfcc_156': 9,\n",
       " 'chroma_stft_153': 15,\n",
       " 'mfcc_301': 7,\n",
       " 'mfcc_242': 6,\n",
       " 'mfcc_318': 3,\n",
       " 'chroma_stft_91': 17,\n",
       " 'spec_cent_17': 16,\n",
       " 'spec_cent_21': 10,\n",
       " 'mfcc_24': 5,\n",
       " 'mfcc_136': 4,\n",
       " 'mfcc_354': 8,\n",
       " 'chroma_stft_163': 23,\n",
       " 'mfcc_214': 10,\n",
       " 'mfcc_32': 5,\n",
       " 'mfcc_412': 5,\n",
       " 'mfcc_191': 5,\n",
       " 'mfcc_119': 2,\n",
       " 'mfcc_63': 1,\n",
       " 'mfcc_0': 4,\n",
       " 'rolloff_16': 1,\n",
       " 'mfcc_189': 8,\n",
       " 'mfcc_213': 6,\n",
       " 'mfcc_283': 8,\n",
       " 'mfcc_323': 3,\n",
       " 'chroma_stft_179': 17,\n",
       " 'mfcc_42': 9,\n",
       " 'mfcc_89': 7,\n",
       " 'rms_14': 15,\n",
       " 'mfcc_349': 4,\n",
       " 'mfcc_118': 5,\n",
       " 'mfcc_109': 14,\n",
       " 'mfcc_268': 7,\n",
       " 'mfcc_173': 7,\n",
       " 'mfcc_389': 10,\n",
       " 'mfcc_276': 7,\n",
       " 'mfcc_180': 12,\n",
       " 'mfcc_337': 4,\n",
       " 'mfcc_126': 4,\n",
       " 'mfcc_31': 4,\n",
       " 'mfcc_404': 4,\n",
       " 'mfcc_413': 8,\n",
       " 'mfcc_131': 11,\n",
       " 'mfcc_270': 3,\n",
       " 'mfcc_178': 5,\n",
       " 'chroma_stft_147': 19,\n",
       " 'mfcc_420': 14,\n",
       " 'mfcc_7': 3,\n",
       " 'mfcc_65': 7,\n",
       " 'chroma_stft_35': 22,\n",
       " 'zcr_4': 10,\n",
       " 'mfcc_198': 3,\n",
       " 'mfcc_226': 15,\n",
       " 'mfcc_45': 3,\n",
       " 'mfcc_248': 6,\n",
       " 'mfcc_335': 3,\n",
       " 'mfcc_11': 2,\n",
       " 'mfcc_294': 4,\n",
       " 'mfcc_139': 2,\n",
       " 'mfcc_179': 11,\n",
       " 'mfcc_426': 10,\n",
       " 'mfcc_250': 8,\n",
       " 'mfcc_217': 9,\n",
       " 'mfcc_361': 3,\n",
       " 'mfcc_339': 6,\n",
       " 'mfcc_360': 4,\n",
       " 'rms_3': 11,\n",
       " 'mfcc_104': 4,\n",
       " 'mfcc_414': 4,\n",
       " 'chroma_stft_96': 25,\n",
       " 'mfcc_406': 6,\n",
       " 'mfcc_209': 9,\n",
       " 'chroma_stft_220': 6,\n",
       " 'rms_2': 1,\n",
       " 'mfcc_358': 8,\n",
       " 'mfcc_274': 4,\n",
       " 'mfcc_311': 1,\n",
       " 'mfcc_388': 5,\n",
       " 'mfcc_90': 6,\n",
       " 'mfcc_112': 6,\n",
       " 'mfcc_28': 7,\n",
       " 'mfcc_251': 7,\n",
       " 'mfcc_312': 4,\n",
       " 'mfcc_240': 14,\n",
       " 'mfcc_380': 6,\n",
       " 'mfcc_38': 6,\n",
       " 'mfcc_396': 7,\n",
       " 'chroma_stft_127': 16,\n",
       " 'mfcc_324': 5,\n",
       " 'mfcc_134': 11,\n",
       " 'mfcc_3': 4,\n",
       " 'spec_cent_3': 16,\n",
       " 'mfcc_288': 4,\n",
       " 'mfcc_95': 2,\n",
       " 'mfcc_439': 12,\n",
       " 'mfcc_430': 10,\n",
       " 'mfcc_322': 9,\n",
       " 'mfcc_271': 2,\n",
       " 'chroma_stft_177': 14,\n",
       " 'mfcc_59': 2,\n",
       " 'mfcc_297': 4,\n",
       " 'mfcc_365': 5,\n",
       " 'mfcc_381': 5,\n",
       " 'mfcc_151': 2,\n",
       " 'rolloff_9': 2,\n",
       " 'mfcc_315': 4,\n",
       " 'mfcc_183': 9,\n",
       " 'mfcc_231': 13,\n",
       " 'mfcc_382': 7,\n",
       " 'mfcc_64': 2,\n",
       " 'spec_cent_0': 10,\n",
       " 'mfcc_144': 1,\n",
       " 'mfcc_255': 5,\n",
       " 'mfcc_44': 3,\n",
       " 'spec_cent_11': 15,\n",
       " 'mfcc_219': 15,\n",
       " 'mfcc_278': 7,\n",
       " 'mfcc_91': 2,\n",
       " 'mfcc_280': 3,\n",
       " 'zcr_1': 4,\n",
       " 'mfcc_366': 3,\n",
       " 'rolloff_21': 3,\n",
       " 'mfcc_146': 4,\n",
       " 'mfcc_402': 9,\n",
       " 'zcr_10': 6,\n",
       " 'mfcc_171': 2,\n",
       " 'zcr_0': 2,\n",
       " 'mfcc_165': 3,\n",
       " 'mfcc_47': 2,\n",
       " 'mfcc_117': 3,\n",
       " 'mfcc_120': 7,\n",
       " 'mfcc_298': 7,\n",
       " 'mfcc_296': 5,\n",
       " 'mfcc_377': 5,\n",
       " 'mfcc_364': 8,\n",
       " 'mfcc_107': 4,\n",
       " 'mfcc_306': 6,\n",
       " 'mfcc_174': 7,\n",
       " 'mfcc_228': 7,\n",
       " 'mfcc_121': 2,\n",
       " 'mfcc_319': 4,\n",
       " 'mfcc_267': 7,\n",
       " 'mfcc_371': 4,\n",
       " 'mfcc_41': 4,\n",
       " 'mfcc_113': 3,\n",
       " 'mfcc_342': 2,\n",
       " 'mfcc_232': 6,\n",
       " 'mfcc_85': 6,\n",
       " 'mfcc_129': 1,\n",
       " 'mfcc_394': 6,\n",
       " 'mfcc_350': 3,\n",
       " 'mfcc_341': 1,\n",
       " 'mfcc_363': 4,\n",
       " 'mfcc_352': 7,\n",
       " 'mfcc_308': 6,\n",
       " 'mfcc_97': 2,\n",
       " 'rolloff_8': 6,\n",
       " 'mfcc_115': 4,\n",
       " 'mfcc_103': 2,\n",
       " 'mfcc_57': 1,\n",
       " 'mfcc_293': 5,\n",
       " 'mfcc_300': 3,\n",
       " 'mfcc_378': 4,\n",
       " 'rolloff_6': 3,\n",
       " 'mfcc_355': 1,\n",
       " 'mfcc_220': 5,\n",
       " 'mfcc_218': 4,\n",
       " 'mfcc_154': 12,\n",
       " 'mfcc_14': 4,\n",
       " 'mfcc_166': 3,\n",
       " 'mfcc_344': 3,\n",
       " 'mfcc_299': 2,\n",
       " 'mfcc_17': 5,\n",
       " 'mfcc_69': 1,\n",
       " 'mfcc_368': 4,\n",
       " 'rolloff_19': 3,\n",
       " 'mfcc_303': 4,\n",
       " 'mfcc_327': 4,\n",
       " 'mfcc_261': 8,\n",
       " 'mfcc_37': 2,\n",
       " 'mfcc_193': 6,\n",
       " 'mfcc_168': 2,\n",
       " 'mfcc_79': 1,\n",
       " 'mfcc_130': 3,\n",
       " 'mfcc_383': 6,\n",
       " 'mfcc_167': 7,\n",
       " 'mfcc_138': 4,\n",
       " 'mfcc_161': 7,\n",
       " 'mfcc_326': 3,\n",
       " 'mfcc_10': 2,\n",
       " 'mfcc_52': 1,\n",
       " 'mfcc_30': 6,\n",
       " 'zcr_8': 4,\n",
       " 'mfcc_160': 5,\n",
       " 'mfcc_392': 2,\n",
       " 'mfcc_264': 6,\n",
       " 'mfcc_216': 3,\n",
       " 'mfcc_199': 5,\n",
       " 'mfcc_72': 1,\n",
       " 'mfcc_101': 1,\n",
       " 'mfcc_9': 3,\n",
       " 'mfcc_343': 3,\n",
       " 'mfcc_304': 4,\n",
       " 'mfcc_385': 2,\n",
       " 'mfcc_15': 1,\n",
       " 'mfcc_321': 4,\n",
       " 'mfcc_244': 2,\n",
       " 'mfcc_336': 3,\n",
       " 'mfcc_84': 2,\n",
       " 'mfcc_367': 3,\n",
       " 'mfcc_338': 1,\n",
       " 'mfcc_137': 2,\n",
       " 'mfcc_93': 4,\n",
       " 'mfcc_125': 1,\n",
       " 'mfcc_12': 1,\n",
       " 'chroma_stft_112': 1,\n",
       " 'mfcc_19': 1,\n",
       " 'mfcc_334': 2,\n",
       " 'mfcc_81': 2,\n",
       " 'mfcc_55': 3,\n",
       " 'mfcc_359': 2,\n",
       " 'mfcc_116': 3,\n",
       " 'mfcc_302': 3,\n",
       " 'mfcc_51': 2,\n",
       " 'mfcc_50': 1,\n",
       " 'mfcc_372': 3,\n",
       " 'mfcc_75': 1,\n",
       " 'mfcc_62': 1,\n",
       " 'mfcc_13': 2,\n",
       " 'mfcc_282': 2,\n",
       " 'rolloff_18': 2,\n",
       " 'mfcc_46': 1,\n",
       " 'mfcc_375': 3,\n",
       " 'mfcc_23': 1,\n",
       " 'rolloff_15': 1,\n",
       " 'mfcc_347': 3,\n",
       " 'mfcc_4': 1,\n",
       " 'mfcc_54': 2,\n",
       " 'mfcc_98': 1,\n",
       " 'mfcc_314': 1,\n",
       " 'mfcc_76': 1,\n",
       " 'mfcc_320': 4,\n",
       " 'mfcc_210': 4,\n",
       " 'mfcc_208': 2,\n",
       " 'mfcc_77': 1,\n",
       " 'mfcc_60': 1,\n",
       " 'mfcc_82': 1,\n",
       " 'mfcc_123': 1,\n",
       " 'mfcc_49': 1}"
      ]
     },
     "execution_count": 52,
     "metadata": {},
     "output_type": "execute_result"
    }
   ],
   "source": [
    " # the number of times a feature is used to split the data across all trees.\n",
    "{ features_dict[key]:value for key, value in model.get_booster().get_score(importance_type='weight').items() }"
   ]
  },
  {
   "cell_type": "code",
   "execution_count": 53,
   "metadata": {
    "colab": {
     "base_uri": "https://localhost:8080/"
    },
    "id": "ADNJaPDFWUmm",
    "outputId": "5f7d6b10-b3ff-4c5d-b421-005fa5215b27"
   },
   "outputs": [],
   "source": [
    "preds = model.predict(np.array(X_test))"
   ]
  },
  {
   "cell_type": "code",
   "execution_count": 54,
   "metadata": {},
   "outputs": [
    {
     "name": "stdout",
     "output_type": "stream",
     "text": [
      "rms: 0.182758\n",
      "Precision score:  0.7197724039829303\n",
      "Recall score:  0.7701674277016742\n",
      "Accuracy score:  0.9638178415470992\n",
      "Balanced accuracy score:  0.8740916370736918\n",
      "F1 score:  0.7441176470588236\n",
      "F1 weighted score:  0.9643831922377716\n"
     ]
    }
   ],
   "source": [
    "printMetrics(Y_test, preds, 0.5)"
   ]
  },
  {
   "cell_type": "code",
   "execution_count": 55,
   "metadata": {
    "colab": {
     "base_uri": "https://localhost:8080/",
     "height": 313
    },
    "id": "cXHNAdEwrbks",
    "outputId": "04633e58-d11f-49b0-f060-4bd0231dd818"
   },
   "outputs": [
    {
     "name": "stderr",
     "output_type": "stream",
     "text": [
      "/home/latna/.local/lib/python3.9/site-packages/ipykernel/ipkernel.py:283: DeprecationWarning: `should_run_async` will not call `transform_cell` automatically in the future. Please pass the result to `transformed_cell` argument and any exception that happen during thetransform in `preprocessing_exc_tuple` in IPython 7.17 and above.\n",
      "  and should_run_async(code)\n"
     ]
    },
    {
     "name": "stdout",
     "output_type": "stream",
     "text": [
      "Constant negative: ROC AUC=0.500\n",
      "Logistic: ROC AUC=0.956\n"
     ]
    },
    {
     "data": {
      "image/png": "[encoded data removed]",
      "text/plain": [
       "<Figure size 432x288 with 1 Axes>"
      ]
     },
     "metadata": {
      "needs_background": "light"
     },
     "output_type": "display_data"
    }
   ],
   "source": [
    "# improved_features_lib2:  для нового train test\n",
    "from matplotlib import pyplot\n",
    "ns_probs = [0 for _ in range(len(Y_test))]\n",
    "# calculate scores\n",
    "ns_auc = roc_auc_score(Y_test, ns_probs)\n",
    "lr_auc = roc_auc_score(Y_test, preds)\n",
    "# summarize scores\n",
    "print('Constant negative: ROC AUC=%.3f' % (ns_auc))\n",
    "print('Logistic: ROC AUC=%.3f' % (lr_auc))\n",
    "# calculate roc curves\n",
    "ns_fpr, ns_tpr, _ = roc_curve(Y_test, ns_probs)\n",
    "lr_fpr, lr_tpr, _ = roc_curve(Y_test, preds)\n",
    "# plot the roc curve for the model\n",
    "pyplot.plot(ns_fpr, ns_tpr, linestyle='--', label='Constant negative')\n",
    "pyplot.plot(lr_fpr, lr_tpr, marker='.', label='Logistic')\n",
    "# axis labels\n",
    "pyplot.xlabel('False Positive Rate')\n",
    "pyplot.ylabel('True Positive Rate')\n",
    "# show the legend\n",
    "pyplot.legend()\n",
    "# show the plot\n",
    "pyplot.show()"
   ]
  },
  {
   "cell_type": "markdown",
   "metadata": {
    "id": "AdUXy-73NgEH"
   },
   "source": [
    "\n",
    "\n",
    "---\n",
    "\n"
   ]
  },
  {
   "cell_type": "code",
   "execution_count": null,
   "metadata": {
    "colab": {
     "base_uri": "https://localhost:8080/",
     "height": 412
    },
    "id": "NbkQ5BR6gm13",
    "outputId": "a42fb31a-b8c5-46bd-bc7c-e7ae63312483"
   },
   "outputs": [],
   "source": [
    "# для задач бинарной классификации стоит смотреть roc_auc\n",
    "from sklearn.model_selection import cross_val_score\n",
    "from sklearn.model_selection import RepeatedStratifiedKFold\n",
    "# define evaluation procedure\n",
    "cv = RepeatedStratifiedKFold(n_splits=10, n_repeats=3, random_state=1)\n",
    "print('Mean ROC AUC: %.5f' % np.mean(cross_val_score(model, X_train+X_test, Y_train+Y_test, scoring='roc_auc', cv=cv, n_jobs=-1)))"
   ]
  },
  {
   "cell_type": "markdown",
   "metadata": {
    "id": "AdUXy-73NgEH"
   },
   "source": [
    "\n",
    "\n",
    "---\n",
    "\n"
   ]
  },
  {
   "cell_type": "markdown",
   "metadata": {
    "id": "i7ZmMwcXV7tM"
   },
   "source": [
    "**Используем gradient boosting из библиотеки oneDAL**"
   ]
  },
  {
   "cell_type": "code",
   "execution_count": 60,
   "metadata": {},
   "outputs": [],
   "source": [
    "import daal4py as d4p"
   ]
  },
  {
   "cell_type": "code",
   "execution_count": 61,
   "metadata": {},
   "outputs": [],
   "source": [
    "dal_X_train = X_train\n",
    "dal_Y_train = [[i] for i in Y_train]\n",
    "\n",
    "dal_X_test = X_test\n",
    "dal_Y_test = [[i] for i in Y_test]"
   ]
  },
  {
   "cell_type": "code",
   "execution_count": 62,
   "metadata": {},
   "outputs": [],
   "source": [
    "dal_model = d4p.gbt_regression_training()"
   ]
  },
  {
   "cell_type": "code",
   "execution_count": 63,
   "metadata": {},
   "outputs": [
    {
     "name": "stdout",
     "output_type": "stream",
     "text": [
      "CPU times: user 4min 6s, sys: 0 ns, total: 4min 6s\n",
      "Wall time: 38.3 s\n"
     ]
    }
   ],
   "source": [
    "%%time\n",
    "dal_train_res = dal_model.compute(np.array(dal_X_train), np.array(dal_Y_train))"
   ]
  },
  {
   "cell_type": "code",
   "execution_count": 64,
   "metadata": {},
   "outputs": [],
   "source": [
    "dal_model_test = d4p.gbt_regression_prediction()"
   ]
  },
  {
   "cell_type": "code",
   "execution_count": 65,
   "metadata": {},
   "outputs": [],
   "source": [
    "predict_result = dal_model_test.compute(np.array(dal_X_test), dal_train_res.model)"
   ]
  },
  {
   "cell_type": "code",
   "execution_count": 66,
   "metadata": {},
   "outputs": [
    {
     "name": "stdout",
     "output_type": "stream",
     "text": [
      "rms: 0.167040\n",
      "Precision score:  0.8050541516245487\n",
      "Recall score:  0.6788432267884322\n",
      "Accuracy score:  0.9668330214181743\n",
      "Balanced accuracy score:  0.8333955002372024\n",
      "F1 score:  0.7365813377374071\n",
      "F1 weighted score:  0.9655172975114271\n"
     ]
    }
   ],
   "source": [
    "printMetrics(dal_Y_test, predict_result.prediction, 0.5) "
   ]
  },
  {
   "cell_type": "code",
   "execution_count": 67,
   "metadata": {},
   "outputs": [
    {
     "name": "stderr",
     "output_type": "stream",
     "text": [
      "/home/latna/.local/lib/python3.9/site-packages/ipykernel/ipkernel.py:283: DeprecationWarning: `should_run_async` will not call `transform_cell` automatically in the future. Please pass the result to `transformed_cell` argument and any exception that happen during thetransform in `preprocessing_exc_tuple` in IPython 7.17 and above.\n",
      "  and should_run_async(code)\n"
     ]
    },
    {
     "name": "stdout",
     "output_type": "stream",
     "text": [
      "Constant negative: ROC AUC=0.500\n",
      "Logistic: ROC AUC=0.956\n"
     ]
    },
    {
     "data": {
      "text/plain": [
       "<matplotlib.legend.Legend at 0x7fd7a3e9b790>"
      ]
     },
     "execution_count": 67,
     "metadata": {},
     "output_type": "execute_result"
    },
    {
     "data": {
      "image/png": "[encoded data removed]",
      "text/plain": [
       "<Figure size 432x288 with 1 Axes>"
      ]
     },
     "metadata": {
      "needs_background": "light"
     },
     "output_type": "display_data"
    }
   ],
   "source": [
    "# improved_features_lib2:  для нового train test\n",
    "from matplotlib import pyplot\n",
    "ns_probs = [0 for _ in range(len(Y_test))]\n",
    "# calculate scores\n",
    "ns_auc = roc_auc_score(dal_Y_test, ns_probs)\n",
    "lr_auc = roc_auc_score(dal_Y_test, predict_result.prediction)\n",
    "# summarize scores\n",
    "print('Constant negative: ROC AUC=%.3f' % (ns_auc))\n",
    "print('Logistic: ROC AUC=%.3f' % (lr_auc))\n",
    "# calculate roc curves\n",
    "ns_fpr, ns_tpr, _ = roc_curve(dal_Y_test, ns_probs)\n",
    "lr_fpr, lr_tpr, _ = roc_curve(dal_Y_test, predict_result.prediction)\n",
    "# plot the roc curve for the model\n",
    "pyplot.plot(ns_fpr, ns_tpr, linestyle='--', label='Constant negative')\n",
    "pyplot.plot(lr_fpr, lr_tpr, marker='.', label='Logistic')\n",
    "# axis labels\n",
    "pyplot.xlabel('False Positive Rate')\n",
    "pyplot.ylabel('True Positive Rate')\n",
    "# show the legend\n",
    "pyplot.legend()\n",
    "# show the plo"
   ]
  },
  {
   "cell_type": "markdown",
   "metadata": {
    "id": "eoMYQt7xTh5f"
   },
   "source": [
    "\n",
    "\n",
    "---\n",
    "\n"
   ]
  },
  {
   "cell_type": "markdown",
   "metadata": {
    "id": "XCHOAuRw2Fep"
   },
   "source": [
    "# Сравним результаты #\n",
    "\n",
    "rms:                   XGB:  <font color='green'>0.182758</font>             || oneDAL:  <font color='red'>0.167040</font>\n",
    "\n",
    "Precision score:         XGB:  <font color='red'>0.7197724039829303</font>   || oneDAL:  <font color='green'>0.8050541516245487</font>\n",
    "\n",
    "Recall score:            XGB:  <font color='green'>0.7701674277016742</font>   || oneDAL:  <font color='red'>0.6788432267884322</font>\n",
    "\n",
    "Accuracy score:          XGB:  <font color='red'>0.9638178415470992</font>   || oneDAL:  <font color='green'>0.9668330214181743</font>\n",
    "\n",
    "Balanced accuracy score: XGB:  <font color='green'>0.8740916370736918</font>   || oneDAL: <font color='red'> 0.8333955002372024</font>\n",
    "\n",
    "F1 score:                XGB:  <font color='green'>0.7441176470588236</font>   || oneDAL: <font color='red'> 0.7365813377374071</font>\n",
    "\n",
    "F1 weighted score:       XGB:  <font color='red'>0.9643831922377716</font>   || oneDAL:  <font color='green'>0.9655172975114271</font>\n",
    "\n",
    "Time: XGB: <font color='red'>5min 10s</font>   || oneDAL: <font color='green'>38.3 s</font>"
   ]
  },
  {
   "cell_type": "markdown",
   "metadata": {
    "id": "eoMYQt7xTh5f"
   },
   "source": [
    "\n",
    "\n",
    "---\n",
    "\n"
   ]
  },
  {
   "cell_type": "markdown",
   "metadata": {
    "id": "XCHOAuRw2Fep"
   },
   "source": [
    "# Выведем статистику по файлам #\n",
    "Выше были расчитаны оценки правильного опредления по маленьким окнам. Чтобы представить результаты по аналогии с [Kirsebom,2020] превидем их к статистике по файлам. Будем счиать, что в фале найден кит, если он найден как минимум в 'frames_crit' окнах из этого файла."
   ]
  },
  {
   "cell_type": "code",
   "execution_count": null,
   "metadata": {
    "colab": {
     "base_uri": "https://localhost:8080/"
    },
    "id": "why15_HoNuUP",
    "outputId": "8b5cc0bb-affd-44d2-fa9e-a13439c5ef04"
   },
   "outputs": [],
   "source": [
    "# 828 фич\n",
    "# а тут говорят, нет ошибки :-)\n",
    "from sklearn.preprocessing import binarize\n",
    "frames_crit = 3\n",
    "posit_frames_in_file = np.zeros((len(files),), dtype=np.uint32)\n",
    "preds_all = model.predict(X_all)\n",
    "preds_bin_all = binarize(preds_all.reshape(-1, 1), threshold=0.03)\n",
    "for j in range(0, len(preds_bin_all)):\n",
    "    if preds_bin_all[j]:\n",
    "        posit_frames_in_file[file_id_all[j]] += 1\n",
    "\n",
    "file_preds_bin = posit_frames_in_file > frames_crit\n",
    "labels_ = np.array(labels)\n",
    "tp = np.sum(file_preds_bin * labels_)\n",
    "tn = np.sum((1-file_preds_bin) * (1-labels_))\n",
    "fp = np.sum(file_preds_bin * (1-labels_))\n",
    "fn = np.sum((1-file_preds_bin) * labels_)\n",
    "\n",
    "print('TP = %d\\nTN = %d\\nFP = %d\\nFN = %d' % (tp, tn, fp, fn))\n",
    "print('Precision = TP/(TP+FP) = %0.3f' % (tp*1.0 / (tp+fp)) )\n",
    "print('Recall=TP/(TP+FN) = %0.3f' %  (tp*1.0 / (tp+fn))  ) \n",
    "print('PFA=FP/total = %0.3f' % (fp*1.0/len(files)))\n",
    "print('check total: %d = %d' % ((tp+tn+fp+fn), len(files)))"
   ]
  },
  {
   "cell_type": "markdown",
   "metadata": {
    "id": "vmIIHoGL6kpR"
   },
   "source": [
    "# Stacking #\n",
    "\n",
    "Для каждого файла будем получать вектор предсказаний и  уже его использовать в качестве входа для другого классификатора (модель второго уровня), который принимает решение, всё-таки есть кит или нет в этом файле. \n",
    "\n",
    "Данный трюк это классический приём - стэкинг.\n",
    "\n",
    "Для тренировки модели второго уровня будем использовать файлы, которые не использовались для тренировки модели первого уровня."
   ]
  },
  {
   "cell_type": "code",
   "execution_count": null,
   "metadata": {
    "colab": {
     "base_uri": "https://localhost:8080/"
    },
    "id": "EqdYzC-wmpKG",
    "outputId": "4245b1c9-1653-4347-ed39-aa241ca90f21"
   },
   "outputs": [],
   "source": [
    "! ls /content/drive/MyDrive/Canada/data/clips/dataset_A/val"
   ]
  },
  {
   "cell_type": "code",
   "execution_count": null,
   "metadata": {
    "id": "k7ECq2b4nM7J"
   },
   "outputs": [],
   "source": [
    "import csv\n",
    "import numpy as np\n",
    "\n",
    "val_files = []\n",
    "val_labels = []\n",
    "\n",
    "val_filesB, val_labelsB = readDataset('/home/latna/aponom//whales/Canada/data/clips/dataset_B/val/annotations_B_val.csv')\n",
    "val_files.extend(val_filesB)\n",
    "val_labels.extend(val_labelsB)"
   ]
  },
  {
   "cell_type": "code",
   "execution_count": null,
   "metadata": {
    "id": "geyNgj2UCIkP"
   },
   "outputs": [],
   "source": [
    "#ws, wd, sr\n",
    "def detectAnomalies_files(f):\n",
    "    warnings.simplefilter(\"ignore\")\n",
    "    x , sr = librosa.load(f)\n",
    "    wp = 0\n",
    "    _X = []  \n",
    "    while wp + ws < len(x):\n",
    "        _X.append(improved_features_lib2(x[wp:wp+ws], sr))\n",
    "        wp = wp + wd\n",
    "    return model.predict(np.array(_X) )    "
   ]
  },
  {
   "cell_type": "code",
   "execution_count": null,
   "metadata": {
    "colab": {
     "base_uri": "https://localhost:8080/",
     "height": 114,
     "referenced_widgets": [
      "494ec10051db4174a1c267007cef85d4",
      "db687340dac8423ab8b6c349ec32b096",
      "54161db8df2f465cbce977cd28742e99",
      "6ff11554958846c8b5a6d17b3e6e46f0",
      "0c5cc91401a6468cb48e0a4eac1e810a",
      "b1a2f902faae4f0e9c75b8355ca68620",
      "a445caa14a1a4da0b6d11bf0d432e7ad",
      "afdaa5c1523e4f5585a2f5462e7fd20d",
      "538df931ec464b55bb30a7b20b39423b",
      "6c0af060dacf456a9b137695536afbc5",
      "cea399aa91cf4722819ff64a9206ab8a",
      "3cf0a683bb3d472e866d41eb2a821a3d",
      "95cf03e05da94b75bd88679610bc1727",
      "cb5e742f12a448fdbe95460a60854881",
      "b134da031b7348b5a8c45d16e227cc3e",
      "3fe284e75d984a85b5098fbe5c06a192"
     ]
    },
    "id": "kvAQKGUJEciq",
    "outputId": "45803ee9-498a-422e-851f-3023f7c4a5ea"
   },
   "outputs": [],
   "source": [
    "# для тренировки модели второго уровня будем использовать файлы, которые\n",
    "# не использовались  для тренировки модели первого уровня\n",
    "# X_files_train = [detectAnomalies_files(f) for f in tqdm(test_files) ]\n",
    "# Y_files_train = test_labels\n",
    "X_files_train = [detectAnomalies_files(f) for f in tqdm(test_files + train_files) ]\n",
    "Y_files_train = test_labels + train_labels\n",
    "\n",
    "X_files_test = [detectAnomalies_files(f) for f in tqdm(val_files) ]\n",
    "Y_files_test = val_labels"
   ]
  },
  {
   "cell_type": "code",
   "execution_count": null,
   "metadata": {
    "colab": {
     "base_uri": "https://localhost:8080/"
    },
    "id": "X0YlL76oxmwS",
    "outputId": "d59bdbf0-e7ef-4547-aa47-e41f934bed59"
   },
   "outputs": [],
   "source": [
    "len(Y_files_train), len(Y_files_test)"
   ]
  },
  {
   "cell_type": "code",
   "execution_count": null,
   "metadata": {
    "colab": {
     "base_uri": "https://localhost:8080/"
    },
    "id": "02_6ifGWT3Xi",
    "outputId": "3feb1f47-cd78-4731-fa69-8ca9955ad72d"
   },
   "outputs": [],
   "source": [
    "1 / (sum(Y_files_train) /  (len(Y_files_train) - sum(Y_files_train) )), 1 / (sum(Y_files_test) /  (len(Y_files_test) - sum(Y_files_test) ))\n"
   ]
  },
  {
   "cell_type": "code",
   "execution_count": null,
   "metadata": {
    "id": "8K92m4xlB8G5"
   },
   "outputs": [],
   "source": [
    "stacking_model = xgb.XGBRegressor(objective ='binary:logistic',  n_estimators = 100)"
   ]
  },
  {
   "cell_type": "code",
   "execution_count": null,
   "metadata": {
    "colab": {
     "base_uri": "https://localhost:8080/"
    },
    "id": "iV4TWSNzH72o",
    "outputId": "9de91938-8e51-4081-d5fb-274e9e331323"
   },
   "outputs": [],
   "source": [
    "stacking_model.fit(np.array(X_files_train) ,np.array(Y_files_train), verbose=True )"
   ]
  },
  {
   "cell_type": "code",
   "execution_count": null,
   "metadata": {
    "id": "VSupiHFsLNy-"
   },
   "outputs": [],
   "source": [
    "files_preds = stacking_model.predict(np.array(X_files_test))"
   ]
  },
  {
   "cell_type": "code",
   "execution_count": null,
   "metadata": {
    "colab": {
     "base_uri": "https://localhost:8080/"
    },
    "id": "X7ZCDHN6JxT0",
    "outputId": "e60b0e79-f548-40d6-bf87-0b1f936d92ea"
   },
   "outputs": [],
   "source": [
    "#для надобора данных A -> B\n",
    "printMetrics(Y_files_test, files_preds, 0.5) "
   ]
  },
  {
   "cell_type": "code",
   "execution_count": null,
   "metadata": {
    "colab": {
     "base_uri": "https://localhost:8080/"
    },
    "id": "4ArcyTceINCi",
    "outputId": "0dcb61a8-c51a-44f6-eaaa-f4c08bfa2181"
   },
   "outputs": [],
   "source": [
    "#для надобора данных AB -> AB\n",
    "files_preds = stacking_model.predict(np.array(X_files_test) )\n",
    "from sklearn.metrics import mean_squared_error, precision_score, balanced_accuracy_score, f1_score, recall_score, accuracy_score, plot_roc_curve, roc_auc_score, roc_curve\n",
    "from sklearn.preprocessing import binarize\n",
    "print(\"rms: %f\" % np.sqrt(mean_squared_error(Y_files_test, files_preds)))\n",
    "print(\"Precision score: \",  precision_score(Y_files_test,  binarize(files_preds.reshape(-1, 1), threshold=0.5)))\n",
    "print(\"Recall score: \",  recall_score(Y_files_test,  binarize(files_preds.reshape(-1, 1), threshold=0.5)))\n",
    "print(\"Accuracy score: \",  accuracy_score(Y_files_test,  binarize(files_preds.reshape(-1, 1), threshold=0.5)))\n",
    "print(\"Balanced accuracy score: \",  balanced_accuracy_score(Y_files_test,  binarize(files_preds.reshape(-1, 1), threshold=0.5)))\n",
    "print(\"F1 score: \",  f1_score(Y_files_test,  binarize(files_preds.reshape(-1, 1), threshold=0.5)))\n",
    "print(\"F1 weighted score: \",  f1_score(Y_files_test,  binarize(files_preds.reshape(-1, 1), threshold=0.5), average = 'weighted'))"
   ]
  },
  {
   "cell_type": "code",
   "execution_count": null,
   "metadata": {
    "colab": {
     "base_uri": "https://localhost:8080/",
     "height": 313
    },
    "id": "viqXFPEbJZRr",
    "outputId": "1543087f-241a-40de-fe8e-909a7d85690d"
   },
   "outputs": [],
   "source": [
    "# stacking rock auc \n",
    "from matplotlib import pyplot\n",
    "ns_probs = [0 for _ in range(len(Y_files_test))]\n",
    "# calculate scores\n",
    "ns_auc = roc_auc_score(Y_files_test, ns_probs)\n",
    "lr_auc = roc_auc_score(Y_files_test, files_preds)\n",
    "# summarize scores\n",
    "print('Constant negative: ROC AUC=%.3f' % (ns_auc))\n",
    "print('Logistic: ROC AUC=%.3f' % (lr_auc))\n",
    "# calculate roc curves\n",
    "ns_fpr, ns_tpr, _ = roc_curve(Y_files_test, ns_probs)\n",
    "lr_fpr, lr_tpr, _ = roc_curve(Y_files_test, files_preds)\n",
    "# plot the roc curve for the model\n",
    "pyplot.plot(ns_fpr, ns_tpr, linestyle='--', label='Constant negative')\n",
    "pyplot.plot(lr_fpr, lr_tpr, marker='.', label='Logistic')\n",
    "# axis labels\n",
    "pyplot.xlabel('False Positive Rate')\n",
    "pyplot.ylabel('True Positive Rate')\n",
    "# show the legend\n",
    "pyplot.legend()\n",
    "# show the plot\n",
    "pyplot.show()"
   ]
  },
  {
   "cell_type": "markdown",
   "metadata": {
    "id": "u0UWEeOpHf7h"
   },
   "source": [
    "\n",
    "\n",
    "---\n",
    "\n"
   ]
  },
  {
   "cell_type": "code",
   "execution_count": null,
   "metadata": {},
   "outputs": [],
   "source": [
    "def dal_detectAnomalies(x, sr):\n",
    "    wp = 0\n",
    "    _X = []  \n",
    "    while wp + ws < len(x):\n",
    "        _X.append(improved_features_lib2(x[wp:wp+ws], sr))\n",
    "        wp = wp + wd\n",
    "    return dal_model_test.predict(np.array(_X), dal_train_res.model) "
   ]
  },
  {
   "cell_type": "code",
   "execution_count": null,
   "metadata": {},
   "outputs": [],
   "source": [
    "dal_X_files_train = [dal_detectAnomalies(f) for f in tqdm(test_files + train_files) ]\n",
    "dal_Y_files_train = test_labels + train_labels\n",
    "\n",
    "dal_X_files_test = [dal_detectAnomalies(f) for f in tqdm(val_files)]\n",
    "dal_Y_files_test = val_labels"
   ]
  },
  {
   "cell_type": "code",
   "execution_count": null,
   "metadata": {},
   "outputs": [],
   "source": [
    "dal_Y_files_train = np.array([[i] for i in Y_files_train])"
   ]
  },
  {
   "cell_type": "code",
   "execution_count": null,
   "metadata": {},
   "outputs": [],
   "source": [
    "dal_stacking_model = d4p.gbt_regression_training(maxIterations=200)"
   ]
  },
  {
   "cell_type": "code",
   "execution_count": null,
   "metadata": {},
   "outputs": [],
   "source": [
    "dal_train_result = dal_stacking_model.compute(np.array(X_files_train), np.array(dal_Y_files_train))"
   ]
  },
  {
   "cell_type": "code",
   "execution_count": null,
   "metadata": {},
   "outputs": [],
   "source": [
    "dal_model_test = d4p.gbt_regression_prediction()"
   ]
  },
  {
   "cell_type": "code",
   "execution_count": null,
   "metadata": {},
   "outputs": [],
   "source": [
    "dal_predict_result = dal_model_test.compute(np.array(X_files_test), dal_train_result.model)"
   ]
  },
  {
   "cell_type": "code",
   "execution_count": null,
   "metadata": {},
   "outputs": [],
   "source": [
    "printMetrics(Y_files_test, predict_result.prediction, 0.5)"
   ]
  },
  {
   "cell_type": "code",
   "execution_count": null,
   "metadata": {},
   "outputs": [],
   "source": [
    "# stacking rock auc \n",
    "from matplotlib import pyplot\n",
    "ns_probs = [0 for _ in range(len(Y_files_test))]\n",
    "# calculate scores\n",
    "ns_auc = roc_auc_score(Y_files_test, ns_probs)\n",
    "lr_auc = roc_auc_score(Y_files_test, files_preds)\n",
    "# summarize scores\n",
    "print('Constant negative: ROC AUC=%.3f' % (ns_auc))\n",
    "print('Logistic: ROC AUC=%.3f' % (lr_auc))\n",
    "# calculate roc curves\n",
    "ns_fpr, ns_tpr, _ = roc_curve(Y_files_test, ns_probs)\n",
    "lr_fpr, lr_tpr, _ = roc_curve(Y_files_test, files_preds)\n",
    "# plot the roc curve for the model\n",
    "pyplot.plot(ns_fpr, ns_tpr, linestyle='--', label='Constant negative')\n",
    "pyplot.plot(lr_fpr, lr_tpr, marker='.', label='Logistic')\n",
    "# axis labels\n",
    "pyplot.xlabel('False Positive Rate')\n",
    "pyplot.ylabel('True Positive Rate')\n",
    "# show the legend\n",
    "pyplot.legend()\n",
    "# show the plot\n",
    "pyplot.show()"
   ]
  },
  {
   "cell_type": "markdown",
   "metadata": {
    "id": "u0UWEeOpHf7h"
   },
   "source": [
    "\n",
    "\n",
    "---\n",
    "\n"
   ]
  },
  {
   "cell_type": "markdown",
   "metadata": {
    "id": "zKoyhGEW7G65"
   },
   "source": [
    "Признаки на основе спектрограммы от всего половины файла\n",
    "\n",
    "Абсолютизированный подход -- засунуть спектрограмму в классификатор. Рашее было пказано, что ~ 80 признаков - это не проблема для нашего классификатора при имеющемся объеме выборки. Разделим спектрограмму на большие клетки, чтобы их общее колличество оказалось несколько десятков."
   ]
  },
  {
   "cell_type": "code",
   "execution_count": 68,
   "metadata": {
    "id": "qTYHh3hs7Hy5"
   },
   "outputs": [
    {
     "name": "stderr",
     "output_type": "stream",
     "text": [
      "/home/latna/.local/lib/python3.9/site-packages/ipykernel/ipkernel.py:283: DeprecationWarning: `should_run_async` will not call `transform_cell` automatically in the future. Please pass the result to `transformed_cell` argument and any exception that happen during thetransform in `preprocessing_exc_tuple` in IPython 7.17 and above.\n",
      "  and should_run_async(code)\n"
     ]
    }
   ],
   "source": [
    "import numpy as np\n",
    "from math import log10\n",
    "\n",
    "freq_range = [70, 190]        # Гц\n",
    "num_cells = [8, 6]            # шт\n",
    "positive_range = [0.8, 2.5]   # сек\n",
    "\n",
    "def reduced_specgram(x, sr):\n",
    "    # спектрограмма делается с умолчательными настройками и на удивление это нам подходит\n",
    "    s = librosa.stft(x)  # -> s(f,t)\n",
    "    \n",
    "    ff = librosa.fft_frequencies(sr)\n",
    "    nf1 = np.flatnonzero(ff <= freq_range[0])[-1]\n",
    "    nf2 = np.flatnonzero(ff > freq_range[1])[0]\n",
    "    s = s[nf1:nf2, :]\n",
    "\n",
    "    nc = num_cells[0] * num_cells[1]\n",
    "    res = np.ndarray((nc * 2,))\n",
    "    steps = s.shape / (1.0 * np.array(num_cells))\n",
    "    pos = 0\n",
    "    for nf_cell in range(0, num_cells[0]):\n",
    "        nf1 = round(nf_cell * steps[0])\n",
    "        nf2 = round((nf_cell + 1) * steps[0])\n",
    "        for nt_cell in range(0, num_cells[1]):\n",
    "            nt1 = round(nt_cell * steps[1])\n",
    "            nt2 = round((nt_cell + 1) * steps[1])\n",
    "             \n",
    "            s_cell = np.abs( s[nf1:nf2, nt1:nt2] )\n",
    "            # можно придумать два способа редуцировать данные в клетке:\n",
    "            # взять среднее и максимальное\n",
    "            res[pos] = 10 * log10( np.mean(s_cell**2) + 1e-20)\n",
    "            res[nc + pos] = 20 * log10( np.amax(s_cell) + 1e-10)\n",
    "\n",
    "            pos = pos + 1\n",
    "    \n",
    "    return [res[n] for n in range(0, res.shape[0])]"
   ]
  },
  {
   "cell_type": "code",
   "execution_count": 69,
   "metadata": {
    "id": "Jslbyyxg7KqJ"
   },
   "outputs": [
    {
     "name": "stdout",
     "output_type": "stream",
     "text": [
      "number of features: 96\n"
     ]
    },
    {
     "name": "stderr",
     "output_type": "stream",
     "text": [
      "/home/latna/.local/lib/python3.9/site-packages/librosa/util/utils.py:2099: DeprecationWarning: `np.float` is a deprecated alias for the builtin `float`. To silence this warning, use `float` by itself. Doing this will not modify any behavior and is safe. If you specifically wanted the numpy scalar type, use `np.float64` here.\n",
      "Deprecated in NumPy 1.20; for more details and guidance: https://numpy.org/devdocs/release/1.20.0-notes.html#deprecations\n",
      "  np.dtype(np.float): np.complex,\n",
      "/home/latna/.local/lib/python3.9/site-packages/librosa/util/utils.py:2099: DeprecationWarning: `np.complex` is a deprecated alias for the builtin `complex`. To silence this warning, use `complex` by itself. Doing this will not modify any behavior and is safe. If you specifically wanted the numpy scalar type, use `np.complex128` here.\n",
      "Deprecated in NumPy 1.20; for more details and guidance: https://numpy.org/devdocs/release/1.20.0-notes.html#deprecations\n",
      "  np.dtype(np.float): np.complex,\n"
     ]
    },
    {
     "data": {
      "text/plain": [
       "[]"
      ]
     },
     "execution_count": 69,
     "metadata": {},
     "output_type": "execute_result"
    },
    {
     "data": {
      "image/png": "[encoded data removed]",
      "text/plain": [
       "<Figure size 504x360 with 2 Axes>"
      ]
     },
     "metadata": {
      "needs_background": "light"
     },
     "output_type": "display_data"
    },
    {
     "data": {
      "image/png": "[encoded data removed]",
      "text/plain": [
       "<Figure size 504x720 with 2 Axes>"
      ]
     },
     "metadata": {
      "needs_background": "light"
     },
     "output_type": "display_data"
    }
   ],
   "source": [
    "# проверяем редуцированную спектрограмму\n",
    "import matplotlib.pyplot as plt\n",
    "\n",
    "x , sr = librosa.load(files[my_file_num])\n",
    "x = trim_and_fade(x)\n",
    "\n",
    "X = librosa.stft(x)\n",
    "Xdb = librosa.amplitude_to_db(abs(X))\n",
    "plt.figure(figsize=(7, 5))\n",
    "librosa.display.specshow(Xdb, sr=sr, x_axis='time', y_axis='log')\n",
    "plt.colorbar()\n",
    "plt.ylim((0, 500))\n",
    "\n",
    "# редуцированная спектрограмма считает только по куску сигнла\n",
    "data = reduced_specgram(x[round(positive_range[0]*sr):round(positive_range[1]*sr)], sr)\n",
    "print('number of features: ' + repr(len(data)))\n",
    "data_reshape = np.reshape(np.array(data), (num_cells[0]*2, num_cells[1]))\n",
    "plt.figure(figsize=(7, 10))\n",
    "plt.pcolor(data_reshape)\n",
    "plt.colorbar()\n",
    "plt.plot()"
   ]
  },
  {
   "cell_type": "code",
   "execution_count": 70,
   "metadata": {
    "id": "VZqskelz7N6N"
   },
   "outputs": [
    {
     "name": "stderr",
     "output_type": "stream",
     "text": [
      "  0%|          | 0/1767 [00:00<?, ?it/s]/home/latna/.local/lib/python3.9/site-packages/librosa/util/utils.py:2099: DeprecationWarning: `np.float` is a deprecated alias for the builtin `float`. To silence this warning, use `float` by itself. Doing this will not modify any behavior and is safe. If you specifically wanted the numpy scalar type, use `np.float64` here.\n",
      "Deprecated in NumPy 1.20; for more details and guidance: https://numpy.org/devdocs/release/1.20.0-notes.html#deprecations\n",
      "  np.dtype(np.float): np.complex,\n",
      "/home/latna/.local/lib/python3.9/site-packages/librosa/util/utils.py:2099: DeprecationWarning: `np.complex` is a deprecated alias for the builtin `complex`. To silence this warning, use `complex` by itself. Doing this will not modify any behavior and is safe. If you specifically wanted the numpy scalar type, use `np.complex128` here.\n",
      "Deprecated in NumPy 1.20; for more details and guidance: https://numpy.org/devdocs/release/1.20.0-notes.html#deprecations\n",
      "  np.dtype(np.float): np.complex,\n",
      "100%|██████████| 1767/1767 [06:37<00:00,  4.44it/s]\n"
     ]
    }
   ],
   "source": [
    "# создаем обучение по большим окнам\n",
    "\n",
    "import numpy as np\n",
    "from tqdm import tqdm as tqdm\n",
    "import warnings\n",
    "\n",
    "first = True\n",
    "warnings.resetwarnings()\n",
    "ws = round((positive_range[1]-positive_range[0])*sr)\n",
    "\n",
    "X3 = [] \n",
    "Y3 = []\n",
    "for id, file in tqdm(enumerate(files), total=len(files)):\n",
    "    x , sr = librosa.load(file)\n",
    "    x = trim_and_fade(x)\n",
    "  \n",
    "    if False: # опция А -  из \"0\" можно вырезать два окна, из \"1\" -- одно окно по центру\n",
    "        if labels[id]:\n",
    "            n1 = round(positive_range[0]*sr)\n",
    "            n2 = round(positive_range[1]*sr)\n",
    "            features = reduced_specgram(x[n1:n2], sr)\n",
    "            X3.append(features)\n",
    "            Y3.append(1)\n",
    "        else:\n",
    "            for wi in range(0,2):\n",
    "                if wi==0:\n",
    "                    wx = x[:ws]\n",
    "                else:\n",
    "                    wx = x[-ws:]\n",
    "                features = reduced_specgram(wx, sr)\n",
    "                X3.append(features)\n",
    "                Y3.append(0)\n",
    "    if True: # опция Б - по честному из всех файлов вырезаем одно и то же место\n",
    "        n1 = round(positive_range[0]*sr)\n",
    "        n2 = round(positive_range[1]*sr)\n",
    "        features = reduced_specgram(x[n1:n2], sr)\n",
    "        X3.append(features)\n",
    "        Y3.append(labels[id])\n",
    "\n",
    "    if first:\n",
    "        warnings.simplefilter(\"ignore\")\n",
    "        first = False\n",
    "warnings.resetwarnings()"
   ]
  },
  {
   "cell_type": "code",
   "execution_count": 71,
   "metadata": {
    "id": "q8ZPDxZv7QCJ"
   },
   "outputs": [
    {
     "name": "stderr",
     "output_type": "stream",
     "text": [
      "/home/latna/.local/lib/python3.9/site-packages/ipykernel/ipkernel.py:283: DeprecationWarning: `should_run_async` will not call `transform_cell` automatically in the future. Please pass the result to `transformed_cell` argument and any exception that happen during thetransform in `preprocessing_exc_tuple` in IPython 7.17 and above.\n",
      "  and should_run_async(code)\n"
     ]
    }
   ],
   "source": [
    "import xgboost as xgb\n",
    "model3 = xgb.XGBRegressor(objective ='binary:logistic', colsample_bytree = 0.3, learning_rate = 0.1, max_depth = 5,  n_estimators = 500, scale_pos_weight=12)"
   ]
  },
  {
   "cell_type": "code",
   "execution_count": 72,
   "metadata": {
    "id": "qpnQ9mta7anJ"
   },
   "outputs": [
    {
     "name": "stdout",
     "output_type": "stream",
     "text": [
      "[13:42:26] WARNING: ../src/learner.cc:1095: Starting in XGBoost 1.3.0, the default evaluation metric used with the objective 'binary:logistic' was changed from 'error' to 'logloss'. Explicitly set eval_metric if you'd like to restore the old behavior.\n"
     ]
    },
    {
     "data": {
      "text/plain": [
       "XGBRegressor(base_score=0.5, booster='gbtree', colsample_bylevel=1,\n",
       "             colsample_bynode=1, colsample_bytree=0.3, gamma=0, gpu_id=-1,\n",
       "             importance_type='gain', interaction_constraints='',\n",
       "             learning_rate=0.1, max_delta_step=0, max_depth=5,\n",
       "             min_child_weight=1, missing=nan, monotone_constraints='()',\n",
       "             n_estimators=500, n_jobs=24, num_parallel_tree=1,\n",
       "             objective='binary:logistic', random_state=0, reg_alpha=0,\n",
       "             reg_lambda=1, scale_pos_weight=12, subsample=1,\n",
       "             tree_method='exact', validate_parameters=1, verbosity=None)"
      ]
     },
     "execution_count": 72,
     "metadata": {},
     "output_type": "execute_result"
    }
   ],
   "source": [
    "X3_train, X3_test, Y3_train, Y3_test = train_test_split(X3, Y3, test_size=0.5, random_state=123)\n",
    "model3.fit(np.array( X3_train) ,np.array(Y3_train), verbose=True )"
   ]
  },
  {
   "cell_type": "code",
   "execution_count": 73,
   "metadata": {
    "id": "VfvT9FYD7cw7"
   },
   "outputs": [],
   "source": [
    "preds3 = model3.predict(np.array(X3_test))"
   ]
  },
  {
   "cell_type": "code",
   "execution_count": 74,
   "metadata": {
    "id": "cksTtkAX7dkq"
   },
   "outputs": [
    {
     "name": "stdout",
     "output_type": "stream",
     "text": [
      "rms: 0.368107\n",
      "Precision score:  0.7734939759036145\n",
      "Recall score:  0.8629032258064516\n",
      "Accuracy score:  0.8359728506787331\n",
      "Balanced accuracy score:  0.8396547379032258\n",
      "F1 score:  0.8157560355781449\n",
      "F1 weighted score:  0.8368590107697883\n"
     ]
    }
   ],
   "source": [
    "# reduced specgram by files\n",
    "from sklearn.metrics import mean_squared_error, precision_score, balanced_accuracy_score, f1_score, recall_score, accuracy_score, plot_roc_curve, roc_auc_score, roc_curve\n",
    "from sklearn.preprocessing import binarize\n",
    "print(\"rms: %f\" % np.sqrt(mean_squared_error(Y3_test, preds3)))\n",
    "print(\"Precision score: \",  precision_score(Y3_test,  binarize(preds3.reshape(-1, 1), threshold=0.5)))\n",
    "print(\"Recall score: \",  recall_score(Y3_test,  binarize(preds3.reshape(-1, 1), threshold=0.5)))\n",
    "print(\"Accuracy score: \",  accuracy_score(Y3_test,  binarize(preds3.reshape(-1, 1), threshold=0.5)))\n",
    "print(\"Balanced accuracy score: \",  balanced_accuracy_score(Y3_test,  binarize(preds3.reshape(-1, 1), threshold=0.5)))\n",
    "print(\"F1 score: \",  f1_score(Y3_test,  binarize(preds3.reshape(-1, 1), threshold=0.5)))\n",
    "print(\"F1 weighted score: \",  f1_score(Y3_test,  binarize(preds3.reshape(-1, 1), threshold=0.5), average = 'weighted'))"
   ]
  },
  {
   "cell_type": "code",
   "execution_count": null,
   "metadata": {},
   "outputs": [],
   "source": [
    "# stacking rock auc \n",
    "from matplotlib import pyplot\n",
    "ns_probs = [0 for _ in range(len(Y3_test))]\n",
    "# calculate scores\n",
    "ns_auc = roc_auc_score(Y3_test,, ns_probs)\n",
    "lr_auc = roc_auc_score(Y3_test,, files_preds)\n",
    "# summarize scores\n",
    "print('Constant negative: ROC AUC=%.3f' % (ns_auc))\n",
    "print('Logistic: ROC AUC=%.3f' % (lr_auc))\n",
    "# calculate roc curves\n",
    "ns_fpr, ns_tpr, _ = roc_curve(Y3_test,, ns_probs)\n",
    "lr_fpr, lr_tpr, _ = roc_curve(Y3_test,, files_preds)\n",
    "# plot the roc curve for the model\n",
    "pyplot.plot(ns_fpr, ns_tpr, linestyle='--', label='Constant negative')\n",
    "pyplot.plot(lr_fpr, lr_tpr, marker='.', label='Logistic')\n",
    "# axis labels\n",
    "pyplot.xlabel('False Positive Rate')\n",
    "pyplot.ylabel('True Positive Rate')\n",
    "# show the legend\n",
    "pyplot.legend()\n",
    "# show the plot\n",
    "pyplot.show()"
   ]
  },
  {
   "cell_type": "markdown",
   "metadata": {
    "id": "u0UWEeOpHf7h"
   },
   "source": [
    "\n",
    "\n",
    "---\n",
    "\n"
   ]
  },
  {
   "cell_type": "code",
   "execution_count": 78,
   "metadata": {},
   "outputs": [],
   "source": [
    "prepared_Y3_train = [[i] for i in Y3_train]"
   ]
  },
  {
   "cell_type": "code",
   "execution_count": 75,
   "metadata": {},
   "outputs": [
    {
     "name": "stderr",
     "output_type": "stream",
     "text": [
      "/home/latna/.local/lib/python3.9/site-packages/ipykernel/ipkernel.py:283: DeprecationWarning: `should_run_async` will not call `transform_cell` automatically in the future. Please pass the result to `transformed_cell` argument and any exception that happen during thetransform in `preprocessing_exc_tuple` in IPython 7.17 and above.\n",
      "  and should_run_async(code)\n"
     ]
    }
   ],
   "source": [
    "dal_model3 = d4p.gbt_regression_training()"
   ]
  },
  {
   "cell_type": "code",
   "execution_count": 80,
   "metadata": {},
   "outputs": [
    {
     "name": "stdout",
     "output_type": "stream",
     "text": [
      "CPU times: user 2.6 s, sys: 0 ns, total: 2.6 s\n",
      "Wall time: 494 ms\n"
     ]
    }
   ],
   "source": [
    "%%time\n",
    "dal_model3_train_results = dal_model3.compute(np.array(X3_train), np.array(prepared_Y3_train))"
   ]
  },
  {
   "cell_type": "code",
   "execution_count": 81,
   "metadata": {},
   "outputs": [],
   "source": [
    "dal_model3_test = d4p.gbt_regression_prediction()"
   ]
  },
  {
   "cell_type": "code",
   "execution_count": 95,
   "metadata": {},
   "outputs": [
    {
     "name": "stderr",
     "output_type": "stream",
     "text": [
      "/home/latna/.local/lib/python3.9/site-packages/ipykernel/ipkernel.py:283: DeprecationWarning: `should_run_async` will not call `transform_cell` automatically in the future. Please pass the result to `transformed_cell` argument and any exception that happen during thetransform in `preprocessing_exc_tuple` in IPython 7.17 and above.\n",
      "  and should_run_async(code)\n"
     ]
    }
   ],
   "source": [
    "dal_predict3_result = dal_model3_test.compute(np.array(X3_test), dal_model3_train_results.model)"
   ]
  },
  {
   "cell_type": "code",
   "execution_count": 96,
   "metadata": {},
   "outputs": [
    {
     "name": "stdout",
     "output_type": "stream",
     "text": [
      "rms: 0.370036\n",
      "Precision score:  0.779291553133515\n",
      "Recall score:  0.7688172043010753\n",
      "Accuracy score:  0.8110859728506787\n",
      "Balanced accuracy score:  0.8053070396505376\n",
      "F1 score:  0.774018944519621\n",
      "F1 weighted score:  0.8109058609540262\n"
     ]
    }
   ],
   "source": [
    "printMetrics(np.array(Y3_test), dal_predict3_result.prediction, 0.5)"
   ]
  },
  {
   "cell_type": "code",
   "execution_count": 98,
   "metadata": {},
   "outputs": [
    {
     "name": "stderr",
     "output_type": "stream",
     "text": [
      "/home/latna/.local/lib/python3.9/site-packages/ipykernel/ipkernel.py:283: DeprecationWarning: `should_run_async` will not call `transform_cell` automatically in the future. Please pass the result to `transformed_cell` argument and any exception that happen during thetransform in `preprocessing_exc_tuple` in IPython 7.17 and above.\n",
      "  and should_run_async(code)\n"
     ]
    },
    {
     "name": "stdout",
     "output_type": "stream",
     "text": [
      "Constant negative: ROC AUC=0.500\n",
      "Logistic: ROC AUC=0.886\n"
     ]
    },
    {
     "data": {
      "image/png": "[encoded data removed]",
      "text/plain": [
       "<Figure size 432x288 with 1 Axes>"
      ]
     },
     "metadata": {
      "needs_background": "light"
     },
     "output_type": "display_data"
    }
   ],
   "source": [
    "# stacking rock auc \n",
    "from matplotlib import pyplot\n",
    "ns_probs = [0 for _ in range(len(Y3_test))]\n",
    "# calculate scores\n",
    "ns_auc = roc_auc_score(Y3_test, ns_probs)\n",
    "lr_auc = roc_auc_score(Y3_test, dal_predict3_result.prediction)\n",
    "# summarize scores\n",
    "print('Constant negative: ROC AUC=%.3f' % (ns_auc))\n",
    "print('Logistic: ROC AUC=%.3f' % (lr_auc))\n",
    "# calculate roc curves\n",
    "ns_fpr, ns_tpr, _ = roc_curve(Y3_test, ns_probs)\n",
    "lr_fpr, lr_tpr, _ = roc_curve(Y3_test, dal_predict3_result.prediction)\n",
    "# plot the roc curve for the model\n",
    "pyplot.plot(ns_fpr, ns_tpr, linestyle='--', label='Constant negative')\n",
    "pyplot.plot(lr_fpr, lr_tpr, marker='.', label='Logistic')\n",
    "# axis labels\n",
    "pyplot.xlabel('False Positive Rate')\n",
    "pyplot.ylabel('True Positive Rate')\n",
    "# show the legend\n",
    "pyplot.legend()\n",
    "# show the plot\n",
    "pyplot.show()"
   ]
  },
  {
   "cell_type": "code",
   "execution_count": null,
   "metadata": {},
   "outputs": [],
   "source": []
  }
 ],
 "metadata": {
  "colab": {
   "collapsed_sections": [
    "shLCOZl0FjE1",
    "2RLMtpv9WnWB",
    "I9yOyhMeZMvB",
    "CNi21aI8R9Bi",
    "wVnr6OIdszlo"
   ],
   "name": "AnomaliesDetectionInSound-realdata-paper.ipynb",
   "provenance": []
  },
  "kernelspec": {
   "display_name": "Python 3",
   "language": "python",
   "name": "python3"
  },
  "language_info": {
   "codemirror_mode": {
    "name": "ipython",
    "version": 3
   },
   "file_extension": ".py",
   "mimetype": "text/x-python",
   "name": "python",
   "nbconvert_exporter": "python",
   "pygments_lexer": "ipython3",
   "version": "3.9.5"
  },
  "widgets": {
   "application/vnd.jupyter.widget-state+json": {
    "0c5cc91401a6468cb48e0a4eac1e810a": {
     "model_module": "@jupyter-widgets/controls",
     "model_module_version": "1.5.0",
     "model_name": "ProgressStyleModel",
     "state": {
      "_model_module": "@jupyter-widgets/controls",
      "_model_module_version": "1.5.0",
      "_model_name": "ProgressStyleModel",
      "_view_count": null,
      "_view_module": "@jupyter-widgets/base",
      "_view_module_version": "1.2.0",
      "_view_name": "StyleView",
      "bar_color": null,
      "description_width": "initial"
     }
    },
    "24be23620ecc4503a0433698c0fe5cd3": {
     "model_module": "@jupyter-widgets/controls",
     "model_module_version": "1.5.0",
     "model_name": "ProgressStyleModel",
     "state": {
      "_model_module": "@jupyter-widgets/controls",
      "_model_module_version": "1.5.0",
      "_model_name": "ProgressStyleModel",
      "_view_count": null,
      "_view_module": "@jupyter-widgets/base",
      "_view_module_version": "1.2.0",
      "_view_name": "StyleView",
      "bar_color": null,
      "description_width": "initial"
     }
    },
    "3cf0a683bb3d472e866d41eb2a821a3d": {
     "model_module": "@jupyter-widgets/controls",
     "model_module_version": "1.5.0",
     "model_name": "HTMLModel",
     "state": {
      "_dom_classes": [],
      "_model_module": "@jupyter-widgets/controls",
      "_model_module_version": "1.5.0",
      "_model_name": "HTMLModel",
      "_view_count": null,
      "_view_module": "@jupyter-widgets/controls",
      "_view_module_version": "1.5.0",
      "_view_name": "HTMLView",
      "description": "",
      "description_tooltip": null,
      "layout": "IPY_MODEL_3fe284e75d984a85b5098fbe5c06a192",
      "placeholder": "​",
      "style": "IPY_MODEL_b134da031b7348b5a8c45d16e227cc3e",
      "value": " 579/579 [2:34:38&lt;00:00, 16.03s/it]"
     }
    },
    "3fe284e75d984a85b5098fbe5c06a192": {
     "model_module": "@jupyter-widgets/base",
     "model_module_version": "1.2.0",
     "model_name": "LayoutModel",
     "state": {
      "_model_module": "@jupyter-widgets/base",
      "_model_module_version": "1.2.0",
      "_model_name": "LayoutModel",
      "_view_count": null,
      "_view_module": "@jupyter-widgets/base",
      "_view_module_version": "1.2.0",
      "_view_name": "LayoutView",
      "align_content": null,
      "align_items": null,
      "align_self": null,
      "border": null,
      "bottom": null,
      "display": null,
      "flex": null,
      "flex_flow": null,
      "grid_area": null,
      "grid_auto_columns": null,
      "grid_auto_flow": null,
      "grid_auto_rows": null,
      "grid_column": null,
      "grid_gap": null,
      "grid_row": null,
      "grid_template_areas": null,
      "grid_template_columns": null,
      "grid_template_rows": null,
      "height": null,
      "justify_content": null,
      "justify_items": null,
      "left": null,
      "margin": null,
      "max_height": null,
      "max_width": null,
      "min_height": null,
      "min_width": null,
      "object_fit": null,
      "object_position": null,
      "order": null,
      "overflow": null,
      "overflow_x": null,
      "overflow_y": null,
      "padding": null,
      "right": null,
      "top": null,
      "visibility": null,
      "width": null
     }
    },
    "494ec10051db4174a1c267007cef85d4": {
     "model_module": "@jupyter-widgets/controls",
     "model_module_version": "1.5.0",
     "model_name": "HBoxModel",
     "state": {
      "_dom_classes": [],
      "_model_module": "@jupyter-widgets/controls",
      "_model_module_version": "1.5.0",
      "_model_name": "HBoxModel",
      "_view_count": null,
      "_view_module": "@jupyter-widgets/controls",
      "_view_module_version": "1.5.0",
      "_view_name": "HBoxView",
      "box_style": "",
      "children": [
       "IPY_MODEL_54161db8df2f465cbce977cd28742e99",
       "IPY_MODEL_6ff11554958846c8b5a6d17b3e6e46f0"
      ],
      "layout": "IPY_MODEL_db687340dac8423ab8b6c349ec32b096"
     }
    },
    "538df931ec464b55bb30a7b20b39423b": {
     "model_module": "@jupyter-widgets/controls",
     "model_module_version": "1.5.0",
     "model_name": "HBoxModel",
     "state": {
      "_dom_classes": [],
      "_model_module": "@jupyter-widgets/controls",
      "_model_module_version": "1.5.0",
      "_model_name": "HBoxModel",
      "_view_count": null,
      "_view_module": "@jupyter-widgets/controls",
      "_view_module_version": "1.5.0",
      "_view_name": "HBoxView",
      "box_style": "",
      "children": [
       "IPY_MODEL_cea399aa91cf4722819ff64a9206ab8a",
       "IPY_MODEL_3cf0a683bb3d472e866d41eb2a821a3d"
      ],
      "layout": "IPY_MODEL_6c0af060dacf456a9b137695536afbc5"
     }
    },
    "54161db8df2f465cbce977cd28742e99": {
     "model_module": "@jupyter-widgets/controls",
     "model_module_version": "1.5.0",
     "model_name": "FloatProgressModel",
     "state": {
      "_dom_classes": [],
      "_model_module": "@jupyter-widgets/controls",
      "_model_module_version": "1.5.0",
      "_model_name": "FloatProgressModel",
      "_view_count": null,
      "_view_module": "@jupyter-widgets/controls",
      "_view_module_version": "1.5.0",
      "_view_name": "ProgressView",
      "bar_style": "success",
      "description": "100%",
      "description_tooltip": null,
      "layout": "IPY_MODEL_b1a2f902faae4f0e9c75b8355ca68620",
      "max": 1767,
      "min": 0,
      "orientation": "horizontal",
      "style": "IPY_MODEL_0c5cc91401a6468cb48e0a4eac1e810a",
      "value": 1767
     }
    },
    "6c0af060dacf456a9b137695536afbc5": {
     "model_module": "@jupyter-widgets/base",
     "model_module_version": "1.2.0",
     "model_name": "LayoutModel",
     "state": {
      "_model_module": "@jupyter-widgets/base",
      "_model_module_version": "1.2.0",
      "_model_name": "LayoutModel",
      "_view_count": null,
      "_view_module": "@jupyter-widgets/base",
      "_view_module_version": "1.2.0",
      "_view_name": "LayoutView",
      "align_content": null,
      "align_items": null,
      "align_self": null,
      "border": null,
      "bottom": null,
      "display": null,
      "flex": null,
      "flex_flow": null,
      "grid_area": null,
      "grid_auto_columns": null,
      "grid_auto_flow": null,
      "grid_auto_rows": null,
      "grid_column": null,
      "grid_gap": null,
      "grid_row": null,
      "grid_template_areas": null,
      "grid_template_columns": null,
      "grid_template_rows": null,
      "height": null,
      "justify_content": null,
      "justify_items": null,
      "left": null,
      "margin": null,
      "max_height": null,
      "max_width": null,
      "min_height": null,
      "min_width": null,
      "object_fit": null,
      "object_position": null,
      "order": null,
      "overflow": null,
      "overflow_x": null,
      "overflow_y": null,
      "padding": null,
      "right": null,
      "top": null,
      "visibility": null,
      "width": null
     }
    },
    "6ff11554958846c8b5a6d17b3e6e46f0": {
     "model_module": "@jupyter-widgets/controls",
     "model_module_version": "1.5.0",
     "model_name": "HTMLModel",
     "state": {
      "_dom_classes": [],
      "_model_module": "@jupyter-widgets/controls",
      "_model_module_version": "1.5.0",
      "_model_name": "HTMLModel",
      "_view_count": null,
      "_view_module": "@jupyter-widgets/controls",
      "_view_module_version": "1.5.0",
      "_view_name": "HTMLView",
      "description": "",
      "description_tooltip": null,
      "layout": "IPY_MODEL_afdaa5c1523e4f5585a2f5462e7fd20d",
      "placeholder": "​",
      "style": "IPY_MODEL_a445caa14a1a4da0b6d11bf0d432e7ad",
      "value": " 1767/1767 [2:53:51&lt;00:00,  5.90s/it]"
     }
    },
    "7fe7dbd314db41ab832d6f8c799d63b9": {
     "model_module": "@jupyter-widgets/controls",
     "model_module_version": "1.5.0",
     "model_name": "HTMLModel",
     "state": {
      "_dom_classes": [],
      "_model_module": "@jupyter-widgets/controls",
      "_model_module_version": "1.5.0",
      "_model_name": "HTMLModel",
      "_view_count": null,
      "_view_module": "@jupyter-widgets/controls",
      "_view_module_version": "1.5.0",
      "_view_name": "HTMLView",
      "description": "",
      "description_tooltip": null,
      "layout": "IPY_MODEL_f085a9c375fb43af96dae4b4bb7bcb91",
      "placeholder": "​",
      "style": "IPY_MODEL_bc1cc92115a747b78a960037a496c0bb",
      "value": " 1767/1767 [1:12:54&lt;00:00,  2.48s/it]"
     }
    },
    "8c4184e1581642eb8ce43e1cc75cc4bb": {
     "model_module": "@jupyter-widgets/controls",
     "model_module_version": "1.5.0",
     "model_name": "HBoxModel",
     "state": {
      "_dom_classes": [],
      "_model_module": "@jupyter-widgets/controls",
      "_model_module_version": "1.5.0",
      "_model_name": "HBoxModel",
      "_view_count": null,
      "_view_module": "@jupyter-widgets/controls",
      "_view_module_version": "1.5.0",
      "_view_name": "HBoxView",
      "box_style": "",
      "children": [
       "IPY_MODEL_a463e7392ee24c778269029b34955c23",
       "IPY_MODEL_7fe7dbd314db41ab832d6f8c799d63b9"
      ],
      "layout": "IPY_MODEL_b9de563b04e7476e8393e0f89035dfe9"
     }
    },
    "95cf03e05da94b75bd88679610bc1727": {
     "model_module": "@jupyter-widgets/controls",
     "model_module_version": "1.5.0",
     "model_name": "ProgressStyleModel",
     "state": {
      "_model_module": "@jupyter-widgets/controls",
      "_model_module_version": "1.5.0",
      "_model_name": "ProgressStyleModel",
      "_view_count": null,
      "_view_module": "@jupyter-widgets/base",
      "_view_module_version": "1.2.0",
      "_view_name": "StyleView",
      "bar_color": null,
      "description_width": "initial"
     }
    },
    "a445caa14a1a4da0b6d11bf0d432e7ad": {
     "model_module": "@jupyter-widgets/controls",
     "model_module_version": "1.5.0",
     "model_name": "DescriptionStyleModel",
     "state": {
      "_model_module": "@jupyter-widgets/controls",
      "_model_module_version": "1.5.0",
      "_model_name": "DescriptionStyleModel",
      "_view_count": null,
      "_view_module": "@jupyter-widgets/base",
      "_view_module_version": "1.2.0",
      "_view_name": "StyleView",
      "description_width": ""
     }
    },
    "a463e7392ee24c778269029b34955c23": {
     "model_module": "@jupyter-widgets/controls",
     "model_module_version": "1.5.0",
     "model_name": "FloatProgressModel",
     "state": {
      "_dom_classes": [],
      "_model_module": "@jupyter-widgets/controls",
      "_model_module_version": "1.5.0",
      "_model_name": "FloatProgressModel",
      "_view_count": null,
      "_view_module": "@jupyter-widgets/controls",
      "_view_module_version": "1.5.0",
      "_view_name": "ProgressView",
      "bar_style": "success",
      "description": "100%",
      "description_tooltip": null,
      "layout": "IPY_MODEL_e1d856e26fa34d14ba641dce3c982ed8",
      "max": 1767,
      "min": 0,
      "orientation": "horizontal",
      "style": "IPY_MODEL_24be23620ecc4503a0433698c0fe5cd3",
      "value": 1767
     }
    },
    "afdaa5c1523e4f5585a2f5462e7fd20d": {
     "model_module": "@jupyter-widgets/base",
     "model_module_version": "1.2.0",
     "model_name": "LayoutModel",
     "state": {
      "_model_module": "@jupyter-widgets/base",
      "_model_module_version": "1.2.0",
      "_model_name": "LayoutModel",
      "_view_count": null,
      "_view_module": "@jupyter-widgets/base",
      "_view_module_version": "1.2.0",
      "_view_name": "LayoutView",
      "align_content": null,
      "align_items": null,
      "align_self": null,
      "border": null,
      "bottom": null,
      "display": null,
      "flex": null,
      "flex_flow": null,
      "grid_area": null,
      "grid_auto_columns": null,
      "grid_auto_flow": null,
      "grid_auto_rows": null,
      "grid_column": null,
      "grid_gap": null,
      "grid_row": null,
      "grid_template_areas": null,
      "grid_template_columns": null,
      "grid_template_rows": null,
      "height": null,
      "justify_content": null,
      "justify_items": null,
      "left": null,
      "margin": null,
      "max_height": null,
      "max_width": null,
      "min_height": null,
      "min_width": null,
      "object_fit": null,
      "object_position": null,
      "order": null,
      "overflow": null,
      "overflow_x": null,
      "overflow_y": null,
      "padding": null,
      "right": null,
      "top": null,
      "visibility": null,
      "width": null
     }
    },
    "b134da031b7348b5a8c45d16e227cc3e": {
     "model_module": "@jupyter-widgets/controls",
     "model_module_version": "1.5.0",
     "model_name": "DescriptionStyleModel",
     "state": {
      "_model_module": "@jupyter-widgets/controls",
      "_model_module_version": "1.5.0",
      "_model_name": "DescriptionStyleModel",
      "_view_count": null,
      "_view_module": "@jupyter-widgets/base",
      "_view_module_version": "1.2.0",
      "_view_name": "StyleView",
      "description_width": ""
     }
    },
    "b1a2f902faae4f0e9c75b8355ca68620": {
     "model_module": "@jupyter-widgets/base",
     "model_module_version": "1.2.0",
     "model_name": "LayoutModel",
     "state": {
      "_model_module": "@jupyter-widgets/base",
      "_model_module_version": "1.2.0",
      "_model_name": "LayoutModel",
      "_view_count": null,
      "_view_module": "@jupyter-widgets/base",
      "_view_module_version": "1.2.0",
      "_view_name": "LayoutView",
      "align_content": null,
      "align_items": null,
      "align_self": null,
      "border": null,
      "bottom": null,
      "display": null,
      "flex": null,
      "flex_flow": null,
      "grid_area": null,
      "grid_auto_columns": null,
      "grid_auto_flow": null,
      "grid_auto_rows": null,
      "grid_column": null,
      "grid_gap": null,
      "grid_row": null,
      "grid_template_areas": null,
      "grid_template_columns": null,
      "grid_template_rows": null,
      "height": null,
      "justify_content": null,
      "justify_items": null,
      "left": null,
      "margin": null,
      "max_height": null,
      "max_width": null,
      "min_height": null,
      "min_width": null,
      "object_fit": null,
      "object_position": null,
      "order": null,
      "overflow": null,
      "overflow_x": null,
      "overflow_y": null,
      "padding": null,
      "right": null,
      "top": null,
      "visibility": null,
      "width": null
     }
    },
    "b9de563b04e7476e8393e0f89035dfe9": {
     "model_module": "@jupyter-widgets/base",
     "model_module_version": "1.2.0",
     "model_name": "LayoutModel",
     "state": {
      "_model_module": "@jupyter-widgets/base",
      "_model_module_version": "1.2.0",
      "_model_name": "LayoutModel",
      "_view_count": null,
      "_view_module": "@jupyter-widgets/base",
      "_view_module_version": "1.2.0",
      "_view_name": "LayoutView",
      "align_content": null,
      "align_items": null,
      "align_self": null,
      "border": null,
      "bottom": null,
      "display": null,
      "flex": null,
      "flex_flow": null,
      "grid_area": null,
      "grid_auto_columns": null,
      "grid_auto_flow": null,
      "grid_auto_rows": null,
      "grid_column": null,
      "grid_gap": null,
      "grid_row": null,
      "grid_template_areas": null,
      "grid_template_columns": null,
      "grid_template_rows": null,
      "height": null,
      "justify_content": null,
      "justify_items": null,
      "left": null,
      "margin": null,
      "max_height": null,
      "max_width": null,
      "min_height": null,
      "min_width": null,
      "object_fit": null,
      "object_position": null,
      "order": null,
      "overflow": null,
      "overflow_x": null,
      "overflow_y": null,
      "padding": null,
      "right": null,
      "top": null,
      "visibility": null,
      "width": null
     }
    },
    "bc1cc92115a747b78a960037a496c0bb": {
     "model_module": "@jupyter-widgets/controls",
     "model_module_version": "1.5.0",
     "model_name": "DescriptionStyleModel",
     "state": {
      "_model_module": "@jupyter-widgets/controls",
      "_model_module_version": "1.5.0",
      "_model_name": "DescriptionStyleModel",
      "_view_count": null,
      "_view_module": "@jupyter-widgets/base",
      "_view_module_version": "1.2.0",
      "_view_name": "StyleView",
      "description_width": ""
     }
    },
    "cb5e742f12a448fdbe95460a60854881": {
     "model_module": "@jupyter-widgets/base",
     "model_module_version": "1.2.0",
     "model_name": "LayoutModel",
     "state": {
      "_model_module": "@jupyter-widgets/base",
      "_model_module_version": "1.2.0",
      "_model_name": "LayoutModel",
      "_view_count": null,
      "_view_module": "@jupyter-widgets/base",
      "_view_module_version": "1.2.0",
      "_view_name": "LayoutView",
      "align_content": null,
      "align_items": null,
      "align_self": null,
      "border": null,
      "bottom": null,
      "display": null,
      "flex": null,
      "flex_flow": null,
      "grid_area": null,
      "grid_auto_columns": null,
      "grid_auto_flow": null,
      "grid_auto_rows": null,
      "grid_column": null,
      "grid_gap": null,
      "grid_row": null,
      "grid_template_areas": null,
      "grid_template_columns": null,
      "grid_template_rows": null,
      "height": null,
      "justify_content": null,
      "justify_items": null,
      "left": null,
      "margin": null,
      "max_height": null,
      "max_width": null,
      "min_height": null,
      "min_width": null,
      "object_fit": null,
      "object_position": null,
      "order": null,
      "overflow": null,
      "overflow_x": null,
      "overflow_y": null,
      "padding": null,
      "right": null,
      "top": null,
      "visibility": null,
      "width": null
     }
    },
    "cea399aa91cf4722819ff64a9206ab8a": {
     "model_module": "@jupyter-widgets/controls",
     "model_module_version": "1.5.0",
     "model_name": "FloatProgressModel",
     "state": {
      "_dom_classes": [],
      "_model_module": "@jupyter-widgets/controls",
      "_model_module_version": "1.5.0",
      "_model_name": "FloatProgressModel",
      "_view_count": null,
      "_view_module": "@jupyter-widgets/controls",
      "_view_module_version": "1.5.0",
      "_view_name": "ProgressView",
      "bar_style": "success",
      "description": "100%",
      "description_tooltip": null,
      "layout": "IPY_MODEL_cb5e742f12a448fdbe95460a60854881",
      "max": 579,
      "min": 0,
      "orientation": "horizontal",
      "style": "IPY_MODEL_95cf03e05da94b75bd88679610bc1727",
      "value": 579
     }
    },
    "db687340dac8423ab8b6c349ec32b096": {
     "model_module": "@jupyter-widgets/base",
     "model_module_version": "1.2.0",
     "model_name": "LayoutModel",
     "state": {
      "_model_module": "@jupyter-widgets/base",
      "_model_module_version": "1.2.0",
      "_model_name": "LayoutModel",
      "_view_count": null,
      "_view_module": "@jupyter-widgets/base",
      "_view_module_version": "1.2.0",
      "_view_name": "LayoutView",
      "align_content": null,
      "align_items": null,
      "align_self": null,
      "border": null,
      "bottom": null,
      "display": null,
      "flex": null,
      "flex_flow": null,
      "grid_area": null,
      "grid_auto_columns": null,
      "grid_auto_flow": null,
      "grid_auto_rows": null,
      "grid_column": null,
      "grid_gap": null,
      "grid_row": null,
      "grid_template_areas": null,
      "grid_template_columns": null,
      "grid_template_rows": null,
      "height": null,
      "justify_content": null,
      "justify_items": null,
      "left": null,
      "margin": null,
      "max_height": null,
      "max_width": null,
      "min_height": null,
      "min_width": null,
      "object_fit": null,
      "object_position": null,
      "order": null,
      "overflow": null,
      "overflow_x": null,
      "overflow_y": null,
      "padding": null,
      "right": null,
      "top": null,
      "visibility": null,
      "width": null
     }
    },
    "e1d856e26fa34d14ba641dce3c982ed8": {
     "model_module": "@jupyter-widgets/base",
     "model_module_version": "1.2.0",
     "model_name": "LayoutModel",
     "state": {
      "_model_module": "@jupyter-widgets/base",
      "_model_module_version": "1.2.0",
      "_model_name": "LayoutModel",
      "_view_count": null,
      "_view_module": "@jupyter-widgets/base",
      "_view_module_version": "1.2.0",
      "_view_name": "LayoutView",
      "align_content": null,
      "align_items": null,
      "align_self": null,
      "border": null,
      "bottom": null,
      "display": null,
      "flex": null,
      "flex_flow": null,
      "grid_area": null,
      "grid_auto_columns": null,
      "grid_auto_flow": null,
      "grid_auto_rows": null,
      "grid_column": null,
      "grid_gap": null,
      "grid_row": null,
      "grid_template_areas": null,
      "grid_template_columns": null,
      "grid_template_rows": null,
      "height": null,
      "justify_content": null,
      "justify_items": null,
      "left": null,
      "margin": null,
      "max_height": null,
      "max_width": null,
      "min_height": null,
      "min_width": null,
      "object_fit": null,
      "object_position": null,
      "order": null,
      "overflow": null,
      "overflow_x": null,
      "overflow_y": null,
      "padding": null,
      "right": null,
      "top": null,
      "visibility": null,
      "width": null
     }
    },
    "f085a9c375fb43af96dae4b4bb7bcb91": {
     "model_module": "@jupyter-widgets/base",
     "model_module_version": "1.2.0",
     "model_name": "LayoutModel",
     "state": {
      "_model_module": "@jupyter-widgets/base",
      "_model_module_version": "1.2.0",
      "_model_name": "LayoutModel",
      "_view_count": null,
      "_view_module": "@jupyter-widgets/base",
      "_view_module_version": "1.2.0",
      "_view_name": "LayoutView",
      "align_content": null,
      "align_items": null,
      "align_self": null,
      "border": null,
      "bottom": null,
      "display": null,
      "flex": null,
      "flex_flow": null,
      "grid_area": null,
      "grid_auto_columns": null,
      "grid_auto_flow": null,
      "grid_auto_rows": null,
      "grid_column": null,
      "grid_gap": null,
      "grid_row": null,
      "grid_template_areas": null,
      "grid_template_columns": null,
      "grid_template_rows": null,
      "height": null,
      "justify_content": null,
      "justify_items": null,
      "left": null,
      "margin": null,
      "max_height": null,
      "max_width": null,
      "min_height": null,
      "min_width": null,
      "object_fit": null,
      "object_position": null,
      "order": null,
      "overflow": null,
      "overflow_x": null,
      "overflow_y": null,
      "padding": null,
      "right": null,
      "top": null,
      "visibility": null,
      "width": null
     }
    }
   }
  }
 },
 "nbformat": 4,
 "nbformat_minor": 1
}
